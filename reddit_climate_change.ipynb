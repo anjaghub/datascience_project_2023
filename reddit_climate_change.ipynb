{
 "cells": [
  {
   "attachments": {},
   "cell_type": "markdown",
   "metadata": {},
   "source": [
    "# Reddit Climate Change\n",
    "Supervision: Prof. Dr. Jan Fabian Ehmke\n",
    "\n",
    "Group members: Britz Luis, Huber Anja, Krause Felix Elias, Preda Yvonne-Nadine\n",
    "\n",
    "Time: Summer term 2023 \n",
    "\n",
    "Data: https://www.kaggle.com/datasets/pavellexyr/the-reddit-climate-change-dataset"
   ]
  },
  {
   "attachments": {},
   "cell_type": "markdown",
   "metadata": {},
   "source": [
    "## Project Understanding\n",
    "- Research question / project goal --> will be set after first data investigation and group discussion\n",
    "- Legal limitations? Privacy limitations?\n",
    "- Who is giving the name to a subreddit; the author of the subreddit?\n",
    "- Are there @ mentions in reddit posts?\n",
    "\n",
    "### Information from Kaggle\n",
    "- All the posts and comments on Reddit mentioning the terms \"climate\" and \"change\"\n",
    "- The data does not include usernames\n",
    "\n",
    "### Analysis Ideas:\n",
    "- Sentiment analysis (basic)\n",
    "- Bot/troll detection (advanced)\n",
    "- Something with network analysis (joining posts and comments if possible)\n",
    "- Use reddit API to get more features\n"
   ]
  },
  {
   "cell_type": "code",
   "execution_count": null,
   "metadata": {},
   "outputs": [],
   "source": [
    "# Preparing the environment\n",
    "%pip install pandas\n",
    "%pip install wordcloud\n",
    "%pip install nltk\n",
    "%pip install scikit-learn\n",
    "\n",
    "import pandas as pd\n",
    "import numpy as np\n",
    "import matplotlib.pyplot as plt\n",
    "import nltk\n",
    "import re\n",
    "import seaborn as sns\n",
    "import matplotlib.pyplot as plt"
   ]
  },
  {
   "cell_type": "code",
   "execution_count": 8,
   "metadata": {},
   "outputs": [],
   "source": [
    "# Importing data\n",
    "raw_comments = pd.read_csv('data/the-reddit-climate-change-dataset-comments.csv', nrows=1000) # Sample for start!\n",
    "raw_posts = pd.read_csv('data/the-reddit-climate-change-dataset-posts.csv', nrows=1000)"
   ]
  },
  {
   "attachments": {},
   "cell_type": "markdown",
   "metadata": {},
   "source": [
    "## Data Unterstanding"
   ]
  },
  {
   "attachments": {},
   "cell_type": "markdown",
   "metadata": {},
   "source": [
    "### Comments Dataset"
   ]
  },
  {
   "cell_type": "code",
   "execution_count": 6,
   "metadata": {},
   "outputs": [
    {
     "data": {
      "text/html": [
       "<div>\n",
       "<style scoped>\n",
       "    .dataframe tbody tr th:only-of-type {\n",
       "        vertical-align: middle;\n",
       "    }\n",
       "\n",
       "    .dataframe tbody tr th {\n",
       "        vertical-align: top;\n",
       "    }\n",
       "\n",
       "    .dataframe thead th {\n",
       "        text-align: right;\n",
       "    }\n",
       "</style>\n",
       "<table border=\"1\" class=\"dataframe\">\n",
       "  <thead>\n",
       "    <tr style=\"text-align: right;\">\n",
       "      <th></th>\n",
       "      <th>type</th>\n",
       "      <th>id</th>\n",
       "      <th>subreddit.id</th>\n",
       "      <th>subreddit.name</th>\n",
       "      <th>subreddit.nsfw</th>\n",
       "      <th>created_utc</th>\n",
       "      <th>permalink</th>\n",
       "      <th>body</th>\n",
       "      <th>sentiment</th>\n",
       "      <th>score</th>\n",
       "    </tr>\n",
       "  </thead>\n",
       "  <tbody>\n",
       "    <tr>\n",
       "      <th>0</th>\n",
       "      <td>comment</td>\n",
       "      <td>imlddn9</td>\n",
       "      <td>2qh3l</td>\n",
       "      <td>news</td>\n",
       "      <td>False</td>\n",
       "      <td>1661990368</td>\n",
       "      <td>https://old.reddit.com/r/news/comments/x2cszk/...</td>\n",
       "      <td>Yeah but what the above commenter is saying is...</td>\n",
       "      <td>0.5719</td>\n",
       "      <td>2</td>\n",
       "    </tr>\n",
       "    <tr>\n",
       "      <th>1</th>\n",
       "      <td>comment</td>\n",
       "      <td>imldbeh</td>\n",
       "      <td>2qn7b</td>\n",
       "      <td>ohio</td>\n",
       "      <td>False</td>\n",
       "      <td>1661990340</td>\n",
       "      <td>https://old.reddit.com/r/Ohio/comments/x2awnp/...</td>\n",
       "      <td>Any comparison of efficiency between solar and...</td>\n",
       "      <td>-0.9877</td>\n",
       "      <td>2</td>\n",
       "    </tr>\n",
       "    <tr>\n",
       "      <th>2</th>\n",
       "      <td>comment</td>\n",
       "      <td>imldado</td>\n",
       "      <td>2qhma</td>\n",
       "      <td>newzealand</td>\n",
       "      <td>False</td>\n",
       "      <td>1661990327</td>\n",
       "      <td>https://old.reddit.com/r/newzealand/comments/x...</td>\n",
       "      <td>I'm honestly waiting for climate change and th...</td>\n",
       "      <td>-0.1143</td>\n",
       "      <td>1</td>\n",
       "    </tr>\n",
       "    <tr>\n",
       "      <th>3</th>\n",
       "      <td>comment</td>\n",
       "      <td>imld6cb</td>\n",
       "      <td>2qi09</td>\n",
       "      <td>sacramento</td>\n",
       "      <td>False</td>\n",
       "      <td>1661990278</td>\n",
       "      <td>https://old.reddit.com/r/Sacramento/comments/x...</td>\n",
       "      <td>Not just Sacramento. It's actually happening a...</td>\n",
       "      <td>0.0000</td>\n",
       "      <td>4</td>\n",
       "    </tr>\n",
       "    <tr>\n",
       "      <th>4</th>\n",
       "      <td>comment</td>\n",
       "      <td>imld0kj</td>\n",
       "      <td>2qh1i</td>\n",
       "      <td>askreddit</td>\n",
       "      <td>False</td>\n",
       "      <td>1661990206</td>\n",
       "      <td>https://old.reddit.com/r/AskReddit/comments/x2...</td>\n",
       "      <td>I think climate change tends to get some peopl...</td>\n",
       "      <td>0.6634</td>\n",
       "      <td>1</td>\n",
       "    </tr>\n",
       "  </tbody>\n",
       "</table>\n",
       "</div>"
      ],
      "text/plain": [
       "      type       id subreddit.id subreddit.name  subreddit.nsfw  created_utc  \\\n",
       "0  comment  imlddn9        2qh3l           news           False   1661990368   \n",
       "1  comment  imldbeh        2qn7b           ohio           False   1661990340   \n",
       "2  comment  imldado        2qhma     newzealand           False   1661990327   \n",
       "3  comment  imld6cb        2qi09     sacramento           False   1661990278   \n",
       "4  comment  imld0kj        2qh1i      askreddit           False   1661990206   \n",
       "\n",
       "                                           permalink  \\\n",
       "0  https://old.reddit.com/r/news/comments/x2cszk/...   \n",
       "1  https://old.reddit.com/r/Ohio/comments/x2awnp/...   \n",
       "2  https://old.reddit.com/r/newzealand/comments/x...   \n",
       "3  https://old.reddit.com/r/Sacramento/comments/x...   \n",
       "4  https://old.reddit.com/r/AskReddit/comments/x2...   \n",
       "\n",
       "                                                body  sentiment  score  \n",
       "0  Yeah but what the above commenter is saying is...     0.5719      2  \n",
       "1  Any comparison of efficiency between solar and...    -0.9877      2  \n",
       "2  I'm honestly waiting for climate change and th...    -0.1143      1  \n",
       "3  Not just Sacramento. It's actually happening a...     0.0000      4  \n",
       "4  I think climate change tends to get some peopl...     0.6634      1  "
      ]
     },
     "execution_count": 6,
     "metadata": {},
     "output_type": "execute_result"
    }
   ],
   "source": [
    "# Checking 'comments' dataset structure\n",
    "raw_comments.head()"
   ]
  },
  {
   "cell_type": "code",
   "execution_count": 36,
   "metadata": {},
   "outputs": [
    {
     "data": {
      "text/plain": [
       "type                              object\n",
       "id                                object\n",
       "subreddit.id                      object\n",
       "subreddit.name                    object\n",
       "subreddit.nsfw                      bool\n",
       "created_utc                        int64\n",
       "permalink                         object\n",
       "body                              object\n",
       "sentiment                        float64\n",
       "score                              int64\n",
       "converted_created    datetime64[ns, UTC]\n",
       "created_converted    datetime64[ns, UTC]\n",
       "created_date                      object\n",
       "dtype: object"
      ]
     },
     "execution_count": 36,
     "metadata": {},
     "output_type": "execute_result"
    }
   ],
   "source": [
    "# Checking datatypes of 'comments' dataset\n",
    "raw_comments.dtypes"
   ]
  },
  {
   "cell_type": "code",
   "execution_count": 25,
   "metadata": {},
   "outputs": [],
   "source": [
    "# Convert comments timestamps and create a date column\n",
    "raw_comments['created_converted'] = pd.to_datetime(raw_comments['created_utc'], utc=True, unit='s')\n",
    "raw_comments['created_date'] = pd.to_datetime(raw_comments['created_converted']).dt.normalize() # gets rid of the timestamp inside the date"
   ]
  },
  {
   "cell_type": "code",
   "execution_count": 34,
   "metadata": {},
   "outputs": [
    {
     "name": "stdout",
     "output_type": "stream",
     "text": [
      "The latest collected comment about 'climate change' is from 2022-08-31 23:59:28+00:00\n",
      "And the earliest is from 2022-08-31 16:54:59+00:00\n"
     ]
    }
   ],
   "source": [
    "# Latest and earliest collected comment\n",
    "print(\"The latest collected comment about 'climate change' is from\",max(raw_comments['created_converted'])) \n",
    "print(\"And the earliest is from\",min(raw_comments['created_converted'])) "
   ]
  },
  {
   "cell_type": "code",
   "execution_count": 26,
   "metadata": {},
   "outputs": [
    {
     "data": {
      "image/png": "[encoded data removed]",
      "text/plain": [
       "<Figure size 432x288 with 1 Axes>"
      ]
     },
     "metadata": {},
     "output_type": "display_data"
    }
   ],
   "source": [
    "# Distribution of datapoints\n",
    "sns.set(style=\"darkgrid\")\n",
    "sns.histplot(data=raw_comments, x=\"created_converted\")\n",
    "plt.show()"
   ]
  },
  {
   "attachments": {},
   "cell_type": "markdown",
   "metadata": {},
   "source": [
    "#### Learnings from Comments Dataset\n",
    "- There is already a sentiment score which goes from -1 to 1, how is it created?\n",
    "- The data is not equally distributed, there is way less data from the beginning of the tracking and more recent data, also there is a huge peak in the data, probably interesting to be explored"
   ]
  },
  {
   "attachments": {},
   "cell_type": "markdown",
   "metadata": {},
   "source": [
    "### Posts Dataset"
   ]
  },
  {
   "cell_type": "code",
   "execution_count": 5,
   "metadata": {},
   "outputs": [
    {
     "data": {
      "text/html": [
       "<div>\n",
       "<style scoped>\n",
       "    .dataframe tbody tr th:only-of-type {\n",
       "        vertical-align: middle;\n",
       "    }\n",
       "\n",
       "    .dataframe tbody tr th {\n",
       "        vertical-align: top;\n",
       "    }\n",
       "\n",
       "    .dataframe thead th {\n",
       "        text-align: right;\n",
       "    }\n",
       "</style>\n",
       "<table border=\"1\" class=\"dataframe\">\n",
       "  <thead>\n",
       "    <tr style=\"text-align: right;\">\n",
       "      <th></th>\n",
       "      <th>type</th>\n",
       "      <th>id</th>\n",
       "      <th>subreddit.id</th>\n",
       "      <th>subreddit.name</th>\n",
       "      <th>subreddit.nsfw</th>\n",
       "      <th>created_utc</th>\n",
       "      <th>permalink</th>\n",
       "      <th>domain</th>\n",
       "      <th>url</th>\n",
       "      <th>selftext</th>\n",
       "      <th>title</th>\n",
       "      <th>score</th>\n",
       "    </tr>\n",
       "  </thead>\n",
       "  <tbody>\n",
       "    <tr>\n",
       "      <th>0</th>\n",
       "      <td>post</td>\n",
       "      <td>x2smmw</td>\n",
       "      <td>2vh0v</td>\n",
       "      <td>democraticsocialism</td>\n",
       "      <td>False</td>\n",
       "      <td>1661990237</td>\n",
       "      <td>https://old.reddit.com/r/DemocraticSocialism/c...</td>\n",
       "      <td>twitter.com</td>\n",
       "      <td>https://twitter.com/SusanofTexas/status/156480...</td>\n",
       "      <td>NaN</td>\n",
       "      <td>“Cities without water” is our future. The lead...</td>\n",
       "      <td>15</td>\n",
       "    </tr>\n",
       "    <tr>\n",
       "      <th>1</th>\n",
       "      <td>post</td>\n",
       "      <td>x2slxy</td>\n",
       "      <td>2w844</td>\n",
       "      <td>nostupidquestions</td>\n",
       "      <td>False</td>\n",
       "      <td>1661990182</td>\n",
       "      <td>https://old.reddit.com/r/NoStupidQuestions/com...</td>\n",
       "      <td>self.nostupidquestions</td>\n",
       "      <td>NaN</td>\n",
       "      <td>Ok so I was having a conversation with my neig...</td>\n",
       "      <td>Sharks and climate change</td>\n",
       "      <td>2</td>\n",
       "    </tr>\n",
       "    <tr>\n",
       "      <th>2</th>\n",
       "      <td>post</td>\n",
       "      <td>x2slk5</td>\n",
       "      <td>6wzx9b</td>\n",
       "      <td>eduwriters</td>\n",
       "      <td>False</td>\n",
       "      <td>1661990150</td>\n",
       "      <td>https://old.reddit.com/r/EduWriters/comments/x...</td>\n",
       "      <td>eduwriters.pro</td>\n",
       "      <td>https://eduwriters.pro/?cid=2860/?utm_source=r...</td>\n",
       "      <td>NaN</td>\n",
       "      <td>How to start a climate change essay</td>\n",
       "      <td>1</td>\n",
       "    </tr>\n",
       "    <tr>\n",
       "      <th>3</th>\n",
       "      <td>post</td>\n",
       "      <td>x2sbz6</td>\n",
       "      <td>46adh7</td>\n",
       "      <td>alternatitvereality</td>\n",
       "      <td>False</td>\n",
       "      <td>1661989389</td>\n",
       "      <td>https://old.reddit.com/r/AlternatitveReality/c...</td>\n",
       "      <td>i.imgur.com</td>\n",
       "      <td>https://i.imgur.com/wJbchkQ.jpg</td>\n",
       "      <td>NaN</td>\n",
       "      <td>Ever notice that when it’s hot a few days in J...</td>\n",
       "      <td>1</td>\n",
       "    </tr>\n",
       "    <tr>\n",
       "      <th>4</th>\n",
       "      <td>post</td>\n",
       "      <td>x2sa2a</td>\n",
       "      <td>2qh1i</td>\n",
       "      <td>askreddit</td>\n",
       "      <td>False</td>\n",
       "      <td>1661989240</td>\n",
       "      <td>https://old.reddit.com/r/AskReddit/comments/x2...</td>\n",
       "      <td>self.askreddit</td>\n",
       "      <td>NaN</td>\n",
       "      <td>[deleted]</td>\n",
       "      <td>How would you react if the next American presi...</td>\n",
       "      <td>1</td>\n",
       "    </tr>\n",
       "  </tbody>\n",
       "</table>\n",
       "</div>"
      ],
      "text/plain": [
       "   type      id subreddit.id       subreddit.name  subreddit.nsfw  \\\n",
       "0  post  x2smmw        2vh0v  democraticsocialism           False   \n",
       "1  post  x2slxy        2w844    nostupidquestions           False   \n",
       "2  post  x2slk5       6wzx9b           eduwriters           False   \n",
       "3  post  x2sbz6       46adh7  alternatitvereality           False   \n",
       "4  post  x2sa2a        2qh1i            askreddit           False   \n",
       "\n",
       "   created_utc                                          permalink  \\\n",
       "0   1661990237  https://old.reddit.com/r/DemocraticSocialism/c...   \n",
       "1   1661990182  https://old.reddit.com/r/NoStupidQuestions/com...   \n",
       "2   1661990150  https://old.reddit.com/r/EduWriters/comments/x...   \n",
       "3   1661989389  https://old.reddit.com/r/AlternatitveReality/c...   \n",
       "4   1661989240  https://old.reddit.com/r/AskReddit/comments/x2...   \n",
       "\n",
       "                   domain                                                url  \\\n",
       "0             twitter.com  https://twitter.com/SusanofTexas/status/156480...   \n",
       "1  self.nostupidquestions                                                NaN   \n",
       "2          eduwriters.pro  https://eduwriters.pro/?cid=2860/?utm_source=r...   \n",
       "3             i.imgur.com                    https://i.imgur.com/wJbchkQ.jpg   \n",
       "4          self.askreddit                                                NaN   \n",
       "\n",
       "                                            selftext  \\\n",
       "0                                                NaN   \n",
       "1  Ok so I was having a conversation with my neig...   \n",
       "2                                                NaN   \n",
       "3                                                NaN   \n",
       "4                                          [deleted]   \n",
       "\n",
       "                                               title  score  \n",
       "0  “Cities without water” is our future. The lead...     15  \n",
       "1                          Sharks and climate change      2  \n",
       "2                How to start a climate change essay      1  \n",
       "3  Ever notice that when it’s hot a few days in J...      1  \n",
       "4  How would you react if the next American presi...      1  "
      ]
     },
     "execution_count": 5,
     "metadata": {},
     "output_type": "execute_result"
    }
   ],
   "source": [
    "# Checking 'posts' dataset structure\n",
    "raw_posts.head()"
   ]
  },
  {
   "cell_type": "code",
   "execution_count": 35,
   "metadata": {},
   "outputs": [
    {
     "data": {
      "text/plain": [
       "type                              object\n",
       "id                                object\n",
       "subreddit.id                      object\n",
       "subreddit.name                    object\n",
       "subreddit.nsfw                      bool\n",
       "created_utc                        int64\n",
       "permalink                         object\n",
       "domain                            object\n",
       "url                               object\n",
       "selftext                          object\n",
       "title                             object\n",
       "score                              int64\n",
       "created_converted    datetime64[ns, UTC]\n",
       "dtype: object"
      ]
     },
     "execution_count": 35,
     "metadata": {},
     "output_type": "execute_result"
    }
   ],
   "source": [
    "# Checking datatypes of 'posts' dataset\n",
    "raw_posts.dtypes"
   ]
  },
  {
   "cell_type": "code",
   "execution_count": 28,
   "metadata": {},
   "outputs": [],
   "source": [
    "# Convert post timestamps and create a date column\n",
    "raw_posts['created_converted'] = pd.to_datetime(raw_posts['created_utc'], utc=True, unit='s')\n",
    "raw_posts['created_date'] = pd.to_datetime(raw_posts['created_converted']).dt.normalize() # gets rid of the timestamp inside the date"
   ]
  },
  {
   "cell_type": "code",
   "execution_count": 31,
   "metadata": {},
   "outputs": [
    {
     "name": "stdout",
     "output_type": "stream",
     "text": [
      "The latest collected post about 'climate change' is from 2022-08-31 23:57:17+00:00\n",
      "And the earliest is from 2022-08-27 08:27:33+00:00\n"
     ]
    }
   ],
   "source": [
    "# Latest and earliest collected post\n",
    "print(\"The latest collected post about 'climate change' is from\",max(raw_posts['created_converted'])) \n",
    "print(\"And the earliest is from\",min(raw_posts['created_converted'])) \n"
   ]
  },
  {
   "cell_type": "code",
   "execution_count": 32,
   "metadata": {},
   "outputs": [
    {
     "data": {
      "image/png": "[encoded data removed]",
      "text/plain": [
       "<Figure size 432x288 with 1 Axes>"
      ]
     },
     "metadata": {},
     "output_type": "display_data"
    }
   ],
   "source": [
    "# Distribution of datapoints\n",
    "sns.set(style=\"darkgrid\")\n",
    "sns.histplot(data=raw_posts, x=\"created_converted\")\n",
    "plt.show()"
   ]
  },
  {
   "cell_type": "code",
   "execution_count": 70,
   "metadata": {},
   "outputs": [
    {
     "name": "stdout",
     "output_type": "stream",
     "text": [
      "The posts dataset has only entries of type = 'post'. There is no other type of posts in reddit\n"
     ]
    }
   ],
   "source": [
    "# Post types\n",
    "distinct_post_types = raw_posts[\"type\"].unique()\n",
    "print(\"The posts dataset has only entries of type = 'post'. There is no other type of posts in reddit\")"
   ]
  },
  {
   "cell_type": "code",
   "execution_count": 17,
   "metadata": {},
   "outputs": [
    {
     "name": "stdout",
     "output_type": "stream",
     "text": [
      "There is  269 different domains in the post dataset\n"
     ]
    }
   ],
   "source": [
    "# Domain types\n",
    "distinct_domains = raw_posts[\"domain\"].unique()\n",
    "print(\"There is \",len(distinct_domains),\"different domains in the post dataset\")\n"
   ]
  },
  {
   "cell_type": "code",
   "execution_count": 16,
   "metadata": {},
   "outputs": [
    {
     "name": "stdout",
     "output_type": "stream",
     "text": [
      "Max: 1255\n",
      "Min: -64\n",
      "Average: 9.598\n"
     ]
    }
   ],
   "source": [
    "# Score summary statistics\n",
    "print(\"Max:\",max(raw_comments[\"score\"]))\n",
    "print(\"Min:\",min(raw_comments[\"score\"]))\n",
    "print('Average:',sum(raw_comments[\"score\"])/len(raw_comments[\"score\"]))"
   ]
  },
  {
   "attachments": {},
   "cell_type": "markdown",
   "metadata": {},
   "source": [
    "#### To Dos, Open Questions and Learnings for Posts Dataset\n",
    "- Subreddits are comments underneath a main post? \n",
    "- Nsfw = \"not safe for work\"; bad content?\n",
    "- what does it mean if there is a domain such as twitter? posts get retweeted / reused from other platforms? \n",
    "- The data is not equally distributed, there is way less data from the beginning of the tracking and more recent data, also there is a huge peak in the data, probably interesting to be explored, we have way more comment data than post data"
   ]
  },
  {
   "attachments": {},
   "cell_type": "markdown",
   "metadata": {},
   "source": [
    "\n"
   ]
  },
  {
   "attachments": {},
   "cell_type": "markdown",
   "metadata": {},
   "source": [
    "## Data Preparation\n",
    "- Lemmatization"
   ]
  },
  {
   "attachments": {},
   "cell_type": "markdown",
   "metadata": {},
   "source": [
    "## Modeling / Analysis\n",
    "- Wordclouds to find content clusters?"
   ]
  },
  {
   "attachments": {},
   "cell_type": "markdown",
   "metadata": {},
   "source": [
    "## Evaluation"
   ]
  },
  {
   "attachments": {},
   "cell_type": "markdown",
   "metadata": {},
   "source": [
    "## Deployment\n",
    "Since this project is only for training purpose there probably won't be a live deployment"
   ]
  }
 ],
 "metadata": {
  "kernelspec": {
   "display_name": "Python 3",
   "language": "python",
   "name": "python3"
  },
  "language_info": {
   "codemirror_mode": {
    "name": "ipython",
    "version": 3
   },
   "file_extension": ".py",
   "mimetype": "text/x-python",
   "name": "python",
   "nbconvert_exporter": "python",
   "pygments_lexer": "ipython3",
   "version": "3.9.12"
  },
  "orig_nbformat": 4
 },
 "nbformat": 4,
 "nbformat_minor": 2
}
