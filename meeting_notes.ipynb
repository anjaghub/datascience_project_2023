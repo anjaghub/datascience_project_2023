{
 "cells": [
  {
   "attachments": {},
   "cell_type": "markdown",
   "metadata": {},
   "source": [
    "# Meeting Notes\n",
    "\n",
    "## 18.04.2023 First Group Meeting\n",
    "- Scheduled our regular meeting for Thursdays after class\n",
    "- Luis found subreddits where only bots have created (a lot, a lot, a lot of) comments --> this could be used for a bot detection algorithm\n",
    "- Yvonne is interested in trying clustering\n",
    "- We won't meet this week anymore\n",
    "- Modelling exploration till next Thursday (27.04.2023) --> decision about what we want to focus on and sending mail to Prof. Ehmke\n",
    "- Discussion how we want to use GitHub and how to structure our files\n",
    "\n",
    "## 18.04.2023 Kick Off Meeting with Project Supervisor\n",
    "- We can always ask for a feedback meeting if needed\n",
    "- It is fine if we want to build a sentiment score even though there is one existing for comments\n",
    "- All our ideas make sense \n",
    "- We should focus on one and let Prof. Ehmke know about our decision in about a week\n",
    "- Some of our data preparation ideas would also count as modelling\n",
    "- We don't need to use all the data, a subset would be fine too\n",
    "- Prof. Ehmke liked for example the ideas of bot detection, topic clustering, topic developement over time as well as description / sense making of clusters"
   ]
  }
 ],
 "metadata": {
  "language_info": {
   "name": "python"
  },
  "orig_nbformat": 4
 },
 "nbformat": 4,
 "nbformat_minor": 2
}
