{
 "cells": [
  {
   "attachments": {},
   "cell_type": "markdown",
   "metadata": {},
   "source": [
    "# Reddit Climate Change - Data Understanding\n",
    "Supervision: Prof. Dr. Jan Fabian Ehmke\n",
    "\n",
    "Group members: Britz Luis, Huber Anja, Krause Felix Elias, Preda Yvonne-Nadine\n",
    "\n",
    "Time: Summer term 2023 \n",
    "\n",
    "Data: https://www.kaggle.com/datasets/pavellexyr/the-reddit-climate-change-dataset"
   ]
  },
  {
   "attachments": {},
   "cell_type": "markdown",
   "metadata": {},
   "source": [
    "## Project Understanding\n",
    "- What is the problem to be solved, what the expected benefit?\n",
    "- How would a solution look like?\n",
    "- Research question / project goal --> will be set after first data investigation and group discussion\n",
    "- Legal limitations? Privacy limitations?\n",
    "\n",
    "</br>\n",
    "\n",
    "- How does Reddit work? What is a subcomment and a subreddit? Who is giving the name to a subreddit; the author of the subreddit?\n",
    "- Does the score come from the reddit platform? What is it? F: Number of upvotes - downvotes\n",
    "- Are there @ mentions in reddit posts?\n",
    "\n",
    "### Information from Kaggle\n",
    "- all the posts and comments on Reddit mentioning the terms \"climate\" and \"change\"\n",
    "- the data does not include usernames.\n",
    "\n",
    "Ideas:\n",
    "- categorize positive and negative attitude reddits to intervene in case its a polarizing trend (but we already have the sentiment score); I did a similar thing in a previous project for tweets \n",
    "- Is this a logical AND for the two topic nouns? \n"
   ]
  },
  {
   "cell_type": "code",
   "execution_count": null,
   "metadata": {},
   "outputs": [],
   "source": [
    "# Preparing the environment\n",
    "%pip install pandas\n",
    "%pip install wordcloud\n",
    "%pip install nltk\n",
    "%pip install scikit-learn"
   ]
  },
  {
   "cell_type": "code",
   "execution_count": 1,
   "metadata": {},
   "outputs": [],
   "source": [
    "# Loading packages\n",
    "import pandas as pd\n",
    "import numpy as np\n",
    "import matplotlib.pyplot as plt\n",
    "import nltk\n",
    "import re\n",
    "import seaborn as sns\n",
    "import matplotlib.pyplot as plt"
   ]
  },
  {
   "cell_type": "code",
   "execution_count": 2,
   "metadata": {},
   "outputs": [],
   "source": [
    "# Importing data\n",
    "raw_comments = pd.read_csv('data/the-reddit-climate-change-dataset-comments.csv', nrows=1000) # FIXME Sample for start!\n",
    "raw_posts = pd.read_csv('data/the-reddit-climate-change-dataset-posts.csv', nrows=1000)"
   ]
  },
  {
   "cell_type": "code",
   "execution_count": 14,
   "metadata": {},
   "outputs": [
    {
     "name": "stdout",
     "output_type": "stream",
     "text": [
      "type                                                        comment\n",
      "id                                                          imlch0h\n",
      "subreddit.id                                                  2qh1i\n",
      "subreddit.name                                            askreddit\n",
      "subreddit.nsfw                                                False\n",
      "created_utc                                              1661989961\n",
      "permalink         https://old.reddit.com/r/AskReddit/comments/x2...\n",
      "body              That a big part of the solution to climate cha...\n",
      "sentiment                                                    0.8937\n",
      "score                                                             2\n",
      "Name: 10, dtype: object\n",
      "That a big part of the solution to climate change is population control. The world is already way beyond its carrying capacity.\n",
      "\n",
      "I'm not talking about killing people of preventing them from having babies. I'm talking about free universal reproductive education and access to birth control. Also remove any tax breaks and other special treatments given to religious institutions that are against birth control.\n"
     ]
    }
   ],
   "source": [
    "idx = 10\n",
    "print(raw_comments.loc[idx])\n",
    "print(raw_comments.loc[idx, \"body\"])"
   ]
  },
  {
   "attachments": {},
   "cell_type": "markdown",
   "metadata": {},
   "source": [
    "## Data Unterstanding\n",
    "- What data is available?\n",
    "- Is the data relevant to the problem?\n",
    "- Is the data valid? Does it reflect expectations?\n",
    "- Is data quality, quantity, recency sufficient?\n",
    "- What do we need to take care of in data preparation?"
   ]
  },
  {
   "attachments": {},
   "cell_type": "markdown",
   "metadata": {},
   "source": [
    "### Comments Dataset"
   ]
  },
  {
   "cell_type": "code",
   "execution_count": 18,
   "metadata": {},
   "outputs": [
    {
     "data": {
      "text/html": [
       "<div>\n",
       "<style scoped>\n",
       "    .dataframe tbody tr th:only-of-type {\n",
       "        vertical-align: middle;\n",
       "    }\n",
       "\n",
       "    .dataframe tbody tr th {\n",
       "        vertical-align: top;\n",
       "    }\n",
       "\n",
       "    .dataframe thead th {\n",
       "        text-align: right;\n",
       "    }\n",
       "</style>\n",
       "<table border=\"1\" class=\"dataframe\">\n",
       "  <thead>\n",
       "    <tr style=\"text-align: right;\">\n",
       "      <th></th>\n",
       "      <th>type</th>\n",
       "      <th>id</th>\n",
       "      <th>subreddit.id</th>\n",
       "      <th>subreddit.name</th>\n",
       "      <th>subreddit.nsfw</th>\n",
       "      <th>created_utc</th>\n",
       "      <th>permalink</th>\n",
       "      <th>body</th>\n",
       "      <th>sentiment</th>\n",
       "      <th>score</th>\n",
       "    </tr>\n",
       "  </thead>\n",
       "  <tbody>\n",
       "    <tr>\n",
       "      <th>0</th>\n",
       "      <td>comment</td>\n",
       "      <td>imlddn9</td>\n",
       "      <td>2qh3l</td>\n",
       "      <td>news</td>\n",
       "      <td>False</td>\n",
       "      <td>1661990368</td>\n",
       "      <td>https://old.reddit.com/r/news/comments/x2cszk/...</td>\n",
       "      <td>Yeah but what the above commenter is saying is...</td>\n",
       "      <td>0.5719</td>\n",
       "      <td>2</td>\n",
       "    </tr>\n",
       "    <tr>\n",
       "      <th>1</th>\n",
       "      <td>comment</td>\n",
       "      <td>imldbeh</td>\n",
       "      <td>2qn7b</td>\n",
       "      <td>ohio</td>\n",
       "      <td>False</td>\n",
       "      <td>1661990340</td>\n",
       "      <td>https://old.reddit.com/r/Ohio/comments/x2awnp/...</td>\n",
       "      <td>Any comparison of efficiency between solar and...</td>\n",
       "      <td>-0.9877</td>\n",
       "      <td>2</td>\n",
       "    </tr>\n",
       "    <tr>\n",
       "      <th>2</th>\n",
       "      <td>comment</td>\n",
       "      <td>imldado</td>\n",
       "      <td>2qhma</td>\n",
       "      <td>newzealand</td>\n",
       "      <td>False</td>\n",
       "      <td>1661990327</td>\n",
       "      <td>https://old.reddit.com/r/newzealand/comments/x...</td>\n",
       "      <td>I'm honestly waiting for climate change and th...</td>\n",
       "      <td>-0.1143</td>\n",
       "      <td>1</td>\n",
       "    </tr>\n",
       "    <tr>\n",
       "      <th>3</th>\n",
       "      <td>comment</td>\n",
       "      <td>imld6cb</td>\n",
       "      <td>2qi09</td>\n",
       "      <td>sacramento</td>\n",
       "      <td>False</td>\n",
       "      <td>1661990278</td>\n",
       "      <td>https://old.reddit.com/r/Sacramento/comments/x...</td>\n",
       "      <td>Not just Sacramento. It's actually happening a...</td>\n",
       "      <td>0.0000</td>\n",
       "      <td>4</td>\n",
       "    </tr>\n",
       "    <tr>\n",
       "      <th>4</th>\n",
       "      <td>comment</td>\n",
       "      <td>imld0kj</td>\n",
       "      <td>2qh1i</td>\n",
       "      <td>askreddit</td>\n",
       "      <td>False</td>\n",
       "      <td>1661990206</td>\n",
       "      <td>https://old.reddit.com/r/AskReddit/comments/x2...</td>\n",
       "      <td>I think climate change tends to get some peopl...</td>\n",
       "      <td>0.6634</td>\n",
       "      <td>1</td>\n",
       "    </tr>\n",
       "    <tr>\n",
       "      <th>...</th>\n",
       "      <td>...</td>\n",
       "      <td>...</td>\n",
       "      <td>...</td>\n",
       "      <td>...</td>\n",
       "      <td>...</td>\n",
       "      <td>...</td>\n",
       "      <td>...</td>\n",
       "      <td>...</td>\n",
       "      <td>...</td>\n",
       "      <td>...</td>\n",
       "    </tr>\n",
       "    <tr>\n",
       "      <th>995</th>\n",
       "      <td>comment</td>\n",
       "      <td>imjkvrm</td>\n",
       "      <td>2yuqy</td>\n",
       "      <td>trueoffmychest</td>\n",
       "      <td>False</td>\n",
       "      <td>1661964929</td>\n",
       "      <td>https://old.reddit.com/r/TrueOffMyChest/commen...</td>\n",
       "      <td>You know nothing of being wrecked. Relationshi...</td>\n",
       "      <td>-0.4371</td>\n",
       "      <td>2</td>\n",
       "    </tr>\n",
       "    <tr>\n",
       "      <th>996</th>\n",
       "      <td>comment</td>\n",
       "      <td>imjkvn3</td>\n",
       "      <td>2qh1n</td>\n",
       "      <td>environment</td>\n",
       "      <td>False</td>\n",
       "      <td>1661964928</td>\n",
       "      <td>https://old.reddit.com/r/environment/comments/...</td>\n",
       "      <td>The fact that people have to own cars is surel...</td>\n",
       "      <td>-0.5719</td>\n",
       "      <td>9</td>\n",
       "    </tr>\n",
       "    <tr>\n",
       "      <th>997</th>\n",
       "      <td>comment</td>\n",
       "      <td>imjkv2f</td>\n",
       "      <td>3vl7ap</td>\n",
       "      <td>uraniumsqueeze</td>\n",
       "      <td>False</td>\n",
       "      <td>1661964921</td>\n",
       "      <td>https://old.reddit.com/r/UraniumSqueeze/commen...</td>\n",
       "      <td>As per some Swedish friends of mine.\\n\\n\"If th...</td>\n",
       "      <td>0.9776</td>\n",
       "      <td>18</td>\n",
       "    </tr>\n",
       "    <tr>\n",
       "      <th>998</th>\n",
       "      <td>comment</td>\n",
       "      <td>imjku1z</td>\n",
       "      <td>2qh1i</td>\n",
       "      <td>askreddit</td>\n",
       "      <td>False</td>\n",
       "      <td>1661964910</td>\n",
       "      <td>https://old.reddit.com/r/AskReddit/comments/x2...</td>\n",
       "      <td>This feels like that time Trump brought in a s...</td>\n",
       "      <td>0.3612</td>\n",
       "      <td>4</td>\n",
       "    </tr>\n",
       "    <tr>\n",
       "      <th>999</th>\n",
       "      <td>comment</td>\n",
       "      <td>imjkt0y</td>\n",
       "      <td>2qnc6</td>\n",
       "      <td>britishcolumbia</td>\n",
       "      <td>False</td>\n",
       "      <td>1661964899</td>\n",
       "      <td>https://old.reddit.com/r/britishcolumbia/comme...</td>\n",
       "      <td>Just did a quick scan to confirm my understand...</td>\n",
       "      <td>0.5994</td>\n",
       "      <td>13</td>\n",
       "    </tr>\n",
       "  </tbody>\n",
       "</table>\n",
       "<p>1000 rows × 10 columns</p>\n",
       "</div>"
      ],
      "text/plain": [
       "        type       id subreddit.id   subreddit.name  subreddit.nsfw  \\\n",
       "0    comment  imlddn9        2qh3l             news           False   \n",
       "1    comment  imldbeh        2qn7b             ohio           False   \n",
       "2    comment  imldado        2qhma       newzealand           False   \n",
       "3    comment  imld6cb        2qi09       sacramento           False   \n",
       "4    comment  imld0kj        2qh1i        askreddit           False   \n",
       "..       ...      ...          ...              ...             ...   \n",
       "995  comment  imjkvrm        2yuqy   trueoffmychest           False   \n",
       "996  comment  imjkvn3        2qh1n      environment           False   \n",
       "997  comment  imjkv2f       3vl7ap   uraniumsqueeze           False   \n",
       "998  comment  imjku1z        2qh1i        askreddit           False   \n",
       "999  comment  imjkt0y        2qnc6  britishcolumbia           False   \n",
       "\n",
       "     created_utc                                          permalink  \\\n",
       "0     1661990368  https://old.reddit.com/r/news/comments/x2cszk/...   \n",
       "1     1661990340  https://old.reddit.com/r/Ohio/comments/x2awnp/...   \n",
       "2     1661990327  https://old.reddit.com/r/newzealand/comments/x...   \n",
       "3     1661990278  https://old.reddit.com/r/Sacramento/comments/x...   \n",
       "4     1661990206  https://old.reddit.com/r/AskReddit/comments/x2...   \n",
       "..           ...                                                ...   \n",
       "995   1661964929  https://old.reddit.com/r/TrueOffMyChest/commen...   \n",
       "996   1661964928  https://old.reddit.com/r/environment/comments/...   \n",
       "997   1661964921  https://old.reddit.com/r/UraniumSqueeze/commen...   \n",
       "998   1661964910  https://old.reddit.com/r/AskReddit/comments/x2...   \n",
       "999   1661964899  https://old.reddit.com/r/britishcolumbia/comme...   \n",
       "\n",
       "                                                  body  sentiment  score  \n",
       "0    Yeah but what the above commenter is saying is...     0.5719      2  \n",
       "1    Any comparison of efficiency between solar and...    -0.9877      2  \n",
       "2    I'm honestly waiting for climate change and th...    -0.1143      1  \n",
       "3    Not just Sacramento. It's actually happening a...     0.0000      4  \n",
       "4    I think climate change tends to get some peopl...     0.6634      1  \n",
       "..                                                 ...        ...    ...  \n",
       "995  You know nothing of being wrecked. Relationshi...    -0.4371      2  \n",
       "996  The fact that people have to own cars is surel...    -0.5719      9  \n",
       "997  As per some Swedish friends of mine.\\n\\n\"If th...     0.9776     18  \n",
       "998  This feels like that time Trump brought in a s...     0.3612      4  \n",
       "999  Just did a quick scan to confirm my understand...     0.5994     13  \n",
       "\n",
       "[1000 rows x 10 columns]"
      ]
     },
     "execution_count": 18,
     "metadata": {},
     "output_type": "execute_result"
    }
   ],
   "source": [
    "# Checking 'comments' dataset structure\n",
    "raw_comments"
   ]
  },
  {
   "cell_type": "code",
   "execution_count": 36,
   "metadata": {},
   "outputs": [
    {
     "data": {
      "text/plain": [
       "type                              object\n",
       "id                                object\n",
       "subreddit.id                      object\n",
       "subreddit.name                    object\n",
       "subreddit.nsfw                      bool\n",
       "created_utc                        int64\n",
       "permalink                         object\n",
       "body                              object\n",
       "sentiment                        float64\n",
       "score                              int64\n",
       "converted_created    datetime64[ns, UTC]\n",
       "created_converted    datetime64[ns, UTC]\n",
       "created_date                      object\n",
       "dtype: object"
      ]
     },
     "execution_count": 36,
     "metadata": {},
     "output_type": "execute_result"
    }
   ],
   "source": [
    "# Checking datatypes of 'comments' dataset\n",
    "raw_comments.dtypes"
   ]
  },
  {
   "cell_type": "code",
   "execution_count": 17,
   "metadata": {},
   "outputs": [
    {
     "data": {
      "text/html": [
       "<div>\n",
       "<style scoped>\n",
       "    .dataframe tbody tr th:only-of-type {\n",
       "        vertical-align: middle;\n",
       "    }\n",
       "\n",
       "    .dataframe tbody tr th {\n",
       "        vertical-align: top;\n",
       "    }\n",
       "\n",
       "    .dataframe thead th {\n",
       "        text-align: right;\n",
       "    }\n",
       "</style>\n",
       "<table border=\"1\" class=\"dataframe\">\n",
       "  <thead>\n",
       "    <tr style=\"text-align: right;\">\n",
       "      <th></th>\n",
       "      <th>created_utc</th>\n",
       "      <th>sentiment</th>\n",
       "      <th>score</th>\n",
       "    </tr>\n",
       "  </thead>\n",
       "  <tbody>\n",
       "    <tr>\n",
       "      <th>count</th>\n",
       "      <td>1.000000e+03</td>\n",
       "      <td>978.000000</td>\n",
       "      <td>1000.000000</td>\n",
       "    </tr>\n",
       "    <tr>\n",
       "      <th>mean</th>\n",
       "      <td>1.661977e+09</td>\n",
       "      <td>-0.014850</td>\n",
       "      <td>9.598000</td>\n",
       "    </tr>\n",
       "    <tr>\n",
       "      <th>std</th>\n",
       "      <td>7.182209e+03</td>\n",
       "      <td>0.641392</td>\n",
       "      <td>53.784879</td>\n",
       "    </tr>\n",
       "    <tr>\n",
       "      <th>min</th>\n",
       "      <td>1.661965e+09</td>\n",
       "      <td>-0.999700</td>\n",
       "      <td>-64.000000</td>\n",
       "    </tr>\n",
       "    <tr>\n",
       "      <th>25%</th>\n",
       "      <td>1.661971e+09</td>\n",
       "      <td>-0.624650</td>\n",
       "      <td>1.000000</td>\n",
       "    </tr>\n",
       "    <tr>\n",
       "      <th>50%</th>\n",
       "      <td>1.661977e+09</td>\n",
       "      <td>0.000000</td>\n",
       "      <td>2.000000</td>\n",
       "    </tr>\n",
       "    <tr>\n",
       "      <th>75%</th>\n",
       "      <td>1.661983e+09</td>\n",
       "      <td>0.542300</td>\n",
       "      <td>5.000000</td>\n",
       "    </tr>\n",
       "    <tr>\n",
       "      <th>max</th>\n",
       "      <td>1.661990e+09</td>\n",
       "      <td>0.999100</td>\n",
       "      <td>1255.000000</td>\n",
       "    </tr>\n",
       "  </tbody>\n",
       "</table>\n",
       "</div>"
      ],
      "text/plain": [
       "        created_utc   sentiment        score\n",
       "count  1.000000e+03  978.000000  1000.000000\n",
       "mean   1.661977e+09   -0.014850     9.598000\n",
       "std    7.182209e+03    0.641392    53.784879\n",
       "min    1.661965e+09   -0.999700   -64.000000\n",
       "25%    1.661971e+09   -0.624650     1.000000\n",
       "50%    1.661977e+09    0.000000     2.000000\n",
       "75%    1.661983e+09    0.542300     5.000000\n",
       "max    1.661990e+09    0.999100  1255.000000"
      ]
     },
     "execution_count": 17,
     "metadata": {},
     "output_type": "execute_result"
    }
   ],
   "source": [
    "# Checking data ranges of 'comments' dataset\n",
    "raw_comments.describe()"
   ]
  },
  {
   "cell_type": "code",
   "execution_count": 49,
   "metadata": {},
   "outputs": [],
   "source": [
    "# Convert comments timestamps and create a date column\n",
    "raw_comments['created_converted'] = pd.to_datetime(raw_comments['created_utc'], utc=True, unit='s')\n",
    "raw_comments['created_date'] = pd.to_datetime(raw_comments['created_converted']).dt.normalize() # gets rid of the timestamp inside the date"
   ]
  },
  {
   "cell_type": "code",
   "execution_count": 59,
   "metadata": {},
   "outputs": [
    {
     "name": "stdout",
     "output_type": "stream",
     "text": [
      "The latest collected comment about 'climate change' is from \n"
     ]
    },
    {
     "data": {
      "text/plain": [
       "Timestamp('2022-08-31 23:59:28+0000', tz='UTC')"
      ]
     },
     "execution_count": 59,
     "metadata": {},
     "output_type": "execute_result"
    }
   ],
   "source": [
    "# Latest collected comment\n",
    "print(\"The latest collected comment about 'climate change' is from \") \n",
    "max(raw_comments['created_converted'])"
   ]
  },
  {
   "cell_type": "code",
   "execution_count": 60,
   "metadata": {},
   "outputs": [
    {
     "name": "stdout",
     "output_type": "stream",
     "text": [
      "And the earliest is from \n"
     ]
    },
    {
     "data": {
      "text/plain": [
       "Timestamp('2010-01-01 00:34:07+0000', tz='UTC')"
      ]
     },
     "execution_count": 60,
     "metadata": {},
     "output_type": "execute_result"
    }
   ],
   "source": [
    "# Earliest collected comment\n",
    "print(\"And the earliest is from \") \n",
    "min(raw_comments['created_converted'])"
   ]
  },
  {
   "cell_type": "code",
   "execution_count": 52,
   "metadata": {},
   "outputs": [
    {
     "data": {
      "image/png": "[encoded data removed]",
      "text/plain": [
       "<Figure size 432x288 with 1 Axes>"
      ]
     },
     "metadata": {},
     "output_type": "display_data"
    }
   ],
   "source": [
    "# Distribution of datapoints\n",
    "sns.set(style=\"darkgrid\")\n",
    "sns.histplot(data=raw_comments, x=\"created_converted\")\n",
    "plt.show()"
   ]
  },
  {
   "attachments": {},
   "cell_type": "markdown",
   "metadata": {},
   "source": [
    "#### Learnings from Comments Dataset\n",
    "- There is already a sentiment score, how is it created and what does it mean? what is the scale?\n",
    "- The data is not equally distributed, there is way less data from the beginning of the tracking and more recent data, also there is a huge peak in the data, probably interesting to be explored"
   ]
  },
  {
   "attachments": {},
   "cell_type": "markdown",
   "metadata": {},
   "source": [
    "### Posts Dataset"
   ]
  },
  {
   "cell_type": "code",
   "execution_count": 19,
   "metadata": {},
   "outputs": [
    {
     "data": {
      "text/html": [
       "<div>\n",
       "<style scoped>\n",
       "    .dataframe tbody tr th:only-of-type {\n",
       "        vertical-align: middle;\n",
       "    }\n",
       "\n",
       "    .dataframe tbody tr th {\n",
       "        vertical-align: top;\n",
       "    }\n",
       "\n",
       "    .dataframe thead th {\n",
       "        text-align: right;\n",
       "    }\n",
       "</style>\n",
       "<table border=\"1\" class=\"dataframe\">\n",
       "  <thead>\n",
       "    <tr style=\"text-align: right;\">\n",
       "      <th></th>\n",
       "      <th>type</th>\n",
       "      <th>id</th>\n",
       "      <th>subreddit.id</th>\n",
       "      <th>subreddit.name</th>\n",
       "      <th>subreddit.nsfw</th>\n",
       "      <th>created_utc</th>\n",
       "      <th>permalink</th>\n",
       "      <th>domain</th>\n",
       "      <th>url</th>\n",
       "      <th>selftext</th>\n",
       "      <th>title</th>\n",
       "      <th>score</th>\n",
       "    </tr>\n",
       "  </thead>\n",
       "  <tbody>\n",
       "    <tr>\n",
       "      <th>0</th>\n",
       "      <td>post</td>\n",
       "      <td>x2smmw</td>\n",
       "      <td>2vh0v</td>\n",
       "      <td>democraticsocialism</td>\n",
       "      <td>False</td>\n",
       "      <td>1661990237</td>\n",
       "      <td>https://old.reddit.com/r/DemocraticSocialism/c...</td>\n",
       "      <td>twitter.com</td>\n",
       "      <td>https://twitter.com/SusanofTexas/status/156480...</td>\n",
       "      <td>NaN</td>\n",
       "      <td>“Cities without water” is our future. The lead...</td>\n",
       "      <td>15</td>\n",
       "    </tr>\n",
       "    <tr>\n",
       "      <th>1</th>\n",
       "      <td>post</td>\n",
       "      <td>x2slxy</td>\n",
       "      <td>2w844</td>\n",
       "      <td>nostupidquestions</td>\n",
       "      <td>False</td>\n",
       "      <td>1661990182</td>\n",
       "      <td>https://old.reddit.com/r/NoStupidQuestions/com...</td>\n",
       "      <td>self.nostupidquestions</td>\n",
       "      <td>NaN</td>\n",
       "      <td>Ok so I was having a conversation with my neig...</td>\n",
       "      <td>Sharks and climate change</td>\n",
       "      <td>2</td>\n",
       "    </tr>\n",
       "    <tr>\n",
       "      <th>2</th>\n",
       "      <td>post</td>\n",
       "      <td>x2slk5</td>\n",
       "      <td>6wzx9b</td>\n",
       "      <td>eduwriters</td>\n",
       "      <td>False</td>\n",
       "      <td>1661990150</td>\n",
       "      <td>https://old.reddit.com/r/EduWriters/comments/x...</td>\n",
       "      <td>eduwriters.pro</td>\n",
       "      <td>https://eduwriters.pro/?cid=2860/?utm_source=r...</td>\n",
       "      <td>NaN</td>\n",
       "      <td>How to start a climate change essay</td>\n",
       "      <td>1</td>\n",
       "    </tr>\n",
       "    <tr>\n",
       "      <th>3</th>\n",
       "      <td>post</td>\n",
       "      <td>x2sbz6</td>\n",
       "      <td>46adh7</td>\n",
       "      <td>alternatitvereality</td>\n",
       "      <td>False</td>\n",
       "      <td>1661989389</td>\n",
       "      <td>https://old.reddit.com/r/AlternatitveReality/c...</td>\n",
       "      <td>i.imgur.com</td>\n",
       "      <td>https://i.imgur.com/wJbchkQ.jpg</td>\n",
       "      <td>NaN</td>\n",
       "      <td>Ever notice that when it’s hot a few days in J...</td>\n",
       "      <td>1</td>\n",
       "    </tr>\n",
       "    <tr>\n",
       "      <th>4</th>\n",
       "      <td>post</td>\n",
       "      <td>x2sa2a</td>\n",
       "      <td>2qh1i</td>\n",
       "      <td>askreddit</td>\n",
       "      <td>False</td>\n",
       "      <td>1661989240</td>\n",
       "      <td>https://old.reddit.com/r/AskReddit/comments/x2...</td>\n",
       "      <td>self.askreddit</td>\n",
       "      <td>NaN</td>\n",
       "      <td>[deleted]</td>\n",
       "      <td>How would you react if the next American presi...</td>\n",
       "      <td>1</td>\n",
       "    </tr>\n",
       "    <tr>\n",
       "      <th>...</th>\n",
       "      <td>...</td>\n",
       "      <td>...</td>\n",
       "      <td>...</td>\n",
       "      <td>...</td>\n",
       "      <td>...</td>\n",
       "      <td>...</td>\n",
       "      <td>...</td>\n",
       "      <td>...</td>\n",
       "      <td>...</td>\n",
       "      <td>...</td>\n",
       "      <td>...</td>\n",
       "      <td>...</td>\n",
       "    </tr>\n",
       "    <tr>\n",
       "      <th>995</th>\n",
       "      <td>post</td>\n",
       "      <td>wyzn9l</td>\n",
       "      <td>2qh1i</td>\n",
       "      <td>askreddit</td>\n",
       "      <td>False</td>\n",
       "      <td>1661596504</td>\n",
       "      <td>https://old.reddit.com/r/AskReddit/comments/wy...</td>\n",
       "      <td>self.askreddit</td>\n",
       "      <td>NaN</td>\n",
       "      <td>[deleted]</td>\n",
       "      <td>What countries do you think will probably not ...</td>\n",
       "      <td>0</td>\n",
       "    </tr>\n",
       "    <tr>\n",
       "      <th>996</th>\n",
       "      <td>post</td>\n",
       "      <td>wyzjbm</td>\n",
       "      <td>2qvsh</td>\n",
       "      <td>eunews</td>\n",
       "      <td>False</td>\n",
       "      <td>1661596121</td>\n",
       "      <td>https://old.reddit.com/r/EUnews/comments/wyzjb...</td>\n",
       "      <td>ft.com</td>\n",
       "      <td>https://www.ft.com/content/1178e966-db8b-45bd-...</td>\n",
       "      <td>NaN</td>\n",
       "      <td>Harvest comes early as French winemakers grapp...</td>\n",
       "      <td>1</td>\n",
       "    </tr>\n",
       "    <tr>\n",
       "      <th>997</th>\n",
       "      <td>post</td>\n",
       "      <td>wyziab</td>\n",
       "      <td>2suxs</td>\n",
       "      <td>commercialfishing</td>\n",
       "      <td>False</td>\n",
       "      <td>1661596022</td>\n",
       "      <td>https://old.reddit.com/r/commercialfishing/com...</td>\n",
       "      <td>washingtonpost.com</td>\n",
       "      <td>https://www.washingtonpost.com/business/2022/0...</td>\n",
       "      <td>NaN</td>\n",
       "      <td>Alaska’s snow crabs have disappeared. Where th...</td>\n",
       "      <td>7</td>\n",
       "    </tr>\n",
       "    <tr>\n",
       "      <th>998</th>\n",
       "      <td>post</td>\n",
       "      <td>wyy2mt</td>\n",
       "      <td>57k58i</td>\n",
       "      <td>insuretech</td>\n",
       "      <td>False</td>\n",
       "      <td>1661590811</td>\n",
       "      <td>https://old.reddit.com/r/insuretech/comments/w...</td>\n",
       "      <td>self.insuretech</td>\n",
       "      <td>NaN</td>\n",
       "      <td>Munich Re has a “strong appetite for nat cat” ...</td>\n",
       "      <td>Munich Re will adjust to climate change to sup...</td>\n",
       "      <td>1</td>\n",
       "    </tr>\n",
       "    <tr>\n",
       "      <th>999</th>\n",
       "      <td>post</td>\n",
       "      <td>wyxjb6</td>\n",
       "      <td>307ph</td>\n",
       "      <td>sciencerejects</td>\n",
       "      <td>False</td>\n",
       "      <td>1661588853</td>\n",
       "      <td>https://old.reddit.com/r/ScienceRejects/commen...</td>\n",
       "      <td>arxiv.org</td>\n",
       "      <td>https://arxiv.org/pdf/2207.12199.pdf</td>\n",
       "      <td>NaN</td>\n",
       "      <td>A meta-analysis of the total economic impact o...</td>\n",
       "      <td>1</td>\n",
       "    </tr>\n",
       "  </tbody>\n",
       "</table>\n",
       "<p>1000 rows × 12 columns</p>\n",
       "</div>"
      ],
      "text/plain": [
       "     type      id subreddit.id       subreddit.name  subreddit.nsfw  \\\n",
       "0    post  x2smmw        2vh0v  democraticsocialism           False   \n",
       "1    post  x2slxy        2w844    nostupidquestions           False   \n",
       "2    post  x2slk5       6wzx9b           eduwriters           False   \n",
       "3    post  x2sbz6       46adh7  alternatitvereality           False   \n",
       "4    post  x2sa2a        2qh1i            askreddit           False   \n",
       "..    ...     ...          ...                  ...             ...   \n",
       "995  post  wyzn9l        2qh1i            askreddit           False   \n",
       "996  post  wyzjbm        2qvsh               eunews           False   \n",
       "997  post  wyziab        2suxs    commercialfishing           False   \n",
       "998  post  wyy2mt       57k58i           insuretech           False   \n",
       "999  post  wyxjb6        307ph       sciencerejects           False   \n",
       "\n",
       "     created_utc                                          permalink  \\\n",
       "0     1661990237  https://old.reddit.com/r/DemocraticSocialism/c...   \n",
       "1     1661990182  https://old.reddit.com/r/NoStupidQuestions/com...   \n",
       "2     1661990150  https://old.reddit.com/r/EduWriters/comments/x...   \n",
       "3     1661989389  https://old.reddit.com/r/AlternatitveReality/c...   \n",
       "4     1661989240  https://old.reddit.com/r/AskReddit/comments/x2...   \n",
       "..           ...                                                ...   \n",
       "995   1661596504  https://old.reddit.com/r/AskReddit/comments/wy...   \n",
       "996   1661596121  https://old.reddit.com/r/EUnews/comments/wyzjb...   \n",
       "997   1661596022  https://old.reddit.com/r/commercialfishing/com...   \n",
       "998   1661590811  https://old.reddit.com/r/insuretech/comments/w...   \n",
       "999   1661588853  https://old.reddit.com/r/ScienceRejects/commen...   \n",
       "\n",
       "                     domain  \\\n",
       "0               twitter.com   \n",
       "1    self.nostupidquestions   \n",
       "2            eduwriters.pro   \n",
       "3               i.imgur.com   \n",
       "4            self.askreddit   \n",
       "..                      ...   \n",
       "995          self.askreddit   \n",
       "996                  ft.com   \n",
       "997      washingtonpost.com   \n",
       "998         self.insuretech   \n",
       "999               arxiv.org   \n",
       "\n",
       "                                                   url  \\\n",
       "0    https://twitter.com/SusanofTexas/status/156480...   \n",
       "1                                                  NaN   \n",
       "2    https://eduwriters.pro/?cid=2860/?utm_source=r...   \n",
       "3                      https://i.imgur.com/wJbchkQ.jpg   \n",
       "4                                                  NaN   \n",
       "..                                                 ...   \n",
       "995                                                NaN   \n",
       "996  https://www.ft.com/content/1178e966-db8b-45bd-...   \n",
       "997  https://www.washingtonpost.com/business/2022/0...   \n",
       "998                                                NaN   \n",
       "999               https://arxiv.org/pdf/2207.12199.pdf   \n",
       "\n",
       "                                              selftext  \\\n",
       "0                                                  NaN   \n",
       "1    Ok so I was having a conversation with my neig...   \n",
       "2                                                  NaN   \n",
       "3                                                  NaN   \n",
       "4                                            [deleted]   \n",
       "..                                                 ...   \n",
       "995                                          [deleted]   \n",
       "996                                                NaN   \n",
       "997                                                NaN   \n",
       "998  Munich Re has a “strong appetite for nat cat” ...   \n",
       "999                                                NaN   \n",
       "\n",
       "                                                 title  score  \n",
       "0    “Cities without water” is our future. The lead...     15  \n",
       "1                            Sharks and climate change      2  \n",
       "2                  How to start a climate change essay      1  \n",
       "3    Ever notice that when it’s hot a few days in J...      1  \n",
       "4    How would you react if the next American presi...      1  \n",
       "..                                                 ...    ...  \n",
       "995  What countries do you think will probably not ...      0  \n",
       "996  Harvest comes early as French winemakers grapp...      1  \n",
       "997  Alaska’s snow crabs have disappeared. Where th...      7  \n",
       "998  Munich Re will adjust to climate change to sup...      1  \n",
       "999  A meta-analysis of the total economic impact o...      1  \n",
       "\n",
       "[1000 rows x 12 columns]"
      ]
     },
     "execution_count": 19,
     "metadata": {},
     "output_type": "execute_result"
    }
   ],
   "source": [
    "# Checking 'posts' dataset structure\n",
    "raw_posts"
   ]
  },
  {
   "cell_type": "code",
   "execution_count": 35,
   "metadata": {},
   "outputs": [
    {
     "data": {
      "text/plain": [
       "type                              object\n",
       "id                                object\n",
       "subreddit.id                      object\n",
       "subreddit.name                    object\n",
       "subreddit.nsfw                      bool\n",
       "created_utc                        int64\n",
       "permalink                         object\n",
       "domain                            object\n",
       "url                               object\n",
       "selftext                          object\n",
       "title                             object\n",
       "score                              int64\n",
       "created_converted    datetime64[ns, UTC]\n",
       "dtype: object"
      ]
     },
     "execution_count": 35,
     "metadata": {},
     "output_type": "execute_result"
    }
   ],
   "source": [
    "# Checking datatypes of 'posts' dataset\n",
    "raw_posts.dtypes"
   ]
  },
  {
   "cell_type": "code",
   "execution_count": 16,
   "metadata": {},
   "outputs": [
    {
     "data": {
      "text/html": [
       "<div>\n",
       "<style scoped>\n",
       "    .dataframe tbody tr th:only-of-type {\n",
       "        vertical-align: middle;\n",
       "    }\n",
       "\n",
       "    .dataframe tbody tr th {\n",
       "        vertical-align: top;\n",
       "    }\n",
       "\n",
       "    .dataframe thead th {\n",
       "        text-align: right;\n",
       "    }\n",
       "</style>\n",
       "<table border=\"1\" class=\"dataframe\">\n",
       "  <thead>\n",
       "    <tr style=\"text-align: right;\">\n",
       "      <th></th>\n",
       "      <th>created_utc</th>\n",
       "      <th>score</th>\n",
       "    </tr>\n",
       "  </thead>\n",
       "  <tbody>\n",
       "    <tr>\n",
       "      <th>count</th>\n",
       "      <td>1.000000e+03</td>\n",
       "      <td>1000.000000</td>\n",
       "    </tr>\n",
       "    <tr>\n",
       "      <th>mean</th>\n",
       "      <td>1.661788e+09</td>\n",
       "      <td>160.701000</td>\n",
       "    </tr>\n",
       "    <tr>\n",
       "      <th>std</th>\n",
       "      <td>1.155006e+05</td>\n",
       "      <td>3373.392109</td>\n",
       "    </tr>\n",
       "    <tr>\n",
       "      <th>min</th>\n",
       "      <td>1.661589e+09</td>\n",
       "      <td>0.000000</td>\n",
       "    </tr>\n",
       "    <tr>\n",
       "      <th>25%</th>\n",
       "      <td>1.661683e+09</td>\n",
       "      <td>1.000000</td>\n",
       "    </tr>\n",
       "    <tr>\n",
       "      <th>50%</th>\n",
       "      <td>1.661804e+09</td>\n",
       "      <td>1.000000</td>\n",
       "    </tr>\n",
       "    <tr>\n",
       "      <th>75%</th>\n",
       "      <td>1.661880e+09</td>\n",
       "      <td>2.000000</td>\n",
       "    </tr>\n",
       "    <tr>\n",
       "      <th>max</th>\n",
       "      <td>1.661990e+09</td>\n",
       "      <td>104965.000000</td>\n",
       "    </tr>\n",
       "  </tbody>\n",
       "</table>\n",
       "</div>"
      ],
      "text/plain": [
       "        created_utc          score\n",
       "count  1.000000e+03    1000.000000\n",
       "mean   1.661788e+09     160.701000\n",
       "std    1.155006e+05    3373.392109\n",
       "min    1.661589e+09       0.000000\n",
       "25%    1.661683e+09       1.000000\n",
       "50%    1.661804e+09       1.000000\n",
       "75%    1.661880e+09       2.000000\n",
       "max    1.661990e+09  104965.000000"
      ]
     },
     "execution_count": 16,
     "metadata": {},
     "output_type": "execute_result"
    }
   ],
   "source": [
    "# Checking data ranges of 'posts' dataset\n",
    "raw_posts.describe()"
   ]
  },
  {
   "cell_type": "code",
   "execution_count": 50,
   "metadata": {},
   "outputs": [],
   "source": [
    "# Convert post timestamps and create a date column\n",
    "raw_posts['created_converted'] = pd.to_datetime(raw_posts['created_utc'], utc=True, unit='s')\n",
    "raw_posts['created_date'] = pd.to_datetime(raw_posts['created_converted']).dt.normalize() # gets rid of the timestamp inside the date"
   ]
  },
  {
   "cell_type": "code",
   "execution_count": 57,
   "metadata": {},
   "outputs": [
    {
     "name": "stdout",
     "output_type": "stream",
     "text": [
      "The latest collected post about 'climate change' is from \n"
     ]
    },
    {
     "data": {
      "text/plain": [
       "Timestamp('2022-08-31 23:59:28+0000', tz='UTC')"
      ]
     },
     "execution_count": 57,
     "metadata": {},
     "output_type": "execute_result"
    }
   ],
   "source": [
    "# Latest collected post\n",
    "print(\"The latest collected post about 'climate change' is from \") \n",
    "max(raw_posts['created_converted'])"
   ]
  },
  {
   "cell_type": "code",
   "execution_count": 58,
   "metadata": {},
   "outputs": [
    {
     "name": "stdout",
     "output_type": "stream",
     "text": [
      "And the earliest is from \n"
     ]
    },
    {
     "data": {
      "text/plain": [
       "Timestamp('2010-01-01 00:12:30+0000', tz='UTC')"
      ]
     },
     "execution_count": 58,
     "metadata": {},
     "output_type": "execute_result"
    }
   ],
   "source": [
    "# Earliest collected post\n",
    "print(\"And the earliest is from \") \n",
    "min(raw_posts['created_converted'])"
   ]
  },
  {
   "cell_type": "code",
   "execution_count": 51,
   "metadata": {},
   "outputs": [
    {
     "data": {
      "image/png": "[encoded data removed]",
      "text/plain": [
       "<Figure size 432x288 with 1 Axes>"
      ]
     },
     "metadata": {},
     "output_type": "display_data"
    }
   ],
   "source": [
    "# Distribution of datapoints\n",
    "sns.set(style=\"darkgrid\")\n",
    "sns.histplot(data=raw_posts, x=\"created_converted\")\n",
    "plt.show()"
   ]
  },
  {
   "cell_type": "code",
   "execution_count": 70,
   "metadata": {},
   "outputs": [
    {
     "name": "stdout",
     "output_type": "stream",
     "text": [
      "The posts dataset has only entries of type = 'post'. There is no other type of posts in reddit\n"
     ]
    }
   ],
   "source": [
    "# Post types\n",
    "distinct_post_types = raw_posts[\"type\"].unique()\n",
    "print(\"The posts dataset has only entries of type = 'post'. There is no other type of posts in reddit\")"
   ]
  },
  {
   "cell_type": "code",
   "execution_count": 75,
   "metadata": {},
   "outputs": [
    {
     "name": "stdout",
     "output_type": "stream",
     "text": [
      "There is \n",
      "28707\n",
      "different domains in the post dataset\n"
     ]
    }
   ],
   "source": [
    "# Domain types\n",
    "distinct_domains = raw_posts[\"domain\"].unique()\n",
    "print(\"There are \")\n",
    "print(len(distinct_domains))\n",
    "print(\"different domains in the post dataset\")"
   ]
  },
  {
   "cell_type": "code",
   "execution_count": 78,
   "metadata": {},
   "outputs": [
    {
     "name": "stdout",
     "output_type": "stream",
     "text": [
      "0                                                  NaN\n",
      "1    Ok so I was having a conversation with my neig...\n",
      "2                                                  NaN\n",
      "3                                                  NaN\n",
      "4                                            [deleted]\n",
      "Name: selftext, dtype: object\n"
     ]
    }
   ],
   "source": [
    "print(raw_posts[\"selftext\"].head())"
   ]
  },
  {
   "cell_type": "code",
   "execution_count": null,
   "metadata": {},
   "outputs": [],
   "source": []
  },
  {
   "cell_type": "markdown",
   "metadata": {},
   "source": [
    "### Merging of both dataframes"
   ]
  },
  {
   "cell_type": "code",
   "execution_count": null,
   "metadata": {},
   "outputs": [],
   "source": []
  },
  {
   "cell_type": "code",
   "execution_count": null,
   "metadata": {},
   "outputs": [],
   "source": []
  }
 ],
 "metadata": {
  "kernelspec": {
   "display_name": "Python 3",
   "language": "python",
   "name": "python3"
  },
  "language_info": {
   "codemirror_mode": {
    "name": "ipython",
    "version": 3
   },
   "file_extension": ".py",
   "mimetype": "text/x-python",
   "name": "python",
   "nbconvert_exporter": "python",
   "pygments_lexer": "ipython3",
   "version": "3.9.7"
  },
  "orig_nbformat": 4
 },
 "nbformat": 4,
 "nbformat_minor": 2
}
