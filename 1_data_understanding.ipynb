{
 "cells": [
  {
   "attachments": {},
   "cell_type": "markdown",
   "metadata": {},
   "source": [
    "# Reddit Climate Change - Data Understanding\n",
    "Supervision: Prof. Dr. Jan Fabian Ehmke\n",
    "\n",
    "Group members: Britz Luis, Huber Anja, Krause Felix Elias, Preda Yvonne-Nadine\n",
    "\n",
    "Time: Summer term 2023 \n",
    "\n",
    "Data: https://www.kaggle.com/datasets/pavellexyr/the-reddit-climate-change-dataset"
   ]
  },
  {
   "attachments": {},
   "cell_type": "markdown",
   "metadata": {},
   "source": [
    "## Project Understanding\n",
    "- What is the problem to be solved, what the expected benefit?\n",
    "- How would a solution look like?\n",
    "- Research question / project goal --> will be set after first data investigation and group discussion\n",
    "- Legal limitations? Privacy limitations?\n",
    "\n",
    "</br>\n",
    "\n",
    "- How does Reddit work? What is a subcomment and a subreddit? Who is giving the name to a subreddit; the author of the subreddit?\n",
    "- Does the score come from the reddit platform? What is it? F: Number of upvotes - downvotes\n",
    "- Are there @ mentions in reddit posts?\n",
    "\n",
    "### Information from Kaggle\n",
    "- all the posts and comments on Reddit mentioning the terms \"climate\" and \"change\"\n",
    "- the data does not include usernames.\n",
    "\n",
    "Ideas:\n",
    "- categorize positive and negative attitude reddits to intervene in case its a polarizing trend (but we already have the sentiment score); I did a similar thing in a previous project for tweets \n",
    "- Is this a logical AND for the two topic nouns? \n"
   ]
  },
  {
   "cell_type": "code",
   "execution_count": 1,
   "metadata": {},
   "outputs": [],
   "source": [
    "# Preparing the environment\n",
    "# %pip install pandas\n",
    "# %pip install wordcloud\n",
    "# %pip install nltk\n",
    "# %pip install scikit-learn"
   ]
  },
  {
   "cell_type": "code",
   "execution_count": 2,
   "metadata": {},
   "outputs": [],
   "source": [
    "# Loading packages\n",
    "import pandas as pd\n",
    "import os\n",
    "import seaborn as sns\n",
    "import matplotlib.pyplot as plt"
   ]
  },
  {
   "cell_type": "code",
   "execution_count": 3,
   "metadata": {},
   "outputs": [],
   "source": [
    "# Importing data\n",
    "raw_comments = pd.read_csv('data/the-reddit-climate-change-dataset-comments.csv')#, nrows=1000) # FIXME Sample for start!\n",
    "raw_posts = pd.read_csv('data/the-reddit-climate-change-dataset-posts.csv')#, nrows=1000)"
   ]
  },
  {
   "cell_type": "code",
   "execution_count": 5,
   "metadata": {},
   "outputs": [
    {
     "name": "stdout",
     "output_type": "stream",
     "text": [
      "(4600698, 10)\n",
      "(620908, 12)\n"
     ]
    }
   ],
   "source": [
    "print(raw_comments.shape)\n",
    "print(raw_posts.shape)"
   ]
  },
  {
   "cell_type": "code",
   "execution_count": 30,
   "metadata": {},
   "outputs": [
    {
     "name": "stdout",
     "output_type": "stream",
     "text": [
      "type                                                           comment\n",
      "id                                                             imlch0h\n",
      "subreddit.id                                                     2qh1i\n",
      "subreddit.name                                               askreddit\n",
      "subreddit.nsfw                                                   False\n",
      "created_utc                                                 1661989961\n",
      "permalink            https://old.reddit.com/r/AskReddit/comments/x2...\n",
      "body                 That a big part of the solution to climate cha...\n",
      "sentiment                                                       0.8937\n",
      "score                                                                2\n",
      "created_converted                            2022-08-31 23:52:41+00:00\n",
      "created_date                                 2022-08-31 00:00:00+00:00\n",
      "Name: 10, dtype: object\n",
      "That a big part of the solution to climate change is population control. The world is already way beyond its carrying capacity.\n",
      "\n",
      "I'm not talking about killing people of preventing them from having babies. I'm talking about free universal reproductive education and access to birth control. Also remove any tax breaks and other special treatments given to religious institutions that are against birth control.\n"
     ]
    }
   ],
   "source": [
    "# Extract single values and text\n",
    "idx = 10\n",
    "print(raw_comments.loc[idx])\n",
    "print(raw_comments.loc[idx, \"body\"])"
   ]
  },
  {
   "cell_type": "code",
   "execution_count": null,
   "metadata": {},
   "outputs": [],
   "source": []
  },
  {
   "attachments": {},
   "cell_type": "markdown",
   "metadata": {},
   "source": [
    "## Data Unterstanding\n",
    "- What data is available?\n",
    "- Is the data relevant to the problem?\n",
    "- Is the data valid? Does it reflect expectations?\n",
    "- Is data quality, quantity, recency sufficient?\n",
    "- What do we need to take care of in data preparation?"
   ]
  },
  {
   "attachments": {},
   "cell_type": "markdown",
   "metadata": {},
   "source": [
    "### Comments Dataset"
   ]
  },
  {
   "cell_type": "code",
   "execution_count": 31,
   "metadata": {},
   "outputs": [
    {
     "data": {
      "text/html": [
       "<div>\n",
       "<style scoped>\n",
       "    .dataframe tbody tr th:only-of-type {\n",
       "        vertical-align: middle;\n",
       "    }\n",
       "\n",
       "    .dataframe tbody tr th {\n",
       "        vertical-align: top;\n",
       "    }\n",
       "\n",
       "    .dataframe thead th {\n",
       "        text-align: right;\n",
       "    }\n",
       "</style>\n",
       "<table border=\"1\" class=\"dataframe\">\n",
       "  <thead>\n",
       "    <tr style=\"text-align: right;\">\n",
       "      <th></th>\n",
       "      <th>type</th>\n",
       "      <th>id</th>\n",
       "      <th>subreddit.id</th>\n",
       "      <th>subreddit.name</th>\n",
       "      <th>subreddit.nsfw</th>\n",
       "      <th>created_utc</th>\n",
       "      <th>permalink</th>\n",
       "      <th>body</th>\n",
       "      <th>sentiment</th>\n",
       "      <th>score</th>\n",
       "      <th>created_converted</th>\n",
       "      <th>created_date</th>\n",
       "    </tr>\n",
       "  </thead>\n",
       "  <tbody>\n",
       "    <tr>\n",
       "      <th>0</th>\n",
       "      <td>comment</td>\n",
       "      <td>imlddn9</td>\n",
       "      <td>2qh3l</td>\n",
       "      <td>news</td>\n",
       "      <td>False</td>\n",
       "      <td>1661990368</td>\n",
       "      <td>https://old.reddit.com/r/news/comments/x2cszk/...</td>\n",
       "      <td>Yeah but what the above commenter is saying is...</td>\n",
       "      <td>0.5719</td>\n",
       "      <td>2</td>\n",
       "      <td>2022-08-31 23:59:28+00:00</td>\n",
       "      <td>2022-08-31 00:00:00+00:00</td>\n",
       "    </tr>\n",
       "    <tr>\n",
       "      <th>1</th>\n",
       "      <td>comment</td>\n",
       "      <td>imldbeh</td>\n",
       "      <td>2qn7b</td>\n",
       "      <td>ohio</td>\n",
       "      <td>False</td>\n",
       "      <td>1661990340</td>\n",
       "      <td>https://old.reddit.com/r/Ohio/comments/x2awnp/...</td>\n",
       "      <td>Any comparison of efficiency between solar and...</td>\n",
       "      <td>-0.9877</td>\n",
       "      <td>2</td>\n",
       "      <td>2022-08-31 23:59:00+00:00</td>\n",
       "      <td>2022-08-31 00:00:00+00:00</td>\n",
       "    </tr>\n",
       "    <tr>\n",
       "      <th>2</th>\n",
       "      <td>comment</td>\n",
       "      <td>imldado</td>\n",
       "      <td>2qhma</td>\n",
       "      <td>newzealand</td>\n",
       "      <td>False</td>\n",
       "      <td>1661990327</td>\n",
       "      <td>https://old.reddit.com/r/newzealand/comments/x...</td>\n",
       "      <td>I'm honestly waiting for climate change and th...</td>\n",
       "      <td>-0.1143</td>\n",
       "      <td>1</td>\n",
       "      <td>2022-08-31 23:58:47+00:00</td>\n",
       "      <td>2022-08-31 00:00:00+00:00</td>\n",
       "    </tr>\n",
       "    <tr>\n",
       "      <th>3</th>\n",
       "      <td>comment</td>\n",
       "      <td>imld6cb</td>\n",
       "      <td>2qi09</td>\n",
       "      <td>sacramento</td>\n",
       "      <td>False</td>\n",
       "      <td>1661990278</td>\n",
       "      <td>https://old.reddit.com/r/Sacramento/comments/x...</td>\n",
       "      <td>Not just Sacramento. It's actually happening a...</td>\n",
       "      <td>0.0000</td>\n",
       "      <td>4</td>\n",
       "      <td>2022-08-31 23:57:58+00:00</td>\n",
       "      <td>2022-08-31 00:00:00+00:00</td>\n",
       "    </tr>\n",
       "    <tr>\n",
       "      <th>4</th>\n",
       "      <td>comment</td>\n",
       "      <td>imld0kj</td>\n",
       "      <td>2qh1i</td>\n",
       "      <td>askreddit</td>\n",
       "      <td>False</td>\n",
       "      <td>1661990206</td>\n",
       "      <td>https://old.reddit.com/r/AskReddit/comments/x2...</td>\n",
       "      <td>I think climate change tends to get some peopl...</td>\n",
       "      <td>0.6634</td>\n",
       "      <td>1</td>\n",
       "      <td>2022-08-31 23:56:46+00:00</td>\n",
       "      <td>2022-08-31 00:00:00+00:00</td>\n",
       "    </tr>\n",
       "  </tbody>\n",
       "</table>\n",
       "</div>"
      ],
      "text/plain": [
       "      type       id subreddit.id subreddit.name  subreddit.nsfw  created_utc  \\\n",
       "0  comment  imlddn9        2qh3l           news           False   1661990368   \n",
       "1  comment  imldbeh        2qn7b           ohio           False   1661990340   \n",
       "2  comment  imldado        2qhma     newzealand           False   1661990327   \n",
       "3  comment  imld6cb        2qi09     sacramento           False   1661990278   \n",
       "4  comment  imld0kj        2qh1i      askreddit           False   1661990206   \n",
       "\n",
       "                                           permalink  \\\n",
       "0  https://old.reddit.com/r/news/comments/x2cszk/...   \n",
       "1  https://old.reddit.com/r/Ohio/comments/x2awnp/...   \n",
       "2  https://old.reddit.com/r/newzealand/comments/x...   \n",
       "3  https://old.reddit.com/r/Sacramento/comments/x...   \n",
       "4  https://old.reddit.com/r/AskReddit/comments/x2...   \n",
       "\n",
       "                                                body  sentiment  score  \\\n",
       "0  Yeah but what the above commenter is saying is...     0.5719      2   \n",
       "1  Any comparison of efficiency between solar and...    -0.9877      2   \n",
       "2  I'm honestly waiting for climate change and th...    -0.1143      1   \n",
       "3  Not just Sacramento. It's actually happening a...     0.0000      4   \n",
       "4  I think climate change tends to get some peopl...     0.6634      1   \n",
       "\n",
       "          created_converted              created_date  \n",
       "0 2022-08-31 23:59:28+00:00 2022-08-31 00:00:00+00:00  \n",
       "1 2022-08-31 23:59:00+00:00 2022-08-31 00:00:00+00:00  \n",
       "2 2022-08-31 23:58:47+00:00 2022-08-31 00:00:00+00:00  \n",
       "3 2022-08-31 23:57:58+00:00 2022-08-31 00:00:00+00:00  \n",
       "4 2022-08-31 23:56:46+00:00 2022-08-31 00:00:00+00:00  "
      ]
     },
     "execution_count": 31,
     "metadata": {},
     "output_type": "execute_result"
    }
   ],
   "source": [
    "# Checking 'comments' dataset structure\n",
    "raw_comments.head(5)"
   ]
  },
  {
   "cell_type": "code",
   "execution_count": 5,
   "metadata": {},
   "outputs": [
    {
     "data": {
      "text/plain": [
       "type               object\n",
       "id                 object\n",
       "subreddit.id       object\n",
       "subreddit.name     object\n",
       "subreddit.nsfw       bool\n",
       "created_utc         int64\n",
       "permalink          object\n",
       "body               object\n",
       "sentiment         float64\n",
       "score               int64\n",
       "dtype: object"
      ]
     },
     "execution_count": 5,
     "metadata": {},
     "output_type": "execute_result"
    }
   ],
   "source": [
    "# Checking datatypes of 'comments' dataset\n",
    "raw_comments.dtypes"
   ]
  },
  {
   "cell_type": "code",
   "execution_count": 6,
   "metadata": {},
   "outputs": [
    {
     "data": {
      "text/html": [
       "<div>\n",
       "<style scoped>\n",
       "    .dataframe tbody tr th:only-of-type {\n",
       "        vertical-align: middle;\n",
       "    }\n",
       "\n",
       "    .dataframe tbody tr th {\n",
       "        vertical-align: top;\n",
       "    }\n",
       "\n",
       "    .dataframe thead th {\n",
       "        text-align: right;\n",
       "    }\n",
       "</style>\n",
       "<table border=\"1\" class=\"dataframe\">\n",
       "  <thead>\n",
       "    <tr style=\"text-align: right;\">\n",
       "      <th></th>\n",
       "      <th>created_utc</th>\n",
       "      <th>sentiment</th>\n",
       "      <th>score</th>\n",
       "    </tr>\n",
       "  </thead>\n",
       "  <tbody>\n",
       "    <tr>\n",
       "      <th>count</th>\n",
       "      <td>4.600698e+06</td>\n",
       "      <td>4.543567e+06</td>\n",
       "      <td>4.600698e+06</td>\n",
       "    </tr>\n",
       "    <tr>\n",
       "      <th>mean</th>\n",
       "      <td>1.560607e+09</td>\n",
       "      <td>-5.827452e-03</td>\n",
       "      <td>9.552084e+00</td>\n",
       "    </tr>\n",
       "    <tr>\n",
       "      <th>std</th>\n",
       "      <td>7.576261e+07</td>\n",
       "      <td>6.581439e-01</td>\n",
       "      <td>1.157160e+02</td>\n",
       "    </tr>\n",
       "    <tr>\n",
       "      <th>min</th>\n",
       "      <td>1.262306e+09</td>\n",
       "      <td>-1.000000e+00</td>\n",
       "      <td>-2.379000e+03</td>\n",
       "    </tr>\n",
       "    <tr>\n",
       "      <th>25%</th>\n",
       "      <td>1.518140e+09</td>\n",
       "      <td>-6.369000e-01</td>\n",
       "      <td>1.000000e+00</td>\n",
       "    </tr>\n",
       "    <tr>\n",
       "      <th>50%</th>\n",
       "      <td>1.571668e+09</td>\n",
       "      <td>0.000000e+00</td>\n",
       "      <td>2.000000e+00</td>\n",
       "    </tr>\n",
       "    <tr>\n",
       "      <th>75%</th>\n",
       "      <td>1.622571e+09</td>\n",
       "      <td>6.249000e-01</td>\n",
       "      <td>5.000000e+00</td>\n",
       "    </tr>\n",
       "    <tr>\n",
       "      <th>max</th>\n",
       "      <td>1.661990e+09</td>\n",
       "      <td>1.000000e+00</td>\n",
       "      <td>3.638500e+04</td>\n",
       "    </tr>\n",
       "  </tbody>\n",
       "</table>\n",
       "</div>"
      ],
      "text/plain": [
       "        created_utc     sentiment         score\n",
       "count  4.600698e+06  4.543567e+06  4.600698e+06\n",
       "mean   1.560607e+09 -5.827452e-03  9.552084e+00\n",
       "std    7.576261e+07  6.581439e-01  1.157160e+02\n",
       "min    1.262306e+09 -1.000000e+00 -2.379000e+03\n",
       "25%    1.518140e+09 -6.369000e-01  1.000000e+00\n",
       "50%    1.571668e+09  0.000000e+00  2.000000e+00\n",
       "75%    1.622571e+09  6.249000e-01  5.000000e+00\n",
       "max    1.661990e+09  1.000000e+00  3.638500e+04"
      ]
     },
     "execution_count": 6,
     "metadata": {},
     "output_type": "execute_result"
    }
   ],
   "source": [
    "# Checking data ranges of 'comments' dataset\n",
    "raw_comments.describe()"
   ]
  },
  {
   "cell_type": "code",
   "execution_count": 8,
   "metadata": {},
   "outputs": [
    {
     "data": {
      "text/plain": [
       "114817"
      ]
     },
     "execution_count": 8,
     "metadata": {},
     "output_type": "execute_result"
    }
   ],
   "source": [
    "# Duplicates based on comment text\n",
    "raw_comments['body'].shape[0] - raw_comments['body'].drop_duplicates().shape[0]\n",
    "\n",
    "# Count full duplicates\n",
    "#raw_comments.shape[0] - raw_comments.drop_duplicates().shape[0]"
   ]
  },
  {
   "cell_type": "code",
   "execution_count": 9,
   "metadata": {},
   "outputs": [],
   "source": [
    "# Convert comments timestamps and create a date column\n",
    "raw_comments['created_converted'] = pd.to_datetime(raw_comments['created_utc'], utc=True, unit='s')\n",
    "raw_comments['created_date'] = pd.to_datetime(raw_comments['created_converted']).dt.normalize() # gets rid of the timestamp inside the date\n",
    "raw_comments[\"post_id\"] = [link.split(\"/\")[6] for link in raw_comments.permalink] # add corresponding post id"
   ]
  },
  {
   "cell_type": "code",
   "execution_count": 8,
   "metadata": {},
   "outputs": [
    {
     "name": "stdout",
     "output_type": "stream",
     "text": [
      "The latest collected comment about 'climate change' is from \n"
     ]
    },
    {
     "data": {
      "text/plain": [
       "Timestamp('2022-08-31 23:59:28+0000', tz='UTC')"
      ]
     },
     "execution_count": 8,
     "metadata": {},
     "output_type": "execute_result"
    }
   ],
   "source": [
    "# Latest collected comment\n",
    "print(\"The latest collected comment about 'climate change' is from \") \n",
    "max(raw_comments['created_converted'])"
   ]
  },
  {
   "cell_type": "code",
   "execution_count": 9,
   "metadata": {},
   "outputs": [
    {
     "name": "stdout",
     "output_type": "stream",
     "text": [
      "And the earliest is from \n"
     ]
    },
    {
     "data": {
      "text/plain": [
       "Timestamp('2010-01-01 00:34:07+0000', tz='UTC')"
      ]
     },
     "execution_count": 9,
     "metadata": {},
     "output_type": "execute_result"
    }
   ],
   "source": [
    "# Earliest collected comment\n",
    "print(\"And the earliest is from \") \n",
    "min(raw_comments['created_converted'])"
   ]
  },
  {
   "cell_type": "code",
   "execution_count": 14,
   "metadata": {},
   "outputs": [],
   "source": [
    "raw_comments_sample = raw_comments.iloc[:10000,]"
   ]
  },
  {
   "cell_type": "code",
   "execution_count": 101,
   "metadata": {},
   "outputs": [
    {
     "data": {
      "image/png": "[encoded data removed]",
      "text/plain": [
       "<Figure size 936x504 with 1 Axes>"
      ]
     },
     "metadata": {},
     "output_type": "display_data"
    }
   ],
   "source": [
    "plt.ylim(0, 8000)\n",
    "sns.set(rc={'figure.facecolor': '#F3F3F3', 'figure.figsize': (13, 7), 'axes.facecolor': 'white'}, font_scale=1.35)\n",
    "b = sns.histplot(data=raw_comments, x=\"created_converted\", binwidth=1, color=\"#4e79a7\")\n",
    "\n",
    "# Set the color of the edge line to black\n",
    "for spine in b.spines.values():\n",
    "    spine.set_edgecolor('black')\n",
    "\n",
    "b.axes.set_title('Histogram of Number of Comments per Day', fontsize=18)\n",
    "b.set(xlabel=\"\")\n",
    "\n",
    "# Add horizontal grid lines in light grey\n",
    "b.grid(axis='y', color='lightgrey')\n",
    "\n",
    "plt.show()\n"
   ]
  },
  {
   "cell_type": "code",
   "execution_count": null,
   "metadata": {},
   "outputs": [],
   "source": [
    "plt.savefig(\"final_plots/histogram.svg\", bbox_inches='tight')"
   ]
  },
  {
   "cell_type": "code",
   "execution_count": 77,
   "metadata": {},
   "outputs": [
    {
     "data": {
      "text/plain": [
       "subreddit.name\n",
       "politics            370018\n",
       "worldnews           351195\n",
       "askreddit           259848\n",
       "collapse             94696\n",
       "news                 94558\n",
       "futurology           89945\n",
       "science              71453\n",
       "environment          70444\n",
       "canada               66813\n",
       "australia            60239\n",
       "conspiracy           50951\n",
       "unpopularopinion     49178\n",
       "climateskeptics      46524\n",
       "ukpolitics           43179\n",
       "changemyview         42902\n",
       "neoliberal           42268\n",
       "pics                 42233\n",
       "europe               37331\n",
       "the_donald           34106\n",
       "canadapolitics       31399\n",
       "Name: id, dtype: int64"
      ]
     },
     "execution_count": 77,
     "metadata": {},
     "output_type": "execute_result"
    }
   ],
   "source": [
    "raw_comments.groupby([\"subreddit.name\"])[\"id\"].count().sort_values(ascending=False).head(20)#.plot.bar()\n",
    "# plt.title(\"Number of comments per subreddit\")"
   ]
  },
  {
   "attachments": {},
   "cell_type": "markdown",
   "metadata": {},
   "source": [
    "#### Learnings from Comments Dataset\n",
    "- There is already a sentiment score, how is it created and what does it mean? what is the scale?\n",
    "- The data is not equally distributed, there is way less data from the beginning of the tracking and more recent data, also there is a huge peak in the data, probably interesting to be explored"
   ]
  },
  {
   "attachments": {},
   "cell_type": "markdown",
   "metadata": {},
   "source": [
    "### Posts Dataset"
   ]
  },
  {
   "cell_type": "code",
   "execution_count": 11,
   "metadata": {},
   "outputs": [
    {
     "data": {
      "text/html": [
       "<div>\n",
       "<style scoped>\n",
       "    .dataframe tbody tr th:only-of-type {\n",
       "        vertical-align: middle;\n",
       "    }\n",
       "\n",
       "    .dataframe tbody tr th {\n",
       "        vertical-align: top;\n",
       "    }\n",
       "\n",
       "    .dataframe thead th {\n",
       "        text-align: right;\n",
       "    }\n",
       "</style>\n",
       "<table border=\"1\" class=\"dataframe\">\n",
       "  <thead>\n",
       "    <tr style=\"text-align: right;\">\n",
       "      <th></th>\n",
       "      <th>type</th>\n",
       "      <th>id</th>\n",
       "      <th>subreddit.id</th>\n",
       "      <th>subreddit.name</th>\n",
       "      <th>subreddit.nsfw</th>\n",
       "      <th>created_utc</th>\n",
       "      <th>permalink</th>\n",
       "      <th>domain</th>\n",
       "      <th>url</th>\n",
       "      <th>selftext</th>\n",
       "      <th>title</th>\n",
       "      <th>score</th>\n",
       "    </tr>\n",
       "  </thead>\n",
       "  <tbody>\n",
       "    <tr>\n",
       "      <th>0</th>\n",
       "      <td>post</td>\n",
       "      <td>x2smmw</td>\n",
       "      <td>2vh0v</td>\n",
       "      <td>democraticsocialism</td>\n",
       "      <td>False</td>\n",
       "      <td>1661990237</td>\n",
       "      <td>https://old.reddit.com/r/DemocraticSocialism/c...</td>\n",
       "      <td>twitter.com</td>\n",
       "      <td>https://twitter.com/SusanofTexas/status/156480...</td>\n",
       "      <td>NaN</td>\n",
       "      <td>“Cities without water” is our future. The lead...</td>\n",
       "      <td>15</td>\n",
       "    </tr>\n",
       "    <tr>\n",
       "      <th>1</th>\n",
       "      <td>post</td>\n",
       "      <td>x2slxy</td>\n",
       "      <td>2w844</td>\n",
       "      <td>nostupidquestions</td>\n",
       "      <td>False</td>\n",
       "      <td>1661990182</td>\n",
       "      <td>https://old.reddit.com/r/NoStupidQuestions/com...</td>\n",
       "      <td>self.nostupidquestions</td>\n",
       "      <td>NaN</td>\n",
       "      <td>Ok so I was having a conversation with my neig...</td>\n",
       "      <td>Sharks and climate change</td>\n",
       "      <td>2</td>\n",
       "    </tr>\n",
       "    <tr>\n",
       "      <th>2</th>\n",
       "      <td>post</td>\n",
       "      <td>x2slk5</td>\n",
       "      <td>6wzx9b</td>\n",
       "      <td>eduwriters</td>\n",
       "      <td>False</td>\n",
       "      <td>1661990150</td>\n",
       "      <td>https://old.reddit.com/r/EduWriters/comments/x...</td>\n",
       "      <td>eduwriters.pro</td>\n",
       "      <td>https://eduwriters.pro/?cid=2860/?utm_source=r...</td>\n",
       "      <td>NaN</td>\n",
       "      <td>How to start a climate change essay</td>\n",
       "      <td>1</td>\n",
       "    </tr>\n",
       "    <tr>\n",
       "      <th>3</th>\n",
       "      <td>post</td>\n",
       "      <td>x2sbz6</td>\n",
       "      <td>46adh7</td>\n",
       "      <td>alternatitvereality</td>\n",
       "      <td>False</td>\n",
       "      <td>1661989389</td>\n",
       "      <td>https://old.reddit.com/r/AlternatitveReality/c...</td>\n",
       "      <td>i.imgur.com</td>\n",
       "      <td>https://i.imgur.com/wJbchkQ.jpg</td>\n",
       "      <td>NaN</td>\n",
       "      <td>Ever notice that when it’s hot a few days in J...</td>\n",
       "      <td>1</td>\n",
       "    </tr>\n",
       "    <tr>\n",
       "      <th>4</th>\n",
       "      <td>post</td>\n",
       "      <td>x2sa2a</td>\n",
       "      <td>2qh1i</td>\n",
       "      <td>askreddit</td>\n",
       "      <td>False</td>\n",
       "      <td>1661989240</td>\n",
       "      <td>https://old.reddit.com/r/AskReddit/comments/x2...</td>\n",
       "      <td>self.askreddit</td>\n",
       "      <td>NaN</td>\n",
       "      <td>[deleted]</td>\n",
       "      <td>How would you react if the next American presi...</td>\n",
       "      <td>1</td>\n",
       "    </tr>\n",
       "  </tbody>\n",
       "</table>\n",
       "</div>"
      ],
      "text/plain": [
       "   type      id subreddit.id       subreddit.name  subreddit.nsfw  \\\n",
       "0  post  x2smmw        2vh0v  democraticsocialism           False   \n",
       "1  post  x2slxy        2w844    nostupidquestions           False   \n",
       "2  post  x2slk5       6wzx9b           eduwriters           False   \n",
       "3  post  x2sbz6       46adh7  alternatitvereality           False   \n",
       "4  post  x2sa2a        2qh1i            askreddit           False   \n",
       "\n",
       "   created_utc                                          permalink  \\\n",
       "0   1661990237  https://old.reddit.com/r/DemocraticSocialism/c...   \n",
       "1   1661990182  https://old.reddit.com/r/NoStupidQuestions/com...   \n",
       "2   1661990150  https://old.reddit.com/r/EduWriters/comments/x...   \n",
       "3   1661989389  https://old.reddit.com/r/AlternatitveReality/c...   \n",
       "4   1661989240  https://old.reddit.com/r/AskReddit/comments/x2...   \n",
       "\n",
       "                   domain                                                url  \\\n",
       "0             twitter.com  https://twitter.com/SusanofTexas/status/156480...   \n",
       "1  self.nostupidquestions                                                NaN   \n",
       "2          eduwriters.pro  https://eduwriters.pro/?cid=2860/?utm_source=r...   \n",
       "3             i.imgur.com                    https://i.imgur.com/wJbchkQ.jpg   \n",
       "4          self.askreddit                                                NaN   \n",
       "\n",
       "                                            selftext  \\\n",
       "0                                                NaN   \n",
       "1  Ok so I was having a conversation with my neig...   \n",
       "2                                                NaN   \n",
       "3                                                NaN   \n",
       "4                                          [deleted]   \n",
       "\n",
       "                                               title  score  \n",
       "0  “Cities without water” is our future. The lead...     15  \n",
       "1                          Sharks and climate change      2  \n",
       "2                How to start a climate change essay      1  \n",
       "3  Ever notice that when it’s hot a few days in J...      1  \n",
       "4  How would you react if the next American presi...      1  "
      ]
     },
     "execution_count": 11,
     "metadata": {},
     "output_type": "execute_result"
    }
   ],
   "source": [
    "# Checking 'posts' dataset structure\n",
    "raw_posts.head(5)"
   ]
  },
  {
   "cell_type": "code",
   "execution_count": 12,
   "metadata": {},
   "outputs": [
    {
     "data": {
      "text/plain": [
       "type              object\n",
       "id                object\n",
       "subreddit.id      object\n",
       "subreddit.name    object\n",
       "subreddit.nsfw      bool\n",
       "created_utc        int64\n",
       "permalink         object\n",
       "domain            object\n",
       "url               object\n",
       "selftext          object\n",
       "title             object\n",
       "score              int64\n",
       "dtype: object"
      ]
     },
     "execution_count": 12,
     "metadata": {},
     "output_type": "execute_result"
    }
   ],
   "source": [
    "# Checking datatypes of 'posts' dataset\n",
    "raw_posts.dtypes"
   ]
  },
  {
   "cell_type": "code",
   "execution_count": 13,
   "metadata": {},
   "outputs": [
    {
     "data": {
      "text/html": [
       "<div>\n",
       "<style scoped>\n",
       "    .dataframe tbody tr th:only-of-type {\n",
       "        vertical-align: middle;\n",
       "    }\n",
       "\n",
       "    .dataframe tbody tr th {\n",
       "        vertical-align: top;\n",
       "    }\n",
       "\n",
       "    .dataframe thead th {\n",
       "        text-align: right;\n",
       "    }\n",
       "</style>\n",
       "<table border=\"1\" class=\"dataframe\">\n",
       "  <thead>\n",
       "    <tr style=\"text-align: right;\">\n",
       "      <th></th>\n",
       "      <th>created_utc</th>\n",
       "      <th>score</th>\n",
       "    </tr>\n",
       "  </thead>\n",
       "  <tbody>\n",
       "    <tr>\n",
       "      <th>count</th>\n",
       "      <td>6.209080e+05</td>\n",
       "      <td>620908.000000</td>\n",
       "    </tr>\n",
       "    <tr>\n",
       "      <th>mean</th>\n",
       "      <td>1.540695e+09</td>\n",
       "      <td>81.868678</td>\n",
       "    </tr>\n",
       "    <tr>\n",
       "      <th>std</th>\n",
       "      <td>7.738068e+07</td>\n",
       "      <td>1411.423764</td>\n",
       "    </tr>\n",
       "    <tr>\n",
       "      <th>min</th>\n",
       "      <td>1.262305e+09</td>\n",
       "      <td>0.000000</td>\n",
       "    </tr>\n",
       "    <tr>\n",
       "      <th>25%</th>\n",
       "      <td>1.497725e+09</td>\n",
       "      <td>1.000000</td>\n",
       "    </tr>\n",
       "    <tr>\n",
       "      <th>50%</th>\n",
       "      <td>1.557750e+09</td>\n",
       "      <td>1.000000</td>\n",
       "    </tr>\n",
       "    <tr>\n",
       "      <th>75%</th>\n",
       "      <td>1.588650e+09</td>\n",
       "      <td>5.000000</td>\n",
       "    </tr>\n",
       "    <tr>\n",
       "      <th>max</th>\n",
       "      <td>1.661990e+09</td>\n",
       "      <td>151210.000000</td>\n",
       "    </tr>\n",
       "  </tbody>\n",
       "</table>\n",
       "</div>"
      ],
      "text/plain": [
       "        created_utc          score\n",
       "count  6.209080e+05  620908.000000\n",
       "mean   1.540695e+09      81.868678\n",
       "std    7.738068e+07    1411.423764\n",
       "min    1.262305e+09       0.000000\n",
       "25%    1.497725e+09       1.000000\n",
       "50%    1.557750e+09       1.000000\n",
       "75%    1.588650e+09       5.000000\n",
       "max    1.661990e+09  151210.000000"
      ]
     },
     "execution_count": 13,
     "metadata": {},
     "output_type": "execute_result"
    }
   ],
   "source": [
    "# Checking data ranges of 'posts' dataset\n",
    "raw_posts.describe()"
   ]
  },
  {
   "cell_type": "code",
   "execution_count": 38,
   "metadata": {},
   "outputs": [
    {
     "data": {
      "text/plain": [
       "0"
      ]
     },
     "execution_count": 38,
     "metadata": {},
     "output_type": "execute_result"
    }
   ],
   "source": [
    "# Count full duplicates\n",
    "raw_posts.shape[0] - raw_posts.drop_duplicates().shape[0]"
   ]
  },
  {
   "cell_type": "code",
   "execution_count": 14,
   "metadata": {},
   "outputs": [],
   "source": [
    "# Convert post timestamps and create a date column\n",
    "raw_posts['created_converted'] = pd.to_datetime(raw_posts['created_utc'], utc=True, unit='s')\n",
    "raw_posts['created_date'] = pd.to_datetime(raw_posts['created_converted']).dt.normalize() # gets rid of the timestamp inside the date"
   ]
  },
  {
   "cell_type": "code",
   "execution_count": 15,
   "metadata": {},
   "outputs": [
    {
     "name": "stdout",
     "output_type": "stream",
     "text": [
      "The latest collected post about 'climate change' is from \n"
     ]
    },
    {
     "data": {
      "text/plain": [
       "Timestamp('2022-08-31 23:57:17+0000', tz='UTC')"
      ]
     },
     "execution_count": 15,
     "metadata": {},
     "output_type": "execute_result"
    }
   ],
   "source": [
    "# Latest collected post\n",
    "print(\"The latest collected post about 'climate change' is from \") \n",
    "max(raw_posts['created_converted'])"
   ]
  },
  {
   "cell_type": "code",
   "execution_count": 16,
   "metadata": {},
   "outputs": [
    {
     "name": "stdout",
     "output_type": "stream",
     "text": [
      "And the earliest is from \n"
     ]
    },
    {
     "data": {
      "text/plain": [
       "Timestamp('2010-01-01 00:12:30+0000', tz='UTC')"
      ]
     },
     "execution_count": 16,
     "metadata": {},
     "output_type": "execute_result"
    }
   ],
   "source": [
    "# Earliest collected post\n",
    "print(\"And the earliest is from \") \n",
    "min(raw_posts['created_converted'])"
   ]
  },
  {
   "cell_type": "code",
   "execution_count": 17,
   "metadata": {},
   "outputs": [
    {
     "data": {
      "image/png": "[encoded data removed]",
      "text/plain": [
       "<Figure size 432x288 with 1 Axes>"
      ]
     },
     "metadata": {},
     "output_type": "display_data"
    }
   ],
   "source": [
    "# Distribution of datapoints\n",
    "sns.set(style=\"darkgrid\")\n",
    "sns.histplot(data=raw_posts, x=\"created_converted\")\n",
    "plt.show()"
   ]
  },
  {
   "cell_type": "code",
   "execution_count": 18,
   "metadata": {},
   "outputs": [
    {
     "name": "stdout",
     "output_type": "stream",
     "text": [
      "The posts dataset has only entries of type = 'post'. There is no other type of posts in reddit\n"
     ]
    }
   ],
   "source": [
    "# Post types\n",
    "distinct_post_types = raw_posts[\"type\"].unique()\n",
    "print(\"The posts dataset has only entries of type = 'post'. There is no other type of posts in reddit\")"
   ]
  },
  {
   "cell_type": "code",
   "execution_count": 19,
   "metadata": {},
   "outputs": [
    {
     "name": "stdout",
     "output_type": "stream",
     "text": [
      "There are \n",
      "28707\n",
      "different domains in the post dataset\n"
     ]
    }
   ],
   "source": [
    "# Domain types\n",
    "distinct_domains = raw_posts[\"domain\"].unique()\n",
    "print(\"There are \")\n",
    "print(len(distinct_domains))\n",
    "print(\"different domains in the post dataset\")"
   ]
  },
  {
   "cell_type": "code",
   "execution_count": 20,
   "metadata": {},
   "outputs": [
    {
     "name": "stdout",
     "output_type": "stream",
     "text": [
      "0                                                  NaN\n",
      "1    Ok so I was having a conversation with my neig...\n",
      "2                                                  NaN\n",
      "3                                                  NaN\n",
      "4                                            [deleted]\n",
      "Name: selftext, dtype: object\n"
     ]
    }
   ],
   "source": [
    "print(raw_posts[\"selftext\"].head())"
   ]
  },
  {
   "cell_type": "code",
   "execution_count": null,
   "metadata": {},
   "outputs": [],
   "source": []
  },
  {
   "attachments": {},
   "cell_type": "markdown",
   "metadata": {},
   "source": [
    "## Experiments"
   ]
  },
  {
   "attachments": {},
   "cell_type": "markdown",
   "metadata": {},
   "source": [
    "### Join posts and comments"
   ]
  },
  {
   "cell_type": "code",
   "execution_count": 9,
   "metadata": {},
   "outputs": [
    {
     "name": "stdout",
     "output_type": "stream",
     "text": [
      "(4600698, 11)\n",
      "(620908, 13)\n"
     ]
    }
   ],
   "source": [
    "print(raw_comments.shape)\n",
    "print(raw_posts.shape)"
   ]
  },
  {
   "cell_type": "code",
   "execution_count": 7,
   "metadata": {},
   "outputs": [
    {
     "data": {
      "text/plain": [
       "111482"
      ]
     },
     "execution_count": 7,
     "metadata": {},
     "output_type": "execute_result"
    }
   ],
   "source": [
    "raw_comments[\"post_id\"] = [i.split(\"/\")[6] for i in raw_comments.permalink]\n",
    "comments_post_id_set = set(raw_comments.post_id)\n",
    "post_post_id_set = set(raw_posts.id)\n",
    "\n",
    "len(comments_post_id_set & post_post_id_set)"
   ]
  },
  {
   "attachments": {},
   "cell_type": "markdown",
   "metadata": {},
   "source": [
    "### Find large bot subreddits"
   ]
  },
  {
   "cell_type": "code",
   "execution_count": null,
   "metadata": {},
   "outputs": [],
   "source": [
    "bot_reddits_comments_df = raw_comments[raw_comments['subreddit.name'].str.contains('bot',case=False)]"
   ]
  },
  {
   "cell_type": "code",
   "execution_count": null,
   "metadata": {},
   "outputs": [
    {
     "data": {
      "text/plain": [
       "subreddit.name\n",
       "bottown2               27435\n",
       "bikinibottomtwitter     1603\n",
       "subredditsummarybot      368\n",
       "newsbotbot               274\n",
       "botany                   212\n",
       "explainbothsides         208\n",
       "bottown22                166\n",
       "u_anticensor_bot         138\n",
       "mrrobot                  122\n",
       "bottown                  119\n",
       "bottown1                  65\n",
       "bottowngarden             61\n",
       "bottesting                40\n",
       "shittyrobots              40\n",
       "bottleneck                39\n",
       "abbotsford                36\n",
       "u_userleansbot            29\n",
       "both_sides                28\n",
       "robotics                  27\n",
       "lovedeathandrobots        27\n",
       "Name: id, dtype: int64"
      ]
     },
     "metadata": {},
     "output_type": "display_data"
    }
   ],
   "source": [
    "bot_reddits_comments_df.groupby([\"subreddit.name\"])[\"id\"].count().sort_values(ascending=False).head(20)"
   ]
  },
  {
   "cell_type": "code",
   "execution_count": null,
   "metadata": {},
   "outputs": [],
   "source": []
  },
  {
   "attachments": {},
   "cell_type": "markdown",
   "metadata": {},
   "source": [
    "### Create subreddit sample"
   ]
  },
  {
   "cell_type": "code",
   "execution_count": 6,
   "metadata": {},
   "outputs": [
    {
     "name": "stdout",
     "output_type": "stream",
     "text": [
      "File saved!\n",
      "File saved!\n"
     ]
    }
   ],
   "source": [
    "# Save samples\n",
    "subreddit_name = \"climateskeptics\"\n",
    "sample_comments = raw_comments[raw_comments[\"subreddit.name\"] == subreddit_name]\n",
    "sample_posts = raw_posts[raw_posts[\"subreddit.name\"] == subreddit_name]\n",
    "\n",
    "comment_save_path = f\"data/{subreddit_name}_sample_comments.csv\"\n",
    "if not os.path.isfile(comment_save_path):\n",
    "    sample_comments.to_csv(comment_save_path)\n",
    "    print(\"File saved!\")\n",
    "else: \n",
    "    print(\"Warning file already exists\")\n",
    "\n",
    "post_save_path = f\"data/{subreddit_name}_sample_posts.csv\"\n",
    "if not os.path.isfile(post_save_path):\n",
    "    sample_posts.to_csv(post_save_path)\n",
    "    print(\"File saved!\")\n",
    "else: \n",
    "    print(\"Warning file already exists\")"
   ]
  },
  {
   "cell_type": "code",
   "execution_count": null,
   "metadata": {},
   "outputs": [],
   "source": [
    "# Loading sample\n",
    "sample_comments = pd.read_csv(\"data/bottown_sample_comments.csv\", index_col=0)\n",
    "sample_comments = sample_comments.drop([\"subreddit.id\", \"subreddit.name\"], axis=1)\n",
    "\n",
    "sample_posts = pd.read_csv(\"data/bottown_sample_posts.csv\", index_col=0)\n",
    "sample_posts = sample_posts.drop([\"subreddit.id\", \"subreddit.name\"], axis=1)"
   ]
  },
  {
   "cell_type": "code",
   "execution_count": null,
   "metadata": {},
   "outputs": [],
   "source": [
    "unique_comments = sample_comments.body.unique()"
   ]
  },
  {
   "cell_type": "code",
   "execution_count": null,
   "metadata": {},
   "outputs": [
    {
     "data": {
      "text/plain": [
       "1350"
      ]
     },
     "metadata": {},
     "output_type": "display_data"
    }
   ],
   "source": [
    "sum([1 if \"Bernie\" in i else 0 for i in unique_comments])"
   ]
  },
  {
   "cell_type": "code",
   "execution_count": null,
   "metadata": {},
   "outputs": [],
   "source": [
    "sample_comments[\"post_id\"] = [i.split(\"/\")[6] for i in sample_comments.permalink]"
   ]
  },
  {
   "attachments": {},
   "cell_type": "markdown",
   "metadata": {},
   "source": [
    "### Merging of both dataframes"
   ]
  },
  {
   "cell_type": "code",
   "execution_count": null,
   "metadata": {},
   "outputs": [
    {
     "data": {
      "text/plain": [
       "6"
      ]
     },
     "metadata": {},
     "output_type": "display_data"
    }
   ],
   "source": [
    "comments_post_id_set = set(sample_comments.post_id)\n",
    "post_post_id_set = set(sample_posts.id)\n",
    "\n",
    "len(comments_post_id_set & post_post_id_set)"
   ]
  },
  {
   "cell_type": "code",
   "execution_count": null,
   "metadata": {},
   "outputs": [],
   "source": []
  }
 ],
 "metadata": {
  "kernelspec": {
   "display_name": "Python 3",
   "language": "python",
   "name": "python3"
  },
  "language_info": {
   "codemirror_mode": {
    "name": "ipython",
    "version": 3
   },
   "file_extension": ".py",
   "mimetype": "text/x-python",
   "name": "python",
   "nbconvert_exporter": "python",
   "pygments_lexer": "ipython3",
   "version": "3.9.7"
  },
  "orig_nbformat": 4
 },
 "nbformat": 4,
 "nbformat_minor": 2
}
