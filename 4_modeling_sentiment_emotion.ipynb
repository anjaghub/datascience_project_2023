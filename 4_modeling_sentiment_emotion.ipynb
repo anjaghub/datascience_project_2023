{
 "cells": [
  {
   "attachments": {},
   "cell_type": "markdown",
   "metadata": {},
   "source": [
    "### DANGEROUS TERRITORY:\n",
    "This notebook can allocate a lot of disk space and needs some processing power (ideally available CUDA GPU)"
   ]
  },
  {
   "attachments": {},
   "cell_type": "markdown",
   "metadata": {},
   "source": [
    "# Reddit Climate Change - Modeling Sentiment & Emotion\n",
    "Supervision: Prof. Dr. Jan Fabian Ehmke\n",
    "\n",
    "Group members: Britz Luis, Huber Anja, Krause Felix Elias, Preda Yvonne-Nadine\n",
    "\n",
    "Time: Summer term 2023 \n",
    "\n",
    "Data: https://www.kaggle.com/datasets/pavellexyr/the-reddit-climate-change-dataset"
   ]
  },
  {
   "cell_type": "code",
   "execution_count": 1,
   "metadata": {},
   "outputs": [
    {
     "name": "stdout",
     "output_type": "stream",
     "text": [
      "CUDA device found: NVIDIA GeForce GTX 1060 6GB\n",
      "### \n",
      " WARNING: YOU WILL TRAIN ON DETECTED GPU \n",
      "###\n"
     ]
    }
   ],
   "source": [
    "from transformers import pipeline # Protobuf version <4 (e.g. 3.20.3) might be needed!\n",
    "import pandas as pd\n",
    "import numpy as np\n",
    "import os\n",
    "import torch\n",
    "\n",
    "print(f\"CUDA device found: {torch.cuda.get_device_name(torch.cuda.current_device())}\")\n",
    "if torch.cuda.is_available():\n",
    "    device = torch.cuda.current_device()\n",
    "    print(\"### \\n WARNING: YOU WILL TRAIN ON DETECTED GPU \\n###\")\n",
    "else:\n",
    "    device = -1"
   ]
  },
  {
   "cell_type": "markdown",
   "metadata": {},
   "source": [
    "## Load data"
   ]
  },
  {
   "cell_type": "code",
   "execution_count": 2,
   "metadata": {},
   "outputs": [
    {
     "data": {
      "text/html": [
       "<div>\n",
       "<style scoped>\n",
       "    .dataframe tbody tr th:only-of-type {\n",
       "        vertical-align: middle;\n",
       "    }\n",
       "\n",
       "    .dataframe tbody tr th {\n",
       "        vertical-align: top;\n",
       "    }\n",
       "\n",
       "    .dataframe thead th {\n",
       "        text-align: right;\n",
       "    }\n",
       "</style>\n",
       "<table border=\"1\" class=\"dataframe\">\n",
       "  <thead>\n",
       "    <tr style=\"text-align: right;\">\n",
       "      <th></th>\n",
       "      <th>type</th>\n",
       "      <th>id</th>\n",
       "      <th>subreddit.id</th>\n",
       "      <th>subreddit.name</th>\n",
       "      <th>subreddit.nsfw</th>\n",
       "      <th>created_utc</th>\n",
       "      <th>permalink</th>\n",
       "      <th>domain</th>\n",
       "      <th>url</th>\n",
       "      <th>selftext</th>\n",
       "      <th>title</th>\n",
       "      <th>score</th>\n",
       "      <th>title_clean</th>\n",
       "      <th>selftext_clean</th>\n",
       "      <th>language</th>\n",
       "      <th>created_date</th>\n",
       "      <th>created_day</th>\n",
       "      <th>created_month</th>\n",
       "      <th>created_year</th>\n",
       "      <th>created_time</th>\n",
       "    </tr>\n",
       "  </thead>\n",
       "  <tbody>\n",
       "    <tr>\n",
       "      <th>0</th>\n",
       "      <td>post</td>\n",
       "      <td>x2slxy</td>\n",
       "      <td>2w844</td>\n",
       "      <td>nostupidquestions</td>\n",
       "      <td>False</td>\n",
       "      <td>1661990182</td>\n",
       "      <td>https://old.reddit.com/r/NoStupidQuestions/com...</td>\n",
       "      <td>self.nostupidquestions</td>\n",
       "      <td>NaN</td>\n",
       "      <td>Ok so I was having a conversation with my neig...</td>\n",
       "      <td>Sharks and climate change</td>\n",
       "      <td>2</td>\n",
       "      <td>Sharks and</td>\n",
       "      <td>Ok so I was having a conversation with my neig...</td>\n",
       "      <td>en</td>\n",
       "      <td>2022-08-31</td>\n",
       "      <td>31</td>\n",
       "      <td>8</td>\n",
       "      <td>2022</td>\n",
       "      <td>23:56:22</td>\n",
       "    </tr>\n",
       "    <tr>\n",
       "      <th>1</th>\n",
       "      <td>post</td>\n",
       "      <td>x2pkij</td>\n",
       "      <td>2wnw4</td>\n",
       "      <td>stonerthoughts</td>\n",
       "      <td>False</td>\n",
       "      <td>1661982208</td>\n",
       "      <td>https://old.reddit.com/r/StonerThoughts/commen...</td>\n",
       "      <td>self.stonerthoughts</td>\n",
       "      <td>NaN</td>\n",
       "      <td>It's actually the planet moving closer and clo...</td>\n",
       "      <td>what if instead of climate change...</td>\n",
       "      <td>3</td>\n",
       "      <td>what if instead of  ...</td>\n",
       "      <td>It's actually the planet moving closer and clo...</td>\n",
       "      <td>en</td>\n",
       "      <td>2022-08-31</td>\n",
       "      <td>31</td>\n",
       "      <td>8</td>\n",
       "      <td>2022</td>\n",
       "      <td>21:43:28</td>\n",
       "    </tr>\n",
       "    <tr>\n",
       "      <th>2</th>\n",
       "      <td>post</td>\n",
       "      <td>x2mtg7</td>\n",
       "      <td>2r3rn</td>\n",
       "      <td>anarchocapitalism</td>\n",
       "      <td>False</td>\n",
       "      <td>1661975381</td>\n",
       "      <td>https://old.reddit.com/r/anarchocapitalism/com...</td>\n",
       "      <td>self.anarchocapitalism</td>\n",
       "      <td>NaN</td>\n",
       "      <td>Duh.  Yes, temperatures go up and down.  How i...</td>\n",
       "      <td>Climate Change Is REAL</td>\n",
       "      <td>0</td>\n",
       "      <td>Is REAL</td>\n",
       "      <td>Duh.  Yes, temperatures go up and down.  How i...</td>\n",
       "      <td>en</td>\n",
       "      <td>2022-08-31</td>\n",
       "      <td>31</td>\n",
       "      <td>8</td>\n",
       "      <td>2022</td>\n",
       "      <td>19:49:41</td>\n",
       "    </tr>\n",
       "  </tbody>\n",
       "</table>\n",
       "</div>"
      ],
      "text/plain": [
       "   type      id subreddit.id     subreddit.name  subreddit.nsfw  created_utc  \\\n",
       "0  post  x2slxy        2w844  nostupidquestions           False   1661990182   \n",
       "1  post  x2pkij        2wnw4     stonerthoughts           False   1661982208   \n",
       "2  post  x2mtg7        2r3rn  anarchocapitalism           False   1661975381   \n",
       "\n",
       "                                           permalink                  domain  \\\n",
       "0  https://old.reddit.com/r/NoStupidQuestions/com...  self.nostupidquestions   \n",
       "1  https://old.reddit.com/r/StonerThoughts/commen...     self.stonerthoughts   \n",
       "2  https://old.reddit.com/r/anarchocapitalism/com...  self.anarchocapitalism   \n",
       "\n",
       "   url                                           selftext  \\\n",
       "0  NaN  Ok so I was having a conversation with my neig...   \n",
       "1  NaN  It's actually the planet moving closer and clo...   \n",
       "2  NaN  Duh.  Yes, temperatures go up and down.  How i...   \n",
       "\n",
       "                                  title  score              title_clean  \\\n",
       "0             Sharks and climate change      2             Sharks and     \n",
       "1  what if instead of climate change...      3  what if instead of  ...   \n",
       "2                Climate Change Is REAL      0                  Is REAL   \n",
       "\n",
       "                                      selftext_clean language created_date  \\\n",
       "0  Ok so I was having a conversation with my neig...       en   2022-08-31   \n",
       "1  It's actually the planet moving closer and clo...       en   2022-08-31   \n",
       "2  Duh.  Yes, temperatures go up and down.  How i...       en   2022-08-31   \n",
       "\n",
       "   created_day  created_month  created_year created_time  \n",
       "0           31              8          2022     23:56:22  \n",
       "1           31              8          2022     21:43:28  \n",
       "2           31              8          2022     19:49:41  "
      ]
     },
     "execution_count": 2,
     "metadata": {},
     "output_type": "execute_result"
    }
   ],
   "source": [
    "# Load posts\n",
    "df_posts = pd.read_csv(\"data/preprocessed_posts.csv\", header=0)\n",
    "df_posts.head(3)"
   ]
  },
  {
   "cell_type": "code",
   "execution_count": 41,
   "metadata": {},
   "outputs": [
    {
     "data": {
      "text/html": [
       "<div>\n",
       "<style scoped>\n",
       "    .dataframe tbody tr th:only-of-type {\n",
       "        vertical-align: middle;\n",
       "    }\n",
       "\n",
       "    .dataframe tbody tr th {\n",
       "        vertical-align: top;\n",
       "    }\n",
       "\n",
       "    .dataframe thead th {\n",
       "        text-align: right;\n",
       "    }\n",
       "</style>\n",
       "<table border=\"1\" class=\"dataframe\">\n",
       "  <thead>\n",
       "    <tr style=\"text-align: right;\">\n",
       "      <th></th>\n",
       "      <th>id</th>\n",
       "      <th>subreddit.name</th>\n",
       "      <th>subreddit.nsfw</th>\n",
       "      <th>created_utc</th>\n",
       "      <th>permalink</th>\n",
       "      <th>sentiment</th>\n",
       "      <th>score</th>\n",
       "      <th>body_clean</th>\n",
       "      <th>created_date</th>\n",
       "      <th>created_day</th>\n",
       "      <th>created_month</th>\n",
       "      <th>created_year</th>\n",
       "      <th>created_time</th>\n",
       "    </tr>\n",
       "  </thead>\n",
       "  <tbody>\n",
       "    <tr>\n",
       "      <th>0</th>\n",
       "      <td>imlddn9</td>\n",
       "      <td>news</td>\n",
       "      <td>False</td>\n",
       "      <td>1661990368</td>\n",
       "      <td>https://old.reddit.com/r/news/comments/x2cszk/...</td>\n",
       "      <td>0.5719</td>\n",
       "      <td>2.0</td>\n",
       "      <td>Yeah but what the above commenter is saying is...</td>\n",
       "      <td>2022-08-31</td>\n",
       "      <td>31.0</td>\n",
       "      <td>8.0</td>\n",
       "      <td>2022.0</td>\n",
       "      <td>23:59:28</td>\n",
       "    </tr>\n",
       "    <tr>\n",
       "      <th>1</th>\n",
       "      <td>imldbeh</td>\n",
       "      <td>ohio</td>\n",
       "      <td>False</td>\n",
       "      <td>1661990340</td>\n",
       "      <td>https://old.reddit.com/r/Ohio/comments/x2awnp/...</td>\n",
       "      <td>-0.9877</td>\n",
       "      <td>2.0</td>\n",
       "      <td>Any comparison of efficiency between solar and...</td>\n",
       "      <td>2022-08-31</td>\n",
       "      <td>31.0</td>\n",
       "      <td>8.0</td>\n",
       "      <td>2022.0</td>\n",
       "      <td>23:59:00</td>\n",
       "    </tr>\n",
       "    <tr>\n",
       "      <th>2</th>\n",
       "      <td>imldado</td>\n",
       "      <td>newzealand</td>\n",
       "      <td>False</td>\n",
       "      <td>1661990327</td>\n",
       "      <td>https://old.reddit.com/r/newzealand/comments/x...</td>\n",
       "      <td>-0.1143</td>\n",
       "      <td>1.0</td>\n",
       "      <td>I'm honestly waiting for   and the impacts of ...</td>\n",
       "      <td>2022-08-31</td>\n",
       "      <td>31.0</td>\n",
       "      <td>8.0</td>\n",
       "      <td>2022.0</td>\n",
       "      <td>23:58:47</td>\n",
       "    </tr>\n",
       "  </tbody>\n",
       "</table>\n",
       "</div>"
      ],
      "text/plain": [
       "        id subreddit.name  subreddit.nsfw  created_utc  \\\n",
       "0  imlddn9           news           False   1661990368   \n",
       "1  imldbeh           ohio           False   1661990340   \n",
       "2  imldado     newzealand           False   1661990327   \n",
       "\n",
       "                                           permalink  sentiment  score  \\\n",
       "0  https://old.reddit.com/r/news/comments/x2cszk/...     0.5719    2.0   \n",
       "1  https://old.reddit.com/r/Ohio/comments/x2awnp/...    -0.9877    2.0   \n",
       "2  https://old.reddit.com/r/newzealand/comments/x...    -0.1143    1.0   \n",
       "\n",
       "                                          body_clean created_date  \\\n",
       "0  Yeah but what the above commenter is saying is...   2022-08-31   \n",
       "1  Any comparison of efficiency between solar and...   2022-08-31   \n",
       "2  I'm honestly waiting for   and the impacts of ...   2022-08-31   \n",
       "\n",
       "   created_day  created_month  created_year created_time  \n",
       "0         31.0            8.0        2022.0     23:59:28  \n",
       "1         31.0            8.0        2022.0     23:59:00  \n",
       "2         31.0            8.0        2022.0     23:58:47  "
      ]
     },
     "execution_count": 41,
     "metadata": {},
     "output_type": "execute_result"
    }
   ],
   "source": [
    "# Load comments\n",
    "df = pd.read_csv(\"data/preprocessed_comments.gzip\", compression=\"gzip\", header=0, skiprows=0, nrows=11000) # FIXME For now only small sample!\n",
    "# TODO Maybe filter e.g. for year/range\n",
    "df.head(3)"
   ]
  },
  {
   "cell_type": "code",
   "execution_count": 42,
   "metadata": {},
   "outputs": [],
   "source": [
    "df = df.iloc[10000:11000,:]"
   ]
  },
  {
   "cell_type": "code",
   "execution_count": 110,
   "metadata": {},
   "outputs": [
    {
     "data": {
      "text/plain": [
       "'https://www.google.com/amp/s/www.foxnews.com/opinion/climate-change-congress-must-act-cleaner-healthier-world.amp\\n\\nThat sure is some far left propaganda, fox news...'"
      ]
     },
     "execution_count": 110,
     "metadata": {},
     "output_type": "execute_result"
    }
   ],
   "source": [
    "# Extract sample text\n",
    "df.body.iloc[10]"
   ]
  },
  {
   "cell_type": "code",
   "execution_count": 44,
   "metadata": {},
   "outputs": [
    {
     "data": {
      "text/plain": [
       "(1000, 13)"
      ]
     },
     "execution_count": 44,
     "metadata": {},
     "output_type": "execute_result"
    }
   ],
   "source": [
    "df.shape"
   ]
  },
  {
   "attachments": {},
   "cell_type": "markdown",
   "metadata": {},
   "source": [
    "Faulty rows of old preprocessed_comments file: \n",
    "\n",
    "368464 - 393215:    \"i38o4bg\tclimatechange\tFalse\t1649003948\t\"\n",
    "\n",
    "393217 - 425983:    \"0.0\t[AR IPCC Chapter : Understanding and Attribu...\tNaN\"\n",
    "\n"
   ]
  },
  {
   "cell_type": "code",
   "execution_count": null,
   "metadata": {},
   "outputs": [],
   "source": []
  },
  {
   "attachments": {},
   "cell_type": "markdown",
   "metadata": {},
   "source": [
    "## HF Transformers Models\n",
    "\n",
    "Be aware: Models rather large, first time to run might take some downloading time (~500MB; saved in sth like \"C:\\Users\\Felix\\.cache\\huggingface\\hub\")\n",
    "\n",
    "All HF sentiment models: https://huggingface.co/models?pipeline_tag=text-classification&sort=downloads&search=sentiment\n",
    "\n",
    "All HF emotion detection models: https://huggingface.co/models?pipeline_tag=text-classification&sort=downloads&search=emotion\n",
    "\n",
    "(Also models for irony, stances on climate/feminism/activism, etc.)"
   ]
  },
  {
   "attachments": {},
   "cell_type": "markdown",
   "metadata": {},
   "source": [
    "#### Sentiment Model\n",
    "\n",
    "https://huggingface.co/cardiffnlp/twitter-roberta-base-sentiment\n",
    "\n",
    "ENCODING: 0 -> Negative; 1 -> Neutral; 2 -> Positive"
   ]
  },
  {
   "cell_type": "code",
   "execution_count": null,
   "metadata": {},
   "outputs": [],
   "source": [
    "model = pipeline(\"sentiment-analysis\", model=\"cardiffnlp/twitter-roberta-base-sentiment\", device=device)"
   ]
  },
  {
   "attachments": {},
   "cell_type": "markdown",
   "metadata": {},
   "source": [
    "#### Climate stance model\n",
    "\n",
    "https://huggingface.co/cardiffnlp/twitter-roberta-base-stance-climate\n",
    "\n",
    "Paper: https://aclanthology.org/S16-1003.pdf\n",
    "\n",
    "\"Climate Change is a Real Concern\" -> favor/against/none\n",
    "\n",
    "~0.014 sec/img"
   ]
  },
  {
   "cell_type": "code",
   "execution_count": 45,
   "metadata": {},
   "outputs": [],
   "source": [
    "model = pipeline(\"sentiment-analysis\", model=\"cardiffnlp/twitter-roberta-base-stance-climate\", device=device)"
   ]
  },
  {
   "attachments": {},
   "cell_type": "markdown",
   "metadata": {},
   "source": [
    "#### Climate sentiment model\n",
    "\n",
    "https://huggingface.co/climatebert/distilroberta-base-climate-sentiment \n",
    "\n",
    "-> neutral, opportunity, risk"
   ]
  },
  {
   "cell_type": "code",
   "execution_count": null,
   "metadata": {},
   "outputs": [],
   "source": [
    "model = pipeline(\"sentiment-analysis\", model=\"climatebert/distilroberta-base-climate-sentiment\", device=device)"
   ]
  },
  {
   "attachments": {},
   "cell_type": "markdown",
   "metadata": {},
   "source": [
    "#### Large emotion model (28 states detected)\n",
    "\n",
    "Model: https://huggingface.co/arpanghoshal/EmoRoBERTa\n",
    "\n",
    "Labels detected: 'remorse', 'disappointment', 'sadness', 'gratitude', 'realization', 'disapproval', 'neutral', 'approval', 'embarrassment', 'caring', 'curiosity', 'confusion', 'annoyance', 'joy', 'optimism', 'relief', 'excitement', 'admiration', 'love', 'disgust', 'grief', 'amusement', 'anger', 'surprise', 'pride', 'nervousness', 'fear', 'desire'"
   ]
  },
  {
   "cell_type": "code",
   "execution_count": 40,
   "metadata": {},
   "outputs": [
    {
     "name": "stderr",
     "output_type": "stream",
     "text": [
      "All model checkpoint layers were used when initializing TFRobertaForSequenceClassification.\n",
      "\n",
      "All the layers of TFRobertaForSequenceClassification were initialized from the model checkpoint at arpanghoshal/EmoRoBERTa.\n",
      "If your task is similar to the task the model of the checkpoint was trained on, you can already use TFRobertaForSequenceClassification for predictions without further training.\n"
     ]
    }
   ],
   "source": [
    "model = pipeline('sentiment-analysis', model='arpanghoshal/EmoRoBERTa', top_k=3, device=device) # top_k=None lists all labels"
   ]
  },
  {
   "attachments": {},
   "cell_type": "markdown",
   "metadata": {},
   "source": [
    "#### Small emotion model (7 states)\n",
    "\n",
    "Model: https://huggingface.co/j-hartmann/emotion-english-distilroberta-base\n",
    "\n",
    "Labels detected: 'surprise', 'neutral', 'fear', 'anger', 'joy', 'disgust', 'sadness'\n",
    "\n",
    "(~11h to label all comments)"
   ]
  },
  {
   "cell_type": "code",
   "execution_count": 107,
   "metadata": {},
   "outputs": [],
   "source": [
    "model = pipeline(\"text-classification\", model=\"j-hartmann/emotion-english-distilroberta-base\", top_k=1, device=device) # top_k=None lists all labels"
   ]
  },
  {
   "attachments": {},
   "cell_type": "markdown",
   "metadata": {},
   "source": [
    "## Test model"
   ]
  },
  {
   "cell_type": "code",
   "execution_count": 46,
   "metadata": {},
   "outputs": [
    {
     "data": {
      "text/plain": [
       "[{'label': 'favor', 'score': 0.9345217347145081}]"
      ]
     },
     "execution_count": 46,
     "metadata": {},
     "output_type": "execute_result"
    }
   ],
   "source": [
    "sample_prediction = model(\"Climate change is just a hoax! Why is everyone so upset?!?!\")\n",
    "sample_prediction"
   ]
  },
  {
   "cell_type": "code",
   "execution_count": null,
   "metadata": {},
   "outputs": [],
   "source": [
    "# Find labels included\n",
    "#labels = [i[\"label\"] for i in sample_prediction]\n",
    "#print(labels)"
   ]
  },
  {
   "attachments": {},
   "cell_type": "markdown",
   "metadata": {},
   "source": [
    "## Apply model to dataframe"
   ]
  },
  {
   "cell_type": "code",
   "execution_count": 47,
   "metadata": {},
   "outputs": [],
   "source": [
    "def reduce_text(text, max_length=np.inf):\n",
    "    if len(text) > max_length:\n",
    "        text = text[0:max_length]\n",
    "    return text"
   ]
  },
  {
   "cell_type": "code",
   "execution_count": 48,
   "metadata": {},
   "outputs": [],
   "source": [
    "# Reduce texts if necessary\n",
    "df[\"body_clean\"] = df[\"body_clean\"].apply(reduce_text, args=(512, )) # e.g. for small sentiment model"
   ]
  },
  {
   "cell_type": "code",
   "execution_count": 49,
   "metadata": {},
   "outputs": [],
   "source": [
    "# CAUTION: THIS WILL RUN INFERENCE AND CAN THUS TAKE SOME TIME\n",
    "# Apply modl to dataframe\n",
    "df[\"label\"] = model(list(df[\"body_clean\"])) # With GPU around 3x faster, still ~0.009 sec/text"
   ]
  },
  {
   "cell_type": "code",
   "execution_count": 50,
   "metadata": {},
   "outputs": [],
   "source": [
    "# Extract (top) label\n",
    "df[\"top_label\"] = [i[\"label\"] for i in df[\"label\"]]"
   ]
  },
  {
   "cell_type": "code",
   "execution_count": 51,
   "metadata": {},
   "outputs": [
    {
     "data": {
      "text/plain": [
       "array(['favor', 'none'], dtype=object)"
      ]
     },
     "execution_count": 51,
     "metadata": {},
     "output_type": "execute_result"
    }
   ],
   "source": [
    "df.top_label.unique()"
   ]
  },
  {
   "cell_type": "code",
   "execution_count": 57,
   "metadata": {},
   "outputs": [
    {
     "data": {
      "text/plain": [
       "'This has nothing to do with  . Donnie the orange says   is a conspiracy theory.'"
      ]
     },
     "execution_count": 57,
     "metadata": {},
     "output_type": "execute_result"
    }
   ],
   "source": [
    "df[df.top_label == \"none\"].body_clean.iloc[3]"
   ]
  },
  {
   "attachments": {},
   "cell_type": "markdown",
   "metadata": {},
   "source": [
    "## Save results"
   ]
  },
  {
   "cell_type": "code",
   "execution_count": null,
   "metadata": {},
   "outputs": [],
   "source": [
    "comment_save_path = f\"data/comments_results.csv\"\n",
    "\n",
    "if not os.path.isfile(comment_save_path):\n",
    "    df.to_csv(comment_save_path)\n",
    "    print(\"File saved!\")\n",
    "else: \n",
    "    print(\"Warning file already exists\")"
   ]
  }
 ],
 "metadata": {
  "kernelspec": {
   "display_name": "base",
   "language": "python",
   "name": "python3"
  },
  "language_info": {
   "codemirror_mode": {
    "name": "ipython",
    "version": 3
   },
   "file_extension": ".py",
   "mimetype": "text/x-python",
   "name": "python",
   "nbconvert_exporter": "python",
   "pygments_lexer": "ipython3",
   "version": "3.9.7"
  },
  "orig_nbformat": 4
 },
 "nbformat": 4,
 "nbformat_minor": 2
}
