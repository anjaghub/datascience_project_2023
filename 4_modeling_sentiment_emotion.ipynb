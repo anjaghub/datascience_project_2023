{
 "cells": [
  {
   "attachments": {},
   "cell_type": "markdown",
   "metadata": {},
   "source": [
    "### DANGEROUS TERRITORY:\n",
    "This notebook can allocate a lot of disk space and needs some processing power (ideally available CUDA GPU)"
   ]
  },
  {
   "attachments": {},
   "cell_type": "markdown",
   "metadata": {},
   "source": [
    "# Reddit Climate Change - Modeling Sentiment & Emotion\n",
    "Supervision: Prof. Dr. Jan Fabian Ehmke\n",
    "\n",
    "Group members: Britz Luis, Huber Anja, Krause Felix Elias, Preda Yvonne-Nadine\n",
    "\n",
    "Time: Summer term 2023 \n",
    "\n",
    "Data: https://www.kaggle.com/datasets/pavellexyr/the-reddit-climate-change-dataset"
   ]
  },
  {
   "cell_type": "code",
   "execution_count": 2,
   "metadata": {},
   "outputs": [
    {
     "name": "stdout",
     "output_type": "stream",
     "text": [
      "CUDA device found: NVIDIA GeForce GTX 1060 6GB\n",
      "### \n",
      " WARNING: YOU WILL TRAIN ON DETECTED GPU \n",
      "###\n"
     ]
    }
   ],
   "source": [
    "from transformers import pipeline # Protobuf version <4 (e.g. 3.20.3) might be needed!\n",
    "import pandas as pd\n",
    "import numpy as np\n",
    "import os\n",
    "import torch\n",
    "\n",
    "print(f\"CUDA device found: {torch.cuda.get_device_name(torch.cuda.current_device())}\")\n",
    "if torch.cuda.is_available():\n",
    "    device = torch.cuda.current_device()\n",
    "    print(\"### \\n WARNING: YOU WILL TRAIN ON DETECTED GPU \\n###\")\n",
    "else:\n",
    "    device = -1"
   ]
  },
  {
   "cell_type": "markdown",
   "metadata": {},
   "source": [
    "## Load data"
   ]
  },
  {
   "cell_type": "code",
   "execution_count": 8,
   "metadata": {},
   "outputs": [
    {
     "data": {
      "text/html": [
       "<div>\n",
       "<style scoped>\n",
       "    .dataframe tbody tr th:only-of-type {\n",
       "        vertical-align: middle;\n",
       "    }\n",
       "\n",
       "    .dataframe tbody tr th {\n",
       "        vertical-align: top;\n",
       "    }\n",
       "\n",
       "    .dataframe thead th {\n",
       "        text-align: right;\n",
       "    }\n",
       "</style>\n",
       "<table border=\"1\" class=\"dataframe\">\n",
       "  <thead>\n",
       "    <tr style=\"text-align: right;\">\n",
       "      <th></th>\n",
       "      <th>type</th>\n",
       "      <th>id</th>\n",
       "      <th>subreddit.id</th>\n",
       "      <th>subreddit.name</th>\n",
       "      <th>subreddit.nsfw</th>\n",
       "      <th>created_utc</th>\n",
       "      <th>permalink</th>\n",
       "      <th>domain</th>\n",
       "      <th>url</th>\n",
       "      <th>selftext</th>\n",
       "      <th>title</th>\n",
       "      <th>score</th>\n",
       "      <th>title_clean</th>\n",
       "      <th>selftext_clean</th>\n",
       "      <th>language</th>\n",
       "      <th>created_date</th>\n",
       "      <th>created_day</th>\n",
       "      <th>created_month</th>\n",
       "      <th>created_year</th>\n",
       "      <th>created_time</th>\n",
       "    </tr>\n",
       "  </thead>\n",
       "  <tbody>\n",
       "    <tr>\n",
       "      <th>0</th>\n",
       "      <td>post</td>\n",
       "      <td>x2slxy</td>\n",
       "      <td>2w844</td>\n",
       "      <td>nostupidquestions</td>\n",
       "      <td>False</td>\n",
       "      <td>1661990182</td>\n",
       "      <td>https://old.reddit.com/r/NoStupidQuestions/com...</td>\n",
       "      <td>self.nostupidquestions</td>\n",
       "      <td>NaN</td>\n",
       "      <td>Ok so I was having a conversation with my neig...</td>\n",
       "      <td>Sharks and climate change</td>\n",
       "      <td>2</td>\n",
       "      <td>Sharks and</td>\n",
       "      <td>Ok so I was having a conversation with my neig...</td>\n",
       "      <td>en</td>\n",
       "      <td>2022-08-31</td>\n",
       "      <td>31</td>\n",
       "      <td>8</td>\n",
       "      <td>2022</td>\n",
       "      <td>23:56:22</td>\n",
       "    </tr>\n",
       "    <tr>\n",
       "      <th>1</th>\n",
       "      <td>post</td>\n",
       "      <td>x2pkij</td>\n",
       "      <td>2wnw4</td>\n",
       "      <td>stonerthoughts</td>\n",
       "      <td>False</td>\n",
       "      <td>1661982208</td>\n",
       "      <td>https://old.reddit.com/r/StonerThoughts/commen...</td>\n",
       "      <td>self.stonerthoughts</td>\n",
       "      <td>NaN</td>\n",
       "      <td>It's actually the planet moving closer and clo...</td>\n",
       "      <td>what if instead of climate change...</td>\n",
       "      <td>3</td>\n",
       "      <td>what if instead of  ...</td>\n",
       "      <td>It's actually the planet moving closer and clo...</td>\n",
       "      <td>en</td>\n",
       "      <td>2022-08-31</td>\n",
       "      <td>31</td>\n",
       "      <td>8</td>\n",
       "      <td>2022</td>\n",
       "      <td>21:43:28</td>\n",
       "    </tr>\n",
       "    <tr>\n",
       "      <th>2</th>\n",
       "      <td>post</td>\n",
       "      <td>x2mtg7</td>\n",
       "      <td>2r3rn</td>\n",
       "      <td>anarchocapitalism</td>\n",
       "      <td>False</td>\n",
       "      <td>1661975381</td>\n",
       "      <td>https://old.reddit.com/r/anarchocapitalism/com...</td>\n",
       "      <td>self.anarchocapitalism</td>\n",
       "      <td>NaN</td>\n",
       "      <td>Duh.  Yes, temperatures go up and down.  How i...</td>\n",
       "      <td>Climate Change Is REAL</td>\n",
       "      <td>0</td>\n",
       "      <td>Is REAL</td>\n",
       "      <td>Duh.  Yes, temperatures go up and down.  How i...</td>\n",
       "      <td>en</td>\n",
       "      <td>2022-08-31</td>\n",
       "      <td>31</td>\n",
       "      <td>8</td>\n",
       "      <td>2022</td>\n",
       "      <td>19:49:41</td>\n",
       "    </tr>\n",
       "  </tbody>\n",
       "</table>\n",
       "</div>"
      ],
      "text/plain": [
       "   type      id subreddit.id     subreddit.name  subreddit.nsfw  created_utc  \\\n",
       "0  post  x2slxy        2w844  nostupidquestions           False   1661990182   \n",
       "1  post  x2pkij        2wnw4     stonerthoughts           False   1661982208   \n",
       "2  post  x2mtg7        2r3rn  anarchocapitalism           False   1661975381   \n",
       "\n",
       "                                           permalink                  domain  \\\n",
       "0  https://old.reddit.com/r/NoStupidQuestions/com...  self.nostupidquestions   \n",
       "1  https://old.reddit.com/r/StonerThoughts/commen...     self.stonerthoughts   \n",
       "2  https://old.reddit.com/r/anarchocapitalism/com...  self.anarchocapitalism   \n",
       "\n",
       "   url                                           selftext  \\\n",
       "0  NaN  Ok so I was having a conversation with my neig...   \n",
       "1  NaN  It's actually the planet moving closer and clo...   \n",
       "2  NaN  Duh.  Yes, temperatures go up and down.  How i...   \n",
       "\n",
       "                                  title  score              title_clean  \\\n",
       "0             Sharks and climate change      2             Sharks and     \n",
       "1  what if instead of climate change...      3  what if instead of  ...   \n",
       "2                Climate Change Is REAL      0                  Is REAL   \n",
       "\n",
       "                                      selftext_clean language created_date  \\\n",
       "0  Ok so I was having a conversation with my neig...       en   2022-08-31   \n",
       "1  It's actually the planet moving closer and clo...       en   2022-08-31   \n",
       "2  Duh.  Yes, temperatures go up and down.  How i...       en   2022-08-31   \n",
       "\n",
       "   created_day  created_month  created_year created_time  \n",
       "0           31              8          2022     23:56:22  \n",
       "1           31              8          2022     21:43:28  \n",
       "2           31              8          2022     19:49:41  "
      ]
     },
     "execution_count": 8,
     "metadata": {},
     "output_type": "execute_result"
    }
   ],
   "source": [
    "# Load posts\n",
    "df = pd.read_csv(\"data/preprocessed_posts.csv\", header=0, nrows=100)\n",
    "df.head(3)"
   ]
  },
  {
   "cell_type": "code",
   "execution_count": 9,
   "metadata": {},
   "outputs": [
    {
     "data": {
      "text/html": [
       "<div>\n",
       "<style scoped>\n",
       "    .dataframe tbody tr th:only-of-type {\n",
       "        vertical-align: middle;\n",
       "    }\n",
       "\n",
       "    .dataframe tbody tr th {\n",
       "        vertical-align: top;\n",
       "    }\n",
       "\n",
       "    .dataframe thead th {\n",
       "        text-align: right;\n",
       "    }\n",
       "</style>\n",
       "<table border=\"1\" class=\"dataframe\">\n",
       "  <thead>\n",
       "    <tr style=\"text-align: right;\">\n",
       "      <th></th>\n",
       "      <th>id</th>\n",
       "      <th>subreddit.name</th>\n",
       "      <th>subreddit.nsfw</th>\n",
       "      <th>created_utc</th>\n",
       "      <th>permalink</th>\n",
       "      <th>sentiment</th>\n",
       "      <th>score</th>\n",
       "      <th>body_clean</th>\n",
       "      <th>created_date</th>\n",
       "      <th>created_day</th>\n",
       "      <th>created_month</th>\n",
       "      <th>created_year</th>\n",
       "      <th>created_time</th>\n",
       "    </tr>\n",
       "  </thead>\n",
       "  <tbody>\n",
       "    <tr>\n",
       "      <th>0</th>\n",
       "      <td>imlddn9</td>\n",
       "      <td>news</td>\n",
       "      <td>False</td>\n",
       "      <td>1661990368</td>\n",
       "      <td>https://old.reddit.com/r/news/comments/x2cszk/...</td>\n",
       "      <td>0.5719</td>\n",
       "      <td>2.0</td>\n",
       "      <td>Yeah but what the above commenter is saying is...</td>\n",
       "      <td>2022-08-31</td>\n",
       "      <td>31.0</td>\n",
       "      <td>8.0</td>\n",
       "      <td>2022.0</td>\n",
       "      <td>23:59:28</td>\n",
       "    </tr>\n",
       "    <tr>\n",
       "      <th>1</th>\n",
       "      <td>imldbeh</td>\n",
       "      <td>ohio</td>\n",
       "      <td>False</td>\n",
       "      <td>1661990340</td>\n",
       "      <td>https://old.reddit.com/r/Ohio/comments/x2awnp/...</td>\n",
       "      <td>-0.9877</td>\n",
       "      <td>2.0</td>\n",
       "      <td>Any comparison of efficiency between solar and...</td>\n",
       "      <td>2022-08-31</td>\n",
       "      <td>31.0</td>\n",
       "      <td>8.0</td>\n",
       "      <td>2022.0</td>\n",
       "      <td>23:59:00</td>\n",
       "    </tr>\n",
       "    <tr>\n",
       "      <th>2</th>\n",
       "      <td>imldado</td>\n",
       "      <td>newzealand</td>\n",
       "      <td>False</td>\n",
       "      <td>1661990327</td>\n",
       "      <td>https://old.reddit.com/r/newzealand/comments/x...</td>\n",
       "      <td>-0.1143</td>\n",
       "      <td>1.0</td>\n",
       "      <td>I'm honestly waiting for   and the impacts of ...</td>\n",
       "      <td>2022-08-31</td>\n",
       "      <td>31.0</td>\n",
       "      <td>8.0</td>\n",
       "      <td>2022.0</td>\n",
       "      <td>23:58:47</td>\n",
       "    </tr>\n",
       "  </tbody>\n",
       "</table>\n",
       "</div>"
      ],
      "text/plain": [
       "        id subreddit.name  subreddit.nsfw  created_utc  \\\n",
       "0  imlddn9           news           False   1661990368   \n",
       "1  imldbeh           ohio           False   1661990340   \n",
       "2  imldado     newzealand           False   1661990327   \n",
       "\n",
       "                                           permalink  sentiment  score  \\\n",
       "0  https://old.reddit.com/r/news/comments/x2cszk/...     0.5719    2.0   \n",
       "1  https://old.reddit.com/r/Ohio/comments/x2awnp/...    -0.9877    2.0   \n",
       "2  https://old.reddit.com/r/newzealand/comments/x...    -0.1143    1.0   \n",
       "\n",
       "                                          body_clean created_date  \\\n",
       "0  Yeah but what the above commenter is saying is...   2022-08-31   \n",
       "1  Any comparison of efficiency between solar and...   2022-08-31   \n",
       "2  I'm honestly waiting for   and the impacts of ...   2022-08-31   \n",
       "\n",
       "   created_day  created_month  created_year created_time  \n",
       "0         31.0            8.0        2022.0     23:59:28  \n",
       "1         31.0            8.0        2022.0     23:59:00  \n",
       "2         31.0            8.0        2022.0     23:58:47  "
      ]
     },
     "execution_count": 9,
     "metadata": {},
     "output_type": "execute_result"
    }
   ],
   "source": [
    "# Load comments\n",
    "df = pd.read_csv(\"data/preprocessed_comments.gzip\", compression=\"gzip\", header=0, nrows=100) # FIXME For now only small sample!\n",
    "# TODO Maybe filter e.g. for year/range\n",
    "df.head(3)"
   ]
  },
  {
   "cell_type": "code",
   "execution_count": 110,
   "metadata": {},
   "outputs": [
    {
     "data": {
      "text/plain": [
       "'https://www.google.com/amp/s/www.foxnews.com/opinion/climate-change-congress-must-act-cleaner-healthier-world.amp\\n\\nThat sure is some far left propaganda, fox news...'"
      ]
     },
     "execution_count": 110,
     "metadata": {},
     "output_type": "execute_result"
    }
   ],
   "source": [
    "# Extract sample text\n",
    "df.body.iloc[10]"
   ]
  },
  {
   "cell_type": "code",
   "execution_count": null,
   "metadata": {},
   "outputs": [],
   "source": []
  },
  {
   "attachments": {},
   "cell_type": "markdown",
   "metadata": {},
   "source": [
    "## HF Transformers Models\n",
    "\n",
    "Be aware: Models rather large, first time to run might take some downloading time (~500MB; saved in sth like \"C:\\Users\\Felix\\.cache\\huggingface\\hub\")\n",
    "\n",
    "All HF sentiment models: https://huggingface.co/models?pipeline_tag=text-classification&sort=downloads&search=sentiment\n",
    "\n",
    "All HF emotion detection models: https://huggingface.co/models?pipeline_tag=text-classification&sort=downloads&search=emotion\n",
    "\n",
    "(Also models for irony, stances on climate/feminism/activism, etc.)"
   ]
  },
  {
   "attachments": {},
   "cell_type": "markdown",
   "metadata": {},
   "source": [
    "#### Sentiment Model\n",
    "\n",
    "https://huggingface.co/cardiffnlp/twitter-roberta-base-sentiment\n",
    "\n",
    "ENCODING: 0 -> Negative; 1 -> Neutral; 2 -> Positive"
   ]
  },
  {
   "cell_type": "code",
   "execution_count": null,
   "metadata": {},
   "outputs": [],
   "source": [
    "model = pipeline(\"sentiment-analysis\", model=\"cardiffnlp/twitter-roberta-base-sentiment\", device=device)"
   ]
  },
  {
   "attachments": {},
   "cell_type": "markdown",
   "metadata": {},
   "source": [
    "#### Climate model\n",
    "\n",
    "https://huggingface.co/cardiffnlp/twitter-roberta-base-stance-climate\n",
    "\n",
    "Paper: https://aclanthology.org/S16-1003.pdf"
   ]
  },
  {
   "cell_type": "code",
   "execution_count": null,
   "metadata": {},
   "outputs": [],
   "source": [
    "model = pipeline(\"sentiment-analysis\", model=\"cardiffnlp/twitter-roberta-base-stance-climate\", device=device)"
   ]
  },
  {
   "attachments": {},
   "cell_type": "markdown",
   "metadata": {},
   "source": [
    "#### Large emotion model (28 states detected)\n",
    "\n",
    "Model: https://huggingface.co/arpanghoshal/EmoRoBERTa\n",
    "\n",
    "Labels detected: 'remorse', 'disappointment', 'sadness', 'gratitude', 'realization', 'disapproval', 'neutral', 'approval', 'embarrassment', 'caring', 'curiosity', 'confusion', 'annoyance', 'joy', 'optimism', 'relief', 'excitement', 'admiration', 'love', 'disgust', 'grief', 'amusement', 'anger', 'surprise', 'pride', 'nervousness', 'fear', 'desire'"
   ]
  },
  {
   "cell_type": "code",
   "execution_count": 40,
   "metadata": {},
   "outputs": [
    {
     "name": "stderr",
     "output_type": "stream",
     "text": [
      "All model checkpoint layers were used when initializing TFRobertaForSequenceClassification.\n",
      "\n",
      "All the layers of TFRobertaForSequenceClassification were initialized from the model checkpoint at arpanghoshal/EmoRoBERTa.\n",
      "If your task is similar to the task the model of the checkpoint was trained on, you can already use TFRobertaForSequenceClassification for predictions without further training.\n"
     ]
    }
   ],
   "source": [
    "model = pipeline('sentiment-analysis', model='arpanghoshal/EmoRoBERTa', top_k=3, device=device) # top_k=None lists all labels"
   ]
  },
  {
   "attachments": {},
   "cell_type": "markdown",
   "metadata": {},
   "source": [
    "#### Small emotion model (7 states)\n",
    "\n",
    "Model: https://huggingface.co/j-hartmann/emotion-english-distilroberta-base\n",
    "\n",
    "Labels detected: 'surprise', 'neutral', 'fear', 'anger', 'joy', 'disgust', 'sadness'"
   ]
  },
  {
   "cell_type": "code",
   "execution_count": 14,
   "metadata": {},
   "outputs": [],
   "source": [
    "model = pipeline(\"text-classification\", model=\"j-hartmann/emotion-english-distilroberta-base\", top_k=1, device=device) # top_k=None lists all labels"
   ]
  },
  {
   "attachments": {},
   "cell_type": "markdown",
   "metadata": {},
   "source": [
    "#### Test model"
   ]
  },
  {
   "cell_type": "code",
   "execution_count": 33,
   "metadata": {},
   "outputs": [
    {
     "name": "stderr",
     "output_type": "stream",
     "text": [
      "c:\\ProgramData\\Anaconda3\\lib\\site-packages\\transformers\\pipelines\\base.py:1070: UserWarning: You seem to be using the pipelines sequentially on GPU. In order to maximize efficiency please use a dataset\n",
      "  warnings.warn(\n"
     ]
    },
    {
     "data": {
      "text/plain": [
       "[[{'label': 'surprise', 'score': 0.9810950756072998}]]"
      ]
     },
     "execution_count": 33,
     "metadata": {},
     "output_type": "execute_result"
    }
   ],
   "source": [
    "sample_prediction = model(\"Wow! I really did not know that the sky was blue!\")\n",
    "sample_prediction"
   ]
  },
  {
   "cell_type": "code",
   "execution_count": null,
   "metadata": {},
   "outputs": [],
   "source": [
    "# Find labels included\n",
    "#labels = [i[\"label\"] for i in sample_prediction]\n",
    "#print(labels)"
   ]
  },
  {
   "attachments": {},
   "cell_type": "markdown",
   "metadata": {},
   "source": [
    "## Apply model to dataframe"
   ]
  },
  {
   "cell_type": "code",
   "execution_count": 36,
   "metadata": {},
   "outputs": [],
   "source": [
    "def reduce_text(text, max_length=np.inf):\n",
    "    if len(text) > max_length:\n",
    "        text = text[0:max_length]\n",
    "    return text"
   ]
  },
  {
   "cell_type": "code",
   "execution_count": 37,
   "metadata": {},
   "outputs": [],
   "source": [
    "# Reduce texts if necessary\n",
    "#df[\"body\"] = df[\"body\"].apply(reduce_text, args=(512,)) # e.g. for small sentiment model"
   ]
  },
  {
   "cell_type": "code",
   "execution_count": 39,
   "metadata": {},
   "outputs": [
    {
     "name": "stderr",
     "output_type": "stream",
     "text": [
      "c:\\ProgramData\\Anaconda3\\lib\\site-packages\\transformers\\pipelines\\base.py:1070: UserWarning: You seem to be using the pipelines sequentially on GPU. In order to maximize efficiency please use a dataset\n",
      "  warnings.warn(\n"
     ]
    }
   ],
   "source": [
    "# Apply to dataframe\n",
    "df[\"label\"] = model(list(df[\"body\"])) # With GPU around 3x faster, still ~0.1 sec/text\n",
    "#df[\"top_label\"] = [i[\"label\"] for i in df[\"label\"]]"
   ]
  },
  {
   "cell_type": "code",
   "execution_count": 40,
   "metadata": {},
   "outputs": [
    {
     "data": {
      "text/html": [
       "<div>\n",
       "<style scoped>\n",
       "    .dataframe tbody tr th:only-of-type {\n",
       "        vertical-align: middle;\n",
       "    }\n",
       "\n",
       "    .dataframe tbody tr th {\n",
       "        vertical-align: top;\n",
       "    }\n",
       "\n",
       "    .dataframe thead th {\n",
       "        text-align: right;\n",
       "    }\n",
       "</style>\n",
       "<table border=\"1\" class=\"dataframe\">\n",
       "  <thead>\n",
       "    <tr style=\"text-align: right;\">\n",
       "      <th></th>\n",
       "      <th>type</th>\n",
       "      <th>id</th>\n",
       "      <th>subreddit.id</th>\n",
       "      <th>subreddit.name</th>\n",
       "      <th>subreddit.nsfw</th>\n",
       "      <th>created_utc</th>\n",
       "      <th>permalink</th>\n",
       "      <th>body</th>\n",
       "      <th>sentiment</th>\n",
       "      <th>score</th>\n",
       "      <th>label</th>\n",
       "      <th>top_label</th>\n",
       "    </tr>\n",
       "  </thead>\n",
       "  <tbody>\n",
       "    <tr>\n",
       "      <th>218</th>\n",
       "      <td>comment</td>\n",
       "      <td>imkym8u</td>\n",
       "      <td>2qk5q</td>\n",
       "      <td>climateskeptics</td>\n",
       "      <td>False</td>\n",
       "      <td>1661983952</td>\n",
       "      <td>https://old.reddit.com/r/climateskeptics/comme...</td>\n",
       "      <td>Although the film crew swore up and down they ...</td>\n",
       "      <td>0.4841</td>\n",
       "      <td>5</td>\n",
       "      <td>[{'label': 'fear', 'score': 0.35692259669303894}]</td>\n",
       "      <td>fear</td>\n",
       "    </tr>\n",
       "    <tr>\n",
       "      <th>441</th>\n",
       "      <td>comment</td>\n",
       "      <td>imkkeo7</td>\n",
       "      <td>2qk5q</td>\n",
       "      <td>climateskeptics</td>\n",
       "      <td>False</td>\n",
       "      <td>1661978410</td>\n",
       "      <td>https://old.reddit.com/r/climateskeptics/comme...</td>\n",
       "      <td>That is entirely what the other papers say.  I...</td>\n",
       "      <td>0.8432</td>\n",
       "      <td>1</td>\n",
       "      <td>[{'label': 'neutral', 'score': 0.8820799589157...</td>\n",
       "      <td>neutral</td>\n",
       "    </tr>\n",
       "    <tr>\n",
       "      <th>1025</th>\n",
       "      <td>comment</td>\n",
       "      <td>imjj5o9</td>\n",
       "      <td>2qk5q</td>\n",
       "      <td>climateskeptics</td>\n",
       "      <td>False</td>\n",
       "      <td>1661964273</td>\n",
       "      <td>https://old.reddit.com/r/climateskeptics/comme...</td>\n",
       "      <td>Climate change will always exist and always ha...</td>\n",
       "      <td>0.0000</td>\n",
       "      <td>1</td>\n",
       "      <td>[{'label': 'neutral', 'score': 0.8541768789291...</td>\n",
       "      <td>neutral</td>\n",
       "    </tr>\n",
       "    <tr>\n",
       "      <th>1095</th>\n",
       "      <td>comment</td>\n",
       "      <td>imjfcxh</td>\n",
       "      <td>2qk5q</td>\n",
       "      <td>climateskeptics</td>\n",
       "      <td>False</td>\n",
       "      <td>1661962830</td>\n",
       "      <td>https://old.reddit.com/r/climateskeptics/comme...</td>\n",
       "      <td>The biggest problem is that the main water rig...</td>\n",
       "      <td>-0.4878</td>\n",
       "      <td>1</td>\n",
       "      <td>[{'label': 'neutral', 'score': 0.56916344165802}]</td>\n",
       "      <td>neutral</td>\n",
       "    </tr>\n",
       "    <tr>\n",
       "      <th>1292</th>\n",
       "      <td>comment</td>\n",
       "      <td>imj2c6k</td>\n",
       "      <td>2qk5q</td>\n",
       "      <td>climateskeptics</td>\n",
       "      <td>False</td>\n",
       "      <td>1661957784</td>\n",
       "      <td>https://old.reddit.com/r/climateskeptics/comme...</td>\n",
       "      <td>Are you suggesting some conspiracy by NOAA to ...</td>\n",
       "      <td>0.8990</td>\n",
       "      <td>0</td>\n",
       "      <td>[{'label': 'neutral', 'score': 0.8405239582061...</td>\n",
       "      <td>neutral</td>\n",
       "    </tr>\n",
       "    <tr>\n",
       "      <th>...</th>\n",
       "      <td>...</td>\n",
       "      <td>...</td>\n",
       "      <td>...</td>\n",
       "      <td>...</td>\n",
       "      <td>...</td>\n",
       "      <td>...</td>\n",
       "      <td>...</td>\n",
       "      <td>...</td>\n",
       "      <td>...</td>\n",
       "      <td>...</td>\n",
       "      <td>...</td>\n",
       "      <td>...</td>\n",
       "    </tr>\n",
       "    <tr>\n",
       "      <th>11426</th>\n",
       "      <td>comment</td>\n",
       "      <td>im2fcw7</td>\n",
       "      <td>2qk5q</td>\n",
       "      <td>climateskeptics</td>\n",
       "      <td>False</td>\n",
       "      <td>1661644739</td>\n",
       "      <td>https://old.reddit.com/r/climateskeptics/comme...</td>\n",
       "      <td>Climate change is like Long COVID. They blame ...</td>\n",
       "      <td>0.0258</td>\n",
       "      <td>1</td>\n",
       "      <td>[{'label': 'anger', 'score': 0.4453723728656769}]</td>\n",
       "      <td>anger</td>\n",
       "    </tr>\n",
       "    <tr>\n",
       "      <th>11444</th>\n",
       "      <td>comment</td>\n",
       "      <td>im2dlf0</td>\n",
       "      <td>2qk5q</td>\n",
       "      <td>climateskeptics</td>\n",
       "      <td>False</td>\n",
       "      <td>1661643881</td>\n",
       "      <td>https://old.reddit.com/r/climateskeptics/comme...</td>\n",
       "      <td>No, but climate change policies definitely did...</td>\n",
       "      <td>-0.6956</td>\n",
       "      <td>2</td>\n",
       "      <td>[{'label': 'anger', 'score': 0.8326584696769714}]</td>\n",
       "      <td>anger</td>\n",
       "    </tr>\n",
       "    <tr>\n",
       "      <th>12336</th>\n",
       "      <td>comment</td>\n",
       "      <td>im06d9q</td>\n",
       "      <td>2qk5q</td>\n",
       "      <td>climateskeptics</td>\n",
       "      <td>False</td>\n",
       "      <td>1661609774</td>\n",
       "      <td>https://old.reddit.com/r/climateskeptics/comme...</td>\n",
       "      <td>Fair but even smaller ponds and streams are be...</td>\n",
       "      <td>0.1655</td>\n",
       "      <td>1</td>\n",
       "      <td>[{'label': 'neutral', 'score': 0.6826416850090...</td>\n",
       "      <td>neutral</td>\n",
       "    </tr>\n",
       "    <tr>\n",
       "      <th>12340</th>\n",
       "      <td>comment</td>\n",
       "      <td>im063s7</td>\n",
       "      <td>2qk5q</td>\n",
       "      <td>climateskeptics</td>\n",
       "      <td>False</td>\n",
       "      <td>1661609657</td>\n",
       "      <td>https://old.reddit.com/r/climateskeptics/comme...</td>\n",
       "      <td>Are you so lacking in any integrity whatsoever...</td>\n",
       "      <td>0.9068</td>\n",
       "      <td>-1</td>\n",
       "      <td>[{'label': 'disgust', 'score': 0.5141499638557...</td>\n",
       "      <td>disgust</td>\n",
       "    </tr>\n",
       "    <tr>\n",
       "      <th>12411</th>\n",
       "      <td>comment</td>\n",
       "      <td>im0026o</td>\n",
       "      <td>2qk5q</td>\n",
       "      <td>climateskeptics</td>\n",
       "      <td>False</td>\n",
       "      <td>1661606791</td>\n",
       "      <td>https://old.reddit.com/r/climateskeptics/comme...</td>\n",
       "      <td>Global cooling was the original “climate chang...</td>\n",
       "      <td>-0.1779</td>\n",
       "      <td>2</td>\n",
       "      <td>[{'label': 'fear', 'score': 0.4979380965232849}]</td>\n",
       "      <td>fear</td>\n",
       "    </tr>\n",
       "  </tbody>\n",
       "</table>\n",
       "<p>100 rows × 12 columns</p>\n",
       "</div>"
      ],
      "text/plain": [
       "          type       id subreddit.id   subreddit.name  subreddit.nsfw  \\\n",
       "218    comment  imkym8u        2qk5q  climateskeptics           False   \n",
       "441    comment  imkkeo7        2qk5q  climateskeptics           False   \n",
       "1025   comment  imjj5o9        2qk5q  climateskeptics           False   \n",
       "1095   comment  imjfcxh        2qk5q  climateskeptics           False   \n",
       "1292   comment  imj2c6k        2qk5q  climateskeptics           False   \n",
       "...        ...      ...          ...              ...             ...   \n",
       "11426  comment  im2fcw7        2qk5q  climateskeptics           False   \n",
       "11444  comment  im2dlf0        2qk5q  climateskeptics           False   \n",
       "12336  comment  im06d9q        2qk5q  climateskeptics           False   \n",
       "12340  comment  im063s7        2qk5q  climateskeptics           False   \n",
       "12411  comment  im0026o        2qk5q  climateskeptics           False   \n",
       "\n",
       "       created_utc                                          permalink  \\\n",
       "218     1661983952  https://old.reddit.com/r/climateskeptics/comme...   \n",
       "441     1661978410  https://old.reddit.com/r/climateskeptics/comme...   \n",
       "1025    1661964273  https://old.reddit.com/r/climateskeptics/comme...   \n",
       "1095    1661962830  https://old.reddit.com/r/climateskeptics/comme...   \n",
       "1292    1661957784  https://old.reddit.com/r/climateskeptics/comme...   \n",
       "...            ...                                                ...   \n",
       "11426   1661644739  https://old.reddit.com/r/climateskeptics/comme...   \n",
       "11444   1661643881  https://old.reddit.com/r/climateskeptics/comme...   \n",
       "12336   1661609774  https://old.reddit.com/r/climateskeptics/comme...   \n",
       "12340   1661609657  https://old.reddit.com/r/climateskeptics/comme...   \n",
       "12411   1661606791  https://old.reddit.com/r/climateskeptics/comme...   \n",
       "\n",
       "                                                    body  sentiment  score  \\\n",
       "218    Although the film crew swore up and down they ...     0.4841      5   \n",
       "441    That is entirely what the other papers say.  I...     0.8432      1   \n",
       "1025   Climate change will always exist and always ha...     0.0000      1   \n",
       "1095   The biggest problem is that the main water rig...    -0.4878      1   \n",
       "1292   Are you suggesting some conspiracy by NOAA to ...     0.8990      0   \n",
       "...                                                  ...        ...    ...   \n",
       "11426  Climate change is like Long COVID. They blame ...     0.0258      1   \n",
       "11444  No, but climate change policies definitely did...    -0.6956      2   \n",
       "12336  Fair but even smaller ponds and streams are be...     0.1655      1   \n",
       "12340  Are you so lacking in any integrity whatsoever...     0.9068     -1   \n",
       "12411  Global cooling was the original “climate chang...    -0.1779      2   \n",
       "\n",
       "                                                   label top_label  \n",
       "218    [{'label': 'fear', 'score': 0.35692259669303894}]      fear  \n",
       "441    [{'label': 'neutral', 'score': 0.8820799589157...   neutral  \n",
       "1025   [{'label': 'neutral', 'score': 0.8541768789291...   neutral  \n",
       "1095   [{'label': 'neutral', 'score': 0.56916344165802}]   neutral  \n",
       "1292   [{'label': 'neutral', 'score': 0.8405239582061...   neutral  \n",
       "...                                                  ...       ...  \n",
       "11426  [{'label': 'anger', 'score': 0.4453723728656769}]     anger  \n",
       "11444  [{'label': 'anger', 'score': 0.8326584696769714}]     anger  \n",
       "12336  [{'label': 'neutral', 'score': 0.6826416850090...   neutral  \n",
       "12340  [{'label': 'disgust', 'score': 0.5141499638557...   disgust  \n",
       "12411   [{'label': 'fear', 'score': 0.4979380965232849}]      fear  \n",
       "\n",
       "[100 rows x 12 columns]"
      ]
     },
     "execution_count": 40,
     "metadata": {},
     "output_type": "execute_result"
    }
   ],
   "source": [
    "df"
   ]
  },
  {
   "attachments": {},
   "cell_type": "markdown",
   "metadata": {},
   "source": [
    "## Save results"
   ]
  },
  {
   "cell_type": "code",
   "execution_count": null,
   "metadata": {},
   "outputs": [],
   "source": [
    "comment_save_path = f\"data/comments_results.csv\"\n",
    "\n",
    "if not os.path.isfile(comment_save_path):\n",
    "    df.to_csv(comment_save_path)\n",
    "    print(\"File saved!\")\n",
    "else: \n",
    "    print(\"Warning file already exists\")"
   ]
  }
 ],
 "metadata": {
  "kernelspec": {
   "display_name": "base",
   "language": "python",
   "name": "python3"
  },
  "language_info": {
   "codemirror_mode": {
    "name": "ipython",
    "version": 3
   },
   "file_extension": ".py",
   "mimetype": "text/x-python",
   "name": "python",
   "nbconvert_exporter": "python",
   "pygments_lexer": "ipython3",
   "version": "3.9.7"
  },
  "orig_nbformat": 4
 },
 "nbformat": 4,
 "nbformat_minor": 2
}
