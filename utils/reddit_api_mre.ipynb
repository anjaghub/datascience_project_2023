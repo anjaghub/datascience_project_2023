{
 "cells": [
  {
   "attachments": {},
   "cell_type": "markdown",
   "metadata": {},
   "source": [
    "# Minimal reproducible example for Reddit API"
   ]
  },
  {
   "attachments": {},
   "cell_type": "markdown",
   "metadata": {},
   "source": [
    "Copied from https://towardsdatascience.com/how-to-use-the-reddit-api-in-python-5e05ddfd1e5c\n",
    "\n",
    "Sign up [here](https://www.reddit.com/prefs/apps), create an app and place a \"credentials.json\" file in data folder with following structure:\n",
    "\n",
    "```\n",
    "{\n",
    "    \"personal_use_script\": APP_CODE,\n",
    "    \"secret\": APP_SECRET,\n",
    "    \"username\": YOUR_USERNAME, \n",
    "    \"password\": YOUR_PASSWORD\n",
    "}\n",
    "```"
   ]
  },
  {
   "cell_type": "code",
   "execution_count": 1,
   "metadata": {},
   "outputs": [],
   "source": [
    "import json\n",
    "import requests\n",
    "import pandas as pd\n",
    "from datetime import datetime"
   ]
  },
  {
   "cell_type": "code",
   "execution_count": 2,
   "metadata": {},
   "outputs": [],
   "source": [
    "# Load credentials data\n",
    "with open(\"../data/credentials.json\") as f:\n",
    "    credentials = json.load(f)\n",
    "\n",
    "# Authenticate API\n",
    "client_auth = requests.auth.HTTPBasicAuth(credentials[\"personal_use_script\"], credentials[\"secret\"])\n",
    "\n",
    "credentials = {\n",
    "    'grant_type': 'password',\n",
    "    'username': credentials[\"username\"],\n",
    "    'password': credentials[\"password\"]\n",
    "}\n",
    "headers = {'User-Agent': 'myBot/0.0.1'}\n",
    "\n",
    "# send authentication request for OAuth token\n",
    "res = requests.post('https://www.reddit.com/api/v1/access_token',\n",
    "                    auth=client_auth, data=credentials, headers=headers)\n",
    "# extract token from response and format correctly\n",
    "token = f\"bearer {res.json()['access_token']}\"\n",
    "# update API headers with authorization (bearer token)\n",
    "headers = {**headers, **{'Authorization': token}}\n",
    "\n",
    "params = {'limit': 100}"
   ]
  },
  {
   "attachments": {},
   "cell_type": "markdown",
   "metadata": {},
   "source": [
    "## First request example (uninteresting)"
   ]
  },
  {
   "cell_type": "code",
   "execution_count": null,
   "metadata": {},
   "outputs": [],
   "source": [
    "# we use this function to convert responses to dataframes\n",
    "def df_from_response(res):\n",
    "    # initialize temp dataframe for batch of data in response\n",
    "    df = pd.DataFrame()\n",
    "\n",
    "    # loop through each post pulled from res and append to df\n",
    "    for post in res.json()['data']['children']:\n",
    "        df = df.append({\n",
    "            'subreddit': post['data']['subreddit'],\n",
    "            'title': post['data']['title'],\n",
    "            'selftext': post['data']['selftext'],\n",
    "            'upvote_ratio': post['data']['upvote_ratio'],\n",
    "            'ups': post['data']['ups'],\n",
    "            'downs': post['data']['downs'],\n",
    "            'score': post['data']['score'],\n",
    "            'link_flair_css_class': post['data']['link_flair_css_class'],\n",
    "            'created_utc': datetime.fromtimestamp(post['data']['created_utc']).strftime('%Y-%m-%dT%H:%M:%SZ'),\n",
    "            'id': post['data']['id'],\n",
    "            'kind': post['kind']\n",
    "        }, ignore_index=True)\n",
    "\n",
    "    return df\n",
    "\n",
    "# initialize dataframe and parameters for pulling data in loop\n",
    "data = pd.DataFrame()\n",
    "\n",
    "# loop through 10 times (returning 1K posts)\n",
    "for i in range(1):\n",
    "    # make request\n",
    "    res = requests.get(\"https://oauth.reddit.com/r/python/new\",\n",
    "                       headers=headers,\n",
    "                       params=params)\n",
    "\n",
    "    # get dataframe from response\n",
    "    new_df = df_from_response(res)\n",
    "    # take the final row (oldest entry)\n",
    "    row = new_df.iloc[len(new_df)-1]\n",
    "    # create fullname\n",
    "    fullname = row['kind'] + '_' + row['id']\n",
    "    # add/update fullname in params\n",
    "    params['after'] = fullname\n",
    "    \n",
    "    # append new_df to data\n",
    "    data = data.append(new_df, ignore_index=True)\n",
    "    \n",
    "res.json()"
   ]
  },
  {
   "attachments": {},
   "cell_type": "markdown",
   "metadata": {},
   "source": [
    "## Getting user data\n",
    "Unfortunately, the full account name is needed and not anonymized version as returned via API"
   ]
  },
  {
   "cell_type": "code",
   "execution_count": 14,
   "metadata": {},
   "outputs": [
    {
     "data": {
      "text/plain": [
       "{'kind': 't2',\n",
       " 'data': {'is_employee': False,\n",
       "  'is_friend': False,\n",
       "  'subreddit': {'default_set': True,\n",
       "   'user_is_contributor': False,\n",
       "   'banner_img': '',\n",
       "   'allowed_media_in_comments': [],\n",
       "   'user_is_banned': False,\n",
       "   'free_form_reports': True,\n",
       "   'community_icon': None,\n",
       "   'show_media': True,\n",
       "   'icon_color': '#FFD635',\n",
       "   'user_is_muted': None,\n",
       "   'display_name': 'u_jorel424',\n",
       "   'header_img': None,\n",
       "   'title': '',\n",
       "   'previous_names': [],\n",
       "   'over_18': False,\n",
       "   'icon_size': [256, 256],\n",
       "   'primary_color': '',\n",
       "   'icon_img': 'https://www.redditstatic.com/avatars/defaults/v2/avatar_default_2.png',\n",
       "   'description': '',\n",
       "   'submit_link_label': '',\n",
       "   'header_size': None,\n",
       "   'restrict_posting': True,\n",
       "   'restrict_commenting': False,\n",
       "   'subscribers': 0,\n",
       "   'submit_text_label': '',\n",
       "   'is_default_icon': True,\n",
       "   'link_flair_position': '',\n",
       "   'display_name_prefixed': 'u/jorel424',\n",
       "   'key_color': '',\n",
       "   'name': 't5_yzgkc',\n",
       "   'is_default_banner': True,\n",
       "   'url': '/user/jorel424/',\n",
       "   'quarantine': False,\n",
       "   'banner_size': None,\n",
       "   'user_is_moderator': False,\n",
       "   'accept_followers': True,\n",
       "   'public_description': '',\n",
       "   'link_flair_enabled': False,\n",
       "   'disable_contributor_requests': False,\n",
       "   'subreddit_type': 'user',\n",
       "   'user_is_subscriber': False},\n",
       "  'snoovatar_size': None,\n",
       "  'awardee_karma': 5250,\n",
       "  'id': '3id90rc2',\n",
       "  'verified': True,\n",
       "  'is_gold': False,\n",
       "  'is_mod': False,\n",
       "  'awarder_karma': 0,\n",
       "  'has_verified_email': True,\n",
       "  'icon_img': 'https://www.redditstatic.com/avatars/defaults/v2/avatar_default_2.png',\n",
       "  'hide_from_robots': False,\n",
       "  'link_karma': 29960,\n",
       "  'pref_show_snoovatar': False,\n",
       "  'is_blocked': False,\n",
       "  'total_karma': 41618,\n",
       "  'accept_chats': False,\n",
       "  'name': 'jorel424',\n",
       "  'created': 1553962702.0,\n",
       "  'created_utc': 1553962702.0,\n",
       "  'snoovatar_img': '',\n",
       "  'comment_karma': 6408,\n",
       "  'accept_followers': True,\n",
       "  'has_subscribed': True,\n",
       "  'accept_pms': True}}"
      ]
     },
     "execution_count": 14,
     "metadata": {},
     "output_type": "execute_result"
    }
   ],
   "source": [
    "# https://github.com/reddit-archive/reddit/wiki/JSON\n",
    "# https://www.reddit.com/dev/api/#GET_user_{username}_{where}\n",
    "\n",
    "#user_example = \"t2_aj1ll\"\n",
    "user_example = \"fk_uni_account\"\n",
    "user_example = \"Forsaken_Citron9931\"\n",
    "user_example = \"jorel424\"\n",
    "\n",
    "res = requests.get(f\"https://oauth.reddit.com/user/{user_example}/about.json\",\n",
    "                    headers=headers,\n",
    "                    params=params)\n",
    "res.json()"
   ]
  },
  {
   "attachments": {},
   "cell_type": "markdown",
   "metadata": {},
   "source": [
    "## Getting post data\n",
    "\n",
    "Includes a lot of different (mainly uninteresting) features for requested post AND comments (with unique but anonymized author ids)"
   ]
  },
  {
   "cell_type": "code",
   "execution_count": 4,
   "metadata": {},
   "outputs": [],
   "source": [
    "# Sample posts\n",
    "# https://old.reddit.com/r/DemocraticSocialism/comments/x2smmw/cities_without_water_is_our_future_the_leaders/\n",
    "# https://old.reddit.com/r/EduWriters/comments/x2slk5/how_to_start_a_climate_change_essay/ # Banned\n",
    "# https://old.reddit.com/r/NoStupidQuestions/comments/x2slxy/sharks_and_climate_change/\n",
    "\n",
    "# Checking posts of same user\n",
    "# https://www.reddit.com/r/ATBGE/comments/12jiij7/vietnamese_brewery_vinaken_makes_a_lager_vinaken/\n",
    "# https://www.reddit.com/r/mildlyinfuriating/comments/12rp9o7/my_genuine_leather_calvin_klein_belt_got_home/\n",
    "# https://www.reddit.com/r/AskSF/comments/o7fujj/best_alcatraz_tour_for_a_first_timer/h30fph1/?context=3\n",
    "# anonymized username stays identical!\n",
    "\n",
    "res = requests.get(f\"https://oauth.reddit.com/r/mildlyinfuriating/comments/12rp9o7\",\n",
    "                    headers=headers,\n",
    "                    params=params)\n",
    "res_json = res.json()"
   ]
  },
  {
   "cell_type": "code",
   "execution_count": 13,
   "metadata": {},
   "outputs": [
    {
     "data": {
      "text/plain": [
       "'jorel424'"
      ]
     },
     "execution_count": 13,
     "metadata": {},
     "output_type": "execute_result"
    }
   ],
   "source": [
    "# Get author\n",
    "res_json[0][\"data\"][\"children\"][0][\"data\"][\"author\"]"
   ]
  },
  {
   "cell_type": "code",
   "execution_count": 49,
   "metadata": {},
   "outputs": [
    {
     "data": {
      "text/plain": [
       "{'Connection': 'keep-alive',\n",
       " 'Content-Length': '2918',\n",
       " 'x-ua-compatible': 'IE=edge',\n",
       " 'content-type': 'application/json; charset=UTF-8',\n",
       " 'expires': '-1',\n",
       " 'cache-control': 'private, s-maxage=0, max-age=0, must-revalidate, no-store',\n",
       " 'x-ratelimit-remaining': '599.0',\n",
       " 'x-ratelimit-used': '1',\n",
       " 'x-ratelimit-reset': '487',\n",
       " 'content-encoding': 'gzip',\n",
       " 'x-moose': 'majestic',\n",
       " 'Accept-Ranges': 'bytes',\n",
       " 'Date': 'Sun, 16 Apr 2023 18:41:53 GMT',\n",
       " 'Via': '1.1 varnish',\n",
       " 'Vary': 'accept-encoding',\n",
       " 'Strict-Transport-Security': 'max-age=31536000; includeSubdomains',\n",
       " 'X-Content-Type-Options': 'nosniff',\n",
       " 'X-Frame-Options': 'SAMEORIGIN',\n",
       " 'X-XSS-Protection': '1; mode=block',\n",
       " 'Set-Cookie': 'loid=000000000800jg427h.2.1679942404000.Z0FBQUFBQmtQRUZ4TUwwVlRDcGhHVkFwZXd2LTZaX0NXa1pZX2w5akhXbDBZZXV0bG9odVNra3JTNXdRbXoydzJUUVNScFYzbVRyaDI5alczdmdOa1pYeFdfa09ESHAwNjBQbGJxaDBwdXNuUG0xc3E2aVBKdlZkTkNkcEpZRVJ6dUpJaE9vVVFvQ1Y; Domain=reddit.com; Max-Age=63071999; Path=/; expires=Tue, 15-Apr-2025 18:41:53 GMT; secure; SameSite=None; Secure, session_tracker=oialnmcgqkqgledocm.0.1681670513160.Z0FBQUFBQmtQRUZ4SnNWOEF5ZUZkYk1UbTZ5eVozM2RIYWJnSTVDemw5NFlGVkhvUzZBY1A5WjhjSFdHbG5RZHRHcTBaOWJZN1ZvMzNrVXVJWGZzVTd4NGxpMGpLVHlCVm9HbHJzdGJaLWRENE4xakYtaHV4QlgtSDlqY0dObXNySDJTazN1Rms5ZUg; Domain=reddit.com; Max-Age=7199; Path=/; expires=Sun, 16-Apr-2023 20:41:53 GMT; secure; SameSite=None; Secure, csv=2; Max-Age=63072000; Domain=.reddit.com; Path=/; Secure; SameSite=None, edgebucket=jZcWXjOUTJVQgfvvtf; Domain=reddit.com; Max-Age=63071999; Path=/;  secure',\n",
       " 'Server': 'snooserv',\n",
       " 'Report-To': '{\"group\": \"w3-reporting-nel\", \"max_age\": 14400, \"include_subdomains\": true,  \"endpoints\": [{ \"url\": \"https://w3-reporting-nel.reddit.com/reports\" }]}, {\"group\": \"w3-reporting\", \"max_age\": 14400, \"include_subdomains\": true, \"endpoints\": [{ \"url\": \"https://w3-reporting.reddit.com/reports\" }]}',\n",
       " 'NEL': '{\"report_to\": \"w3-reporting-nel\", \"max_age\": 14400, \"include_subdomains\": false, \"success_fraction\": 0.2, \"failure_fraction\": 0.2}'}"
      ]
     },
     "execution_count": 49,
     "metadata": {},
     "output_type": "execute_result"
    }
   ],
   "source": [
    "# Check https headers for access limits\n",
    "# https://github.com/reddit-archive/reddit/wiki/API\n",
    "dict(res.headers)#[\"X-Ratelimit-Remaining\"] # FIXME Not available!"
   ]
  }
 ],
 "metadata": {
  "kernelspec": {
   "display_name": "base",
   "language": "python",
   "name": "python3"
  },
  "language_info": {
   "codemirror_mode": {
    "name": "ipython",
    "version": 3
   },
   "file_extension": ".py",
   "mimetype": "text/x-python",
   "name": "python",
   "nbconvert_exporter": "python",
   "pygments_lexer": "ipython3",
   "version": "3.9.7"
  },
  "orig_nbformat": 4
 },
 "nbformat": 4,
 "nbformat_minor": 2
}
