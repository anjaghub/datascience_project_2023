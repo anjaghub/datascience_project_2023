{
 "cells": [
  {
   "attachments": {},
   "cell_type": "markdown",
   "metadata": {},
   "source": [
    "# Reddit Climate Change - Visualization of results\n",
    "\n",
    "Supervision: Prof. Dr. Jan Fabian Ehmke\n",
    "\n",
    "Group members: Britz Luis, Huber Anja, Krause Felix Elias, Preda Yvonne-Nadine\n",
    "\n",
    "Time: Summer term 2023 \n",
    "\n",
    "Data: https://www.kaggle.com/datasets/pavellexyr/the-reddit-climate-change-dataset"
   ]
  },
  {
   "cell_type": "code",
   "execution_count": 1,
   "metadata": {},
   "outputs": [],
   "source": [
    "import pandas as pd\n",
    "import pprint\n",
    "import matplotlib.pyplot as plt\n",
    "import matplotlib.colors as pltc"
   ]
  },
  {
   "cell_type": "code",
   "execution_count": 2,
   "metadata": {},
   "outputs": [],
   "source": [
    "# Corporate Design\n",
    "plt.rc('font', size=14)\n",
    "plt.rcParams[\"figure.figsize\"] = (10,7)\n",
    "plt.rcParams[\"font.family\"] = \"Arial\"\n",
    "cmap = pltc.LinearSegmentedColormap.from_list(\"\", [\"#01353B\", \"#8AE3ED\"])\n",
    "color = \"#006871\""
   ]
  },
  {
   "cell_type": "code",
   "execution_count": 3,
   "metadata": {},
   "outputs": [],
   "source": [
    "df = pd.read_csv(\"data/comments_final_labels.csv\", header=0, index_col=0)"
   ]
  },
  {
   "cell_type": "code",
   "execution_count": 4,
   "metadata": {},
   "outputs": [
    {
     "data": {
      "text/plain": [
       "['18_video_kurzgesagt_videos_channel']"
      ]
     },
     "execution_count": 4,
     "metadata": {},
     "output_type": "execute_result"
    }
   ],
   "source": [
    "[i for i in df.topic_name.unique() if \"kurzgesagt\" in i]"
   ]
  },
  {
   "cell_type": "code",
   "execution_count": 5,
   "metadata": {},
   "outputs": [
    {
     "data": {
      "text/html": [
       "<div>\n",
       "<style scoped>\n",
       "    .dataframe tbody tr th:only-of-type {\n",
       "        vertical-align: middle;\n",
       "    }\n",
       "\n",
       "    .dataframe tbody tr th {\n",
       "        vertical-align: top;\n",
       "    }\n",
       "\n",
       "    .dataframe thead th {\n",
       "        text-align: right;\n",
       "    }\n",
       "</style>\n",
       "<table border=\"1\" class=\"dataframe\">\n",
       "  <thead>\n",
       "    <tr style=\"text-align: right;\">\n",
       "      <th></th>\n",
       "      <th>id</th>\n",
       "      <th>subreddit.name</th>\n",
       "      <th>subreddit.nsfw</th>\n",
       "      <th>created_utc</th>\n",
       "      <th>permalink</th>\n",
       "      <th>sentiment</th>\n",
       "      <th>score</th>\n",
       "      <th>created_date</th>\n",
       "      <th>created_day</th>\n",
       "      <th>created_month</th>\n",
       "      <th>created_year</th>\n",
       "      <th>created_time</th>\n",
       "      <th>topic_number</th>\n",
       "      <th>topic_name</th>\n",
       "      <th>topic_most_used_words</th>\n",
       "      <th>body_clean_full</th>\n",
       "      <th>climate_stance</th>\n",
       "      <th>emotion_small</th>\n",
       "      <th>emotion_large</th>\n",
       "    </tr>\n",
       "  </thead>\n",
       "  <tbody>\n",
       "    <tr>\n",
       "      <th>942960</th>\n",
       "      <td>hqvjk8r</td>\n",
       "      <td>futurology</td>\n",
       "      <td>False</td>\n",
       "      <td>1.641085e+09</td>\n",
       "      <td>https://old.reddit.com/r/Futurology/comments/r...</td>\n",
       "      <td>0.0000</td>\n",
       "      <td>1.0</td>\n",
       "      <td>2022-01-02</td>\n",
       "      <td>2</td>\n",
       "      <td>1</td>\n",
       "      <td>2022</td>\n",
       "      <td>01:04:20</td>\n",
       "      <td>18</td>\n",
       "      <td>18_video_kurzgesagt_videos_channel</td>\n",
       "      <td>video - kurzgesagt - videos - channel - watch ...</td>\n",
       "      <td>People need to watch the Kurzgesagt video on c...</td>\n",
       "      <td>favor</td>\n",
       "      <td>neutral</td>\n",
       "      <td>neutral</td>\n",
       "    </tr>\n",
       "    <tr>\n",
       "      <th>943816</th>\n",
       "      <td>hr3xune</td>\n",
       "      <td>damnthatsinteresting</td>\n",
       "      <td>False</td>\n",
       "      <td>1.641237e+09</td>\n",
       "      <td>https://old.reddit.com/r/Damnthatsinteresting/...</td>\n",
       "      <td>-0.6114</td>\n",
       "      <td>2.0</td>\n",
       "      <td>2022-01-03</td>\n",
       "      <td>3</td>\n",
       "      <td>1</td>\n",
       "      <td>2022</td>\n",
       "      <td>19:13:36</td>\n",
       "      <td>18</td>\n",
       "      <td>18_video_kurzgesagt_videos_channel</td>\n",
       "      <td>video - kurzgesagt - videos - channel - watch ...</td>\n",
       "      <td>As long as everybody runs to the comments and ...</td>\n",
       "      <td>favor</td>\n",
       "      <td>disgust</td>\n",
       "      <td>neutral</td>\n",
       "    </tr>\n",
       "    <tr>\n",
       "      <th>944650</th>\n",
       "      <td>hrc6g0s</td>\n",
       "      <td>intellectualdarkweb</td>\n",
       "      <td>False</td>\n",
       "      <td>1.641379e+09</td>\n",
       "      <td>https://old.reddit.com/r/IntellectualDarkWeb/c...</td>\n",
       "      <td>0.9920</td>\n",
       "      <td>1.0</td>\n",
       "      <td>2022-01-05</td>\n",
       "      <td>5</td>\n",
       "      <td>1</td>\n",
       "      <td>2022</td>\n",
       "      <td>10:30:49</td>\n",
       "      <td>18</td>\n",
       "      <td>18_video_kurzgesagt_videos_channel</td>\n",
       "      <td>video - kurzgesagt - videos - channel - watch ...</td>\n",
       "      <td>;Well either the video gets it right the first...</td>\n",
       "      <td>none</td>\n",
       "      <td>neutral</td>\n",
       "      <td>disapproval</td>\n",
       "    </tr>\n",
       "  </tbody>\n",
       "</table>\n",
       "</div>"
      ],
      "text/plain": [
       "             id        subreddit.name  subreddit.nsfw   created_utc  \\\n",
       "942960  hqvjk8r            futurology           False  1.641085e+09   \n",
       "943816  hr3xune  damnthatsinteresting           False  1.641237e+09   \n",
       "944650  hrc6g0s   intellectualdarkweb           False  1.641379e+09   \n",
       "\n",
       "                                                permalink  sentiment  score  \\\n",
       "942960  https://old.reddit.com/r/Futurology/comments/r...     0.0000    1.0   \n",
       "943816  https://old.reddit.com/r/Damnthatsinteresting/...    -0.6114    2.0   \n",
       "944650  https://old.reddit.com/r/IntellectualDarkWeb/c...     0.9920    1.0   \n",
       "\n",
       "       created_date  created_day  created_month  created_year created_time  \\\n",
       "942960   2022-01-02            2              1          2022     01:04:20   \n",
       "943816   2022-01-03            3              1          2022     19:13:36   \n",
       "944650   2022-01-05            5              1          2022     10:30:49   \n",
       "\n",
       "        topic_number                          topic_name  \\\n",
       "942960            18  18_video_kurzgesagt_videos_channel   \n",
       "943816            18  18_video_kurzgesagt_videos_channel   \n",
       "944650            18  18_video_kurzgesagt_videos_channel   \n",
       "\n",
       "                                    topic_most_used_words  \\\n",
       "942960  video - kurzgesagt - videos - channel - watch ...   \n",
       "943816  video - kurzgesagt - videos - channel - watch ...   \n",
       "944650  video - kurzgesagt - videos - channel - watch ...   \n",
       "\n",
       "                                          body_clean_full climate_stance  \\\n",
       "942960  People need to watch the Kurzgesagt video on c...          favor   \n",
       "943816  As long as everybody runs to the comments and ...          favor   \n",
       "944650  ;Well either the video gets it right the first...           none   \n",
       "\n",
       "       emotion_small emotion_large  \n",
       "942960       neutral       neutral  \n",
       "943816       disgust       neutral  \n",
       "944650       neutral   disapproval  "
      ]
     },
     "execution_count": 5,
     "metadata": {},
     "output_type": "execute_result"
    }
   ],
   "source": [
    "df[[True if \"kurzgesagt\" in i else False for i in df.topic_name]].head(3)"
   ]
  },
  {
   "cell_type": "code",
   "execution_count": 6,
   "metadata": {},
   "outputs": [
    {
     "data": {
      "text/plain": [
       "(1041570, 19)"
      ]
     },
     "execution_count": 6,
     "metadata": {},
     "output_type": "execute_result"
    }
   ],
   "source": [
    "df.shape"
   ]
  },
  {
   "cell_type": "code",
   "execution_count": 7,
   "metadata": {},
   "outputs": [
    {
     "data": {
      "text/plain": [
       "(1033414, 19)"
      ]
     },
     "execution_count": 7,
     "metadata": {},
     "output_type": "execute_result"
    }
   ],
   "source": [
    "df = df[[False if \"political climate\" in i else True for i in df.body_clean_full]]\n",
    "df.shape"
   ]
  },
  {
   "cell_type": "code",
   "execution_count": 8,
   "metadata": {},
   "outputs": [],
   "source": [
    "custom_iterator = iter(df[(df.created_year == 2022) & (df.topic_number == 18)].to_numpy())"
   ]
  },
  {
   "cell_type": "code",
   "execution_count": 9,
   "metadata": {},
   "outputs": [
    {
     "data": {
      "text/html": [
       "<div>\n",
       "<style scoped>\n",
       "    .dataframe tbody tr th:only-of-type {\n",
       "        vertical-align: middle;\n",
       "    }\n",
       "\n",
       "    .dataframe tbody tr th {\n",
       "        vertical-align: top;\n",
       "    }\n",
       "\n",
       "    .dataframe thead th {\n",
       "        text-align: right;\n",
       "    }\n",
       "</style>\n",
       "<table border=\"1\" class=\"dataframe\">\n",
       "  <thead>\n",
       "    <tr style=\"text-align: right;\">\n",
       "      <th></th>\n",
       "      <th>id</th>\n",
       "      <th>subreddit.name</th>\n",
       "      <th>subreddit.nsfw</th>\n",
       "      <th>created_utc</th>\n",
       "      <th>permalink</th>\n",
       "      <th>sentiment</th>\n",
       "      <th>score</th>\n",
       "      <th>created_date</th>\n",
       "      <th>created_day</th>\n",
       "      <th>created_month</th>\n",
       "      <th>created_year</th>\n",
       "      <th>created_time</th>\n",
       "      <th>topic_number</th>\n",
       "      <th>topic_name</th>\n",
       "      <th>topic_most_used_words</th>\n",
       "      <th>body_clean_full</th>\n",
       "      <th>climate_stance</th>\n",
       "      <th>emotion_small</th>\n",
       "      <th>emotion_large</th>\n",
       "    </tr>\n",
       "  </thead>\n",
       "  <tbody>\n",
       "    <tr>\n",
       "      <th>0</th>\n",
       "      <td>c0i14fb</td>\n",
       "      <td>askreddit</td>\n",
       "      <td>False</td>\n",
       "      <td>1.262306e+09</td>\n",
       "      <td>https://old.reddit.com/r/AskReddit/comments/ak...</td>\n",
       "      <td>0.7998</td>\n",
       "      <td>1.0</td>\n",
       "      <td>2010-01-01</td>\n",
       "      <td>1</td>\n",
       "      <td>1</td>\n",
       "      <td>2010</td>\n",
       "      <td>00:34:07</td>\n",
       "      <td>-1</td>\n",
       "      <td>-1_climate_people_global_warming</td>\n",
       "      <td>climate - people - global - warming - just - s...</td>\n",
       "      <td>should be \"San Diego Weatherman has an opinion...</td>\n",
       "      <td>favor</td>\n",
       "      <td>surprise</td>\n",
       "      <td>NaN</td>\n",
       "    </tr>\n",
       "    <tr>\n",
       "      <th>1</th>\n",
       "      <td>c0i195b</td>\n",
       "      <td>worldnews</td>\n",
       "      <td>False</td>\n",
       "      <td>1.262313e+09</td>\n",
       "      <td>https://old.reddit.com/r/worldnews/comments/ak...</td>\n",
       "      <td>0.4754</td>\n",
       "      <td>0.0</td>\n",
       "      <td>2010-01-01</td>\n",
       "      <td>1</td>\n",
       "      <td>1</td>\n",
       "      <td>2010</td>\n",
       "      <td>02:30:18</td>\n",
       "      <td>0</td>\n",
       "      <td>0_people_just_climate_global</td>\n",
       "      <td>people - just - climate - global - don - like ...</td>\n",
       "      <td>Both Iggy and Harper would have marched us int...</td>\n",
       "      <td>favor</td>\n",
       "      <td>fear</td>\n",
       "      <td>neutral</td>\n",
       "    </tr>\n",
       "    <tr>\n",
       "      <th>2</th>\n",
       "      <td>c0i1a0w</td>\n",
       "      <td>environment</td>\n",
       "      <td>False</td>\n",
       "      <td>1.262314e+09</td>\n",
       "      <td>https://old.reddit.com/r/environment/comments/...</td>\n",
       "      <td>0.0242</td>\n",
       "      <td>1.0</td>\n",
       "      <td>2010-01-01</td>\n",
       "      <td>1</td>\n",
       "      <td>1</td>\n",
       "      <td>2010</td>\n",
       "      <td>02:54:40</td>\n",
       "      <td>0</td>\n",
       "      <td>0_people_just_climate_global</td>\n",
       "      <td>people - just - climate - global - don - like ...</td>\n",
       "      <td>A man who though a moderate Tory , has a mixed...</td>\n",
       "      <td>favor</td>\n",
       "      <td>surprise</td>\n",
       "      <td>approval</td>\n",
       "    </tr>\n",
       "  </tbody>\n",
       "</table>\n",
       "</div>"
      ],
      "text/plain": [
       "        id subreddit.name  subreddit.nsfw   created_utc  \\\n",
       "0  c0i14fb      askreddit           False  1.262306e+09   \n",
       "1  c0i195b      worldnews           False  1.262313e+09   \n",
       "2  c0i1a0w    environment           False  1.262314e+09   \n",
       "\n",
       "                                           permalink  sentiment  score  \\\n",
       "0  https://old.reddit.com/r/AskReddit/comments/ak...     0.7998    1.0   \n",
       "1  https://old.reddit.com/r/worldnews/comments/ak...     0.4754    0.0   \n",
       "2  https://old.reddit.com/r/environment/comments/...     0.0242    1.0   \n",
       "\n",
       "  created_date  created_day  created_month  created_year created_time  \\\n",
       "0   2010-01-01            1              1          2010     00:34:07   \n",
       "1   2010-01-01            1              1          2010     02:30:18   \n",
       "2   2010-01-01            1              1          2010     02:54:40   \n",
       "\n",
       "   topic_number                        topic_name  \\\n",
       "0            -1  -1_climate_people_global_warming   \n",
       "1             0      0_people_just_climate_global   \n",
       "2             0      0_people_just_climate_global   \n",
       "\n",
       "                               topic_most_used_words  \\\n",
       "0  climate - people - global - warming - just - s...   \n",
       "1  people - just - climate - global - don - like ...   \n",
       "2  people - just - climate - global - don - like ...   \n",
       "\n",
       "                                     body_clean_full climate_stance  \\\n",
       "0  should be \"San Diego Weatherman has an opinion...          favor   \n",
       "1  Both Iggy and Harper would have marched us int...          favor   \n",
       "2  A man who though a moderate Tory , has a mixed...          favor   \n",
       "\n",
       "  emotion_small emotion_large  \n",
       "0      surprise           NaN  \n",
       "1          fear       neutral  \n",
       "2      surprise      approval  "
      ]
     },
     "execution_count": 9,
     "metadata": {},
     "output_type": "execute_result"
    }
   ],
   "source": [
    "df.head(3)"
   ]
  },
  {
   "cell_type": "code",
   "execution_count": 10,
   "metadata": {},
   "outputs": [
    {
     "name": "stdout",
     "output_type": "stream",
     "text": [
      "hqvjk8r\n",
      "'People need to watch the Kurzgesagt video on climate change.'\n"
     ]
    }
   ],
   "source": [
    "curr = next(custom_iterator)\n",
    "print(curr[0])\n",
    "pprint.pprint(curr[15])\n",
    "# 2013, topic 0, nr. 4"
   ]
  },
  {
   "attachments": {},
   "cell_type": "markdown",
   "metadata": {},
   "source": [
    "## Total category distribution"
   ]
  },
  {
   "cell_type": "code",
   "execution_count": 11,
   "metadata": {},
   "outputs": [
    {
     "data": {
      "text/plain": [
       "<Axes: xlabel='climate_stance'>"
      ]
     },
     "execution_count": 11,
     "metadata": {},
     "output_type": "execute_result"
    },
    {
     "data": {
      "image/png": "[encoded data removed]",
      "text/plain": [
       "<Figure size 432x288 with 1 Axes>"
      ]
     },
     "metadata": {
      "needs_background": "light"
     },
     "output_type": "display_data"
    }
   ],
   "source": [
    "# Plot distribution\n",
    "df.groupby(by=\"climate_stance\").climate_stance.count().sort_values(ascending=False).plot.bar()"
   ]
  },
  {
   "cell_type": "code",
   "execution_count": 12,
   "metadata": {},
   "outputs": [
    {
     "data": {
      "text/plain": [
       "<Axes: xlabel='emotion_small'>"
      ]
     },
     "execution_count": 12,
     "metadata": {},
     "output_type": "execute_result"
    },
    {
     "data": {
      "image/png": "[encoded data removed]",
      "text/plain": [
       "<Figure size 432x288 with 1 Axes>"
      ]
     },
     "metadata": {
      "needs_background": "light"
     },
     "output_type": "display_data"
    }
   ],
   "source": [
    "# Plot distribution\n",
    "df.groupby(by=\"emotion_small\").emotion_small.count().sort_values(ascending=False).plot.bar()"
   ]
  },
  {
   "cell_type": "code",
   "execution_count": 13,
   "metadata": {},
   "outputs": [
    {
     "data": {
      "text/plain": [
       "<Axes: xlabel='emotion_large'>"
      ]
     },
     "execution_count": 13,
     "metadata": {},
     "output_type": "execute_result"
    },
    {
     "data": {
      "image/png": "[encoded data removed]",
      "text/plain": [
       "<Figure size 432x288 with 1 Axes>"
      ]
     },
     "metadata": {
      "needs_background": "light"
     },
     "output_type": "display_data"
    }
   ],
   "source": [
    "# Plot distribution\n",
    "df.groupby(by=\"emotion_large\").emotion_large.count().sort_values(ascending=False).plot.bar()"
   ]
  },
  {
   "cell_type": "code",
   "execution_count": null,
   "metadata": {},
   "outputs": [],
   "source": []
  },
  {
   "attachments": {},
   "cell_type": "markdown",
   "metadata": {},
   "source": [
    "## Category distribution over time"
   ]
  },
  {
   "cell_type": "code",
   "execution_count": 14,
   "metadata": {},
   "outputs": [
    {
     "data": {
      "text/plain": [
       "created_year  emotion_large\n",
       "2010          admiration        182\n",
       "              amusement         129\n",
       "              anger             143\n",
       "              annoyance         431\n",
       "              approval          836\n",
       "                               ... \n",
       "2022          realization      5728\n",
       "              relief             34\n",
       "              remorse           220\n",
       "              sadness           795\n",
       "              surprise          499\n",
       "Name: id, Length: 363, dtype: int64"
      ]
     },
     "execution_count": 14,
     "metadata": {},
     "output_type": "execute_result"
    }
   ],
   "source": [
    "df.groupby(by=[\"created_year\", \"emotion_large\"]).count().id"
   ]
  },
  {
   "cell_type": "code",
   "execution_count": null,
   "metadata": {},
   "outputs": [],
   "source": []
  }
 ],
 "metadata": {
  "kernelspec": {
   "display_name": "base",
   "language": "python",
   "name": "python3"
  },
  "language_info": {
   "codemirror_mode": {
    "name": "ipython",
    "version": 3
   },
   "file_extension": ".py",
   "mimetype": "text/x-python",
   "name": "python",
   "nbconvert_exporter": "python",
   "pygments_lexer": "ipython3",
   "version": "3.9.7"
  },
  "orig_nbformat": 4
 },
 "nbformat": 4,
 "nbformat_minor": 2
}
