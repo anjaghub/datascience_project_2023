{
 "cells": [
  {
   "attachments": {},
   "cell_type": "markdown",
   "metadata": {},
   "source": [
    "# Reddit Climate Change - Data Preparation\n",
    "Supervision: Prof. Dr. Jan Fabian Ehmke\n",
    "\n",
    "Group members: Britz Luis, Huber Anja, Krause Felix Elias, Preda Yvonne-Nadine\n",
    "\n",
    "Time: Summer term 2023 \n",
    "\n",
    "Data: https://www.kaggle.com/datasets/pavellexyr/the-reddit-climate-change-dataset"
   ]
  },
  {
   "cell_type": "code",
   "execution_count": 1,
   "metadata": {},
   "outputs": [],
   "source": [
    "# Loading packages\n",
    "import pandas as pd\n",
    "import matplotlib.pyplot as plt"
   ]
  },
  {
   "attachments": {},
   "cell_type": "markdown",
   "metadata": {},
   "source": [
    "## Load data and pre-processing"
   ]
  },
  {
   "attachments": {},
   "cell_type": "markdown",
   "metadata": {},
   "source": [
    "### Data import"
   ]
  },
  {
   "cell_type": "code",
   "execution_count": 22,
   "metadata": {},
   "outputs": [],
   "source": [
    "# Loading data\n",
    "raw_comments = pd.read_csv('data/the-reddit-climate-change-dataset-comments.csv',nrows=1000)\n",
    "raw_posts = pd.read_csv('data/the-reddit-climate-change-dataset-posts.csv',nrows= 50000)"
   ]
  },
  {
   "attachments": {},
   "cell_type": "markdown",
   "metadata": {},
   "source": [
    "### Empty, removed and deleted entries"
   ]
  },
  {
   "cell_type": "code",
   "execution_count": 23,
   "metadata": {},
   "outputs": [],
   "source": [
    "# Clean post data set from empty posts, removed posts, deleted posts\n",
    "clean_posts = raw_posts.drop(raw_posts[raw_posts['selftext'] == '[removed]'].index)\n",
    "clean_posts = clean_posts.drop(clean_posts[clean_posts['selftext'] == '[deleted]'].index)\n",
    "clean_posts = clean_posts.dropna(subset=['selftext'])"
   ]
  },
  {
   "cell_type": "code",
   "execution_count": 15,
   "metadata": {},
   "outputs": [],
   "source": [
    "# Clean comment dataset from empty comments\n",
    "clean_comments = raw_comments.dropna(subset=['body'], how='all')"
   ]
  },
  {
   "attachments": {},
   "cell_type": "markdown",
   "metadata": {},
   "source": [
    "### Duplicates"
   ]
  },
  {
   "cell_type": "code",
   "execution_count": 4,
   "metadata": {},
   "outputs": [],
   "source": [
    "# Drop duplicates in post and comment dataset\n",
    "clean_posts = clean_posts.drop_duplicates(subset=[\"selftext\",\"type\"])\n",
    "clean_comments = clean_comments.drop_duplicates(subset=[\"body\",\"type\"])"
   ]
  },
  {
   "attachments": {},
   "cell_type": "markdown",
   "metadata": {},
   "source": [
    "### Sort out specific words"
   ]
  },
  {
   "cell_type": "code",
   "execution_count": 5,
   "metadata": {},
   "outputs": [
    {
     "name": "stderr",
     "output_type": "stream",
     "text": [
      "/var/folders/94/kbz524cd32j80_2tm_hwnr780000gn/T/ipykernel_97033/2204490000.py:7: SettingWithCopyWarning: \n",
      "A value is trying to be set on a copy of a slice from a DataFrame.\n",
      "Try using .loc[row_indexer,col_indexer] = value instead\n",
      "\n",
      "See the caveats in the documentation: https://pandas.pydata.org/pandas-docs/stable/user_guide/indexing.html#returning-a-view-versus-a-copy\n",
      "  clean_comments[\"body\"] = clean_comments[\"body\"].str.replace(x, \"\", case=False)\n"
     ]
    }
   ],
   "source": [
    "# Sort out the word climate change in comment and post dataset\n",
    "deleted_words = (\"climate\",\"change\")\n",
    "\n",
    "for x in deleted_words:\n",
    "    clean_posts[\"selftext\"] = clean_posts[\"selftext\"].str.replace(x, \"\", case=False)\n",
    "    clean_posts[\"title\"] = clean_posts[\"title\"].str.replace(x, \"\", case=False)\n",
    "    clean_comments[\"body\"] = clean_comments[\"body\"].str.replace(x, \"\", case=False)"
   ]
  },
  {
   "attachments": {},
   "cell_type": "markdown",
   "metadata": {},
   "source": [
    "### Bots"
   ]
  },
  {
   "cell_type": "code",
   "execution_count": 24,
   "metadata": {},
   "outputs": [],
   "source": [
    "# Sort out bot subreddits in post dataset\n",
    "# It might be the case that we sort out too many comments or posts because not all of these channels have bot created content\n",
    "# But since we have enough data it is better to sort them out completely\n",
    "\n",
    "bot_subreddits = ['bottown2',\n",
    "                  'subredditsummarybot',\n",
    "                  'newsbotbot',\n",
    "                  'blenderbot',\n",
    "                  'wutbotposts',\n",
    "                  'testanimalsupportbot',\n",
    "                  'interfaithbotdialogue',\n",
    "                  'bottowngarden',\n",
    "                  'bottownfriends',\n",
    "                  'bottown22',\n",
    "                  'bottown_polibot',\n",
    "                  'bottown1',\n",
    "                  'bottown',\n",
    "                  'testingground4bots',\n",
    "                  'botterminator',\n",
    "                  'popularnewsbot',\n",
    "                  'twitter_bot',\n",
    "                  'bottalks',\n",
    "                  'u_anticensor_bot',\n",
    "                  'u_yangpolicyinfo_bot',\n",
    "                  'uknewsbyabot',\n",
    "                  'u_userleansbot',\n",
    "                  'talkwithgpt2bots',\n",
    "                  'removalbot',\n",
    "                  'pulsarbot',\n",
    "                  'repostsleuthbot',\n",
    "                  'nwordcountbot',\n",
    "                  'gwcoepbot',\n",
    "                  'modbot_staging',\n",
    "                  'u_commonmisspellingbot',\n",
    "                  'brokentranslatebot',\n",
    "                  'gbpolbot',\n",
    "                  'u_bot4bot',\n",
    "                  'botsrights',\n",
    "                  'botsscrewingup',\n",
    "                  'articlebot',\n",
    "                  'stabbot',\n",
    "                  'bot4bottesting',\n",
    "                  'newsbotmarket',\n",
    "                  'mimeticsbot',\n",
    "                  'airsoft_bot',\n",
    "                  'bottesting',\n",
    "                  'trollabot',\n",
    "                  'trollbot',\n",
    "                  'spacenewsbot',\n",
    "                  'israelnewsbot',\n",
    "                  'newsbiasbot',\n",
    "                  'wikileaksemailbot',\n",
    "                  'thelinkfixerbot',\n",
    "                  'quizzybot',\n",
    "                  'sentimentviewbot',\n",
    "                  'open_bots_test',\n",
    "                  'printrbot',\n",
    "                  'isreactionarybot',\n",
    "                  'foreveralonebots',\n",
    "                  'dogetipbot',\n",
    "                  'havoc_bot',\n",
    "                  'botrequests',\n",
    "                  'autowikibot',\n",
    "                  'atheismbot',\n",
    "                  'webbot']\n",
    "\n",
    "for i in bot_subreddits:\n",
    "    clean_posts = clean_posts[~clean_posts['subreddit.name'].str.contains(i)]"
   ]
  },
  {
   "cell_type": "code",
   "execution_count": null,
   "metadata": {},
   "outputs": [],
   "source": [
    "# Sort out bot subreddits in comment dataset"
   ]
  },
  {
   "attachments": {},
   "cell_type": "markdown",
   "metadata": {},
   "source": [
    "### Convert date and time information"
   ]
  },
  {
   "cell_type": "code",
   "execution_count": 13,
   "metadata": {},
   "outputs": [
    {
     "name": "stderr",
     "output_type": "stream",
     "text": [
      "/var/folders/94/kbz524cd32j80_2tm_hwnr780000gn/T/ipykernel_97033/3622647204.py:8: SettingWithCopyWarning: \n",
      "A value is trying to be set on a copy of a slice from a DataFrame.\n",
      "Try using .loc[row_indexer,col_indexer] = value instead\n",
      "\n",
      "See the caveats in the documentation: https://pandas.pydata.org/pandas-docs/stable/user_guide/indexing.html#returning-a-view-versus-a-copy\n",
      "  clean_comments['created_date'] = pd.to_datetime(clean_comments['created_utc'], utc=True, unit='s').dt.strftime('%Y-%m-%d')\n",
      "/var/folders/94/kbz524cd32j80_2tm_hwnr780000gn/T/ipykernel_97033/3622647204.py:9: SettingWithCopyWarning: \n",
      "A value is trying to be set on a copy of a slice from a DataFrame.\n",
      "Try using .loc[row_indexer,col_indexer] = value instead\n",
      "\n",
      "See the caveats in the documentation: https://pandas.pydata.org/pandas-docs/stable/user_guide/indexing.html#returning-a-view-versus-a-copy\n",
      "  clean_comments['created_day'] = pd.to_datetime(clean_comments['created_utc'], utc=True, unit='s').dt.strftime('%d')\n",
      "/var/folders/94/kbz524cd32j80_2tm_hwnr780000gn/T/ipykernel_97033/3622647204.py:10: SettingWithCopyWarning: \n",
      "A value is trying to be set on a copy of a slice from a DataFrame.\n",
      "Try using .loc[row_indexer,col_indexer] = value instead\n",
      "\n",
      "See the caveats in the documentation: https://pandas.pydata.org/pandas-docs/stable/user_guide/indexing.html#returning-a-view-versus-a-copy\n",
      "  clean_comments['created_month'] = pd.to_datetime(clean_comments['created_utc'], utc=True, unit='s').dt.strftime('%m')\n",
      "/var/folders/94/kbz524cd32j80_2tm_hwnr780000gn/T/ipykernel_97033/3622647204.py:11: SettingWithCopyWarning: \n",
      "A value is trying to be set on a copy of a slice from a DataFrame.\n",
      "Try using .loc[row_indexer,col_indexer] = value instead\n",
      "\n",
      "See the caveats in the documentation: https://pandas.pydata.org/pandas-docs/stable/user_guide/indexing.html#returning-a-view-versus-a-copy\n",
      "  clean_comments['created_year'] = pd.to_datetime(clean_comments['created_utc'], utc=True, unit='s').dt.strftime('%Y')\n",
      "/var/folders/94/kbz524cd32j80_2tm_hwnr780000gn/T/ipykernel_97033/3622647204.py:12: SettingWithCopyWarning: \n",
      "A value is trying to be set on a copy of a slice from a DataFrame.\n",
      "Try using .loc[row_indexer,col_indexer] = value instead\n",
      "\n",
      "See the caveats in the documentation: https://pandas.pydata.org/pandas-docs/stable/user_guide/indexing.html#returning-a-view-versus-a-copy\n",
      "  clean_comments['created_time'] = pd.to_datetime(clean_comments['created_utc'], utc=True, unit='s').dt.strftime('%H:%M:%S')\n"
     ]
    }
   ],
   "source": [
    "# Create a new columns with date and time information\n",
    "clean_posts['created_date'] = pd.to_datetime(clean_posts['created_utc'], utc=True, unit='s').dt.strftime('%Y-%m-%d')\n",
    "clean_posts['created_day'] = pd.to_datetime(clean_posts['created_utc'], utc=True, unit='s').dt.strftime('%d')\n",
    "clean_posts['created_month'] = pd.to_datetime(clean_posts['created_utc'], utc=True, unit='s').dt.strftime('%m')\n",
    "clean_posts['created_year'] = pd.to_datetime(clean_posts['created_utc'], utc=True, unit='s').dt.strftime('%Y')\n",
    "clean_posts['created_time'] = pd.to_datetime(clean_posts['created_utc'], utc=True, unit='s').dt.strftime('%H:%M:%S')\n",
    "\n",
    "clean_comments['created_date'] = pd.to_datetime(clean_comments['created_utc'], utc=True, unit='s').dt.strftime('%Y-%m-%d')\n",
    "clean_comments['created_day'] = pd.to_datetime(clean_comments['created_utc'], utc=True, unit='s').dt.strftime('%d')\n",
    "clean_comments['created_month'] = pd.to_datetime(clean_comments['created_utc'], utc=True, unit='s').dt.strftime('%m')\n",
    "clean_comments['created_year'] = pd.to_datetime(clean_comments['created_utc'], utc=True, unit='s').dt.strftime('%Y')\n",
    "clean_comments['created_time'] = pd.to_datetime(clean_comments['created_utc'], utc=True, unit='s').dt.strftime('%H:%M:%S')"
   ]
  },
  {
   "attachments": {},
   "cell_type": "markdown",
   "metadata": {},
   "source": [
    "### Output file"
   ]
  },
  {
   "cell_type": "code",
   "execution_count": null,
   "metadata": {},
   "outputs": [],
   "source": [
    "# Output CSV file with relevant data"
   ]
  }
 ],
 "metadata": {
  "kernelspec": {
   "display_name": "Python 3",
   "language": "python",
   "name": "python3"
  },
  "language_info": {
   "codemirror_mode": {
    "name": "ipython",
    "version": 3
   },
   "file_extension": ".py",
   "mimetype": "text/x-python",
   "name": "python",
   "nbconvert_exporter": "python",
   "pygments_lexer": "ipython3",
   "version": "3.10.11"
  },
  "orig_nbformat": 4
 },
 "nbformat": 4,
 "nbformat_minor": 2
}
