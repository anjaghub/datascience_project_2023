{
 "cells": [
  {
   "attachments": {},
   "cell_type": "markdown",
   "metadata": {},
   "source": [
    "# Reddit Climate Change - Data Preparation\n",
    "Supervision: Prof. Dr. Jan Fabian Ehmke\n",
    "\n",
    "Group members: Britz Luis, Huber Anja, Krause Felix Elias, Preda Yvonne-Nadine\n",
    "\n",
    "Time: Summer term 2023 \n",
    "\n",
    "Data: https://www.kaggle.com/datasets/pavellexyr/the-reddit-climate-change-dataset"
   ]
  },
  {
   "cell_type": "code",
   "execution_count": 1,
   "metadata": {},
   "outputs": [],
   "source": [
    "# Loading packages\n",
    "import pandas as pd\n",
    "import numpy as np\n",
    "import matplotlib.pyplot as plt\n",
    "import nltk\n",
    "import re\n",
    "import os\n",
    "import matplotlib.pyplot as plt"
   ]
  },
  {
   "cell_type": "code",
   "execution_count": 2,
   "metadata": {},
   "outputs": [],
   "source": [
    "# Loading data\n",
    "raw_comments = pd.read_csv('data/the-reddit-climate-change-dataset-comments.csv')\n",
    "raw_posts = pd.read_csv('data/the-reddit-climate-change-dataset-posts.csv')"
   ]
  },
  {
   "cell_type": "code",
   "execution_count": 5,
   "metadata": {},
   "outputs": [
    {
     "name": "stdout",
     "output_type": "stream",
     "text": [
      "(4600698, 10)\n",
      "(620908, 12)\n"
     ]
    }
   ],
   "source": [
    "print(raw_comments.shape)\n",
    "print(raw_posts.shape)"
   ]
  },
  {
   "cell_type": "code",
   "execution_count": 3,
   "metadata": {},
   "outputs": [
    {
     "data": {
      "text/html": [
       "<div>\n",
       "<style scoped>\n",
       "    .dataframe tbody tr th:only-of-type {\n",
       "        vertical-align: middle;\n",
       "    }\n",
       "\n",
       "    .dataframe tbody tr th {\n",
       "        vertical-align: top;\n",
       "    }\n",
       "\n",
       "    .dataframe thead th {\n",
       "        text-align: right;\n",
       "    }\n",
       "</style>\n",
       "<table border=\"1\" class=\"dataframe\">\n",
       "  <thead>\n",
       "    <tr style=\"text-align: right;\">\n",
       "      <th></th>\n",
       "      <th>type</th>\n",
       "      <th>id</th>\n",
       "      <th>subreddit.id</th>\n",
       "      <th>subreddit.name</th>\n",
       "      <th>subreddit.nsfw</th>\n",
       "      <th>created_utc</th>\n",
       "      <th>permalink</th>\n",
       "      <th>body</th>\n",
       "      <th>sentiment</th>\n",
       "      <th>score</th>\n",
       "    </tr>\n",
       "  </thead>\n",
       "  <tbody>\n",
       "    <tr>\n",
       "      <th>0</th>\n",
       "      <td>comment</td>\n",
       "      <td>imlddn9</td>\n",
       "      <td>2qh3l</td>\n",
       "      <td>news</td>\n",
       "      <td>False</td>\n",
       "      <td>1661990368</td>\n",
       "      <td>https://old.reddit.com/r/news/comments/x2cszk/...</td>\n",
       "      <td>Yeah but what the above commenter is saying is...</td>\n",
       "      <td>0.5719</td>\n",
       "      <td>2</td>\n",
       "    </tr>\n",
       "    <tr>\n",
       "      <th>1</th>\n",
       "      <td>comment</td>\n",
       "      <td>imldbeh</td>\n",
       "      <td>2qn7b</td>\n",
       "      <td>ohio</td>\n",
       "      <td>False</td>\n",
       "      <td>1661990340</td>\n",
       "      <td>https://old.reddit.com/r/Ohio/comments/x2awnp/...</td>\n",
       "      <td>Any comparison of efficiency between solar and...</td>\n",
       "      <td>-0.9877</td>\n",
       "      <td>2</td>\n",
       "    </tr>\n",
       "    <tr>\n",
       "      <th>2</th>\n",
       "      <td>comment</td>\n",
       "      <td>imldado</td>\n",
       "      <td>2qhma</td>\n",
       "      <td>newzealand</td>\n",
       "      <td>False</td>\n",
       "      <td>1661990327</td>\n",
       "      <td>https://old.reddit.com/r/newzealand/comments/x...</td>\n",
       "      <td>I'm honestly waiting for climate change and th...</td>\n",
       "      <td>-0.1143</td>\n",
       "      <td>1</td>\n",
       "    </tr>\n",
       "    <tr>\n",
       "      <th>3</th>\n",
       "      <td>comment</td>\n",
       "      <td>imld6cb</td>\n",
       "      <td>2qi09</td>\n",
       "      <td>sacramento</td>\n",
       "      <td>False</td>\n",
       "      <td>1661990278</td>\n",
       "      <td>https://old.reddit.com/r/Sacramento/comments/x...</td>\n",
       "      <td>Not just Sacramento. It's actually happening a...</td>\n",
       "      <td>0.0000</td>\n",
       "      <td>4</td>\n",
       "    </tr>\n",
       "    <tr>\n",
       "      <th>4</th>\n",
       "      <td>comment</td>\n",
       "      <td>imld0kj</td>\n",
       "      <td>2qh1i</td>\n",
       "      <td>askreddit</td>\n",
       "      <td>False</td>\n",
       "      <td>1661990206</td>\n",
       "      <td>https://old.reddit.com/r/AskReddit/comments/x2...</td>\n",
       "      <td>I think climate change tends to get some peopl...</td>\n",
       "      <td>0.6634</td>\n",
       "      <td>1</td>\n",
       "    </tr>\n",
       "    <tr>\n",
       "      <th>...</th>\n",
       "      <td>...</td>\n",
       "      <td>...</td>\n",
       "      <td>...</td>\n",
       "      <td>...</td>\n",
       "      <td>...</td>\n",
       "      <td>...</td>\n",
       "      <td>...</td>\n",
       "      <td>...</td>\n",
       "      <td>...</td>\n",
       "      <td>...</td>\n",
       "    </tr>\n",
       "    <tr>\n",
       "      <th>4600693</th>\n",
       "      <td>comment</td>\n",
       "      <td>c0i1pd9</td>\n",
       "      <td>2cneq</td>\n",
       "      <td>politics</td>\n",
       "      <td>False</td>\n",
       "      <td>1262349456</td>\n",
       "      <td>https://old.reddit.com/r/politics/comments/akc...</td>\n",
       "      <td>&amp;gt; We have no history - ours goes back only ...</td>\n",
       "      <td>-0.9849</td>\n",
       "      <td>32</td>\n",
       "    </tr>\n",
       "    <tr>\n",
       "      <th>4600694</th>\n",
       "      <td>comment</td>\n",
       "      <td>c0i1hsb</td>\n",
       "      <td>2qh1i</td>\n",
       "      <td>askreddit</td>\n",
       "      <td>False</td>\n",
       "      <td>1262329541</td>\n",
       "      <td>https://old.reddit.com/r/AskReddit/comments/ak...</td>\n",
       "      <td>Changing the oil *filter* every single time yo...</td>\n",
       "      <td>0.7579</td>\n",
       "      <td>3</td>\n",
       "    </tr>\n",
       "    <tr>\n",
       "      <th>4600695</th>\n",
       "      <td>comment</td>\n",
       "      <td>c0i1a0w</td>\n",
       "      <td>2qh1n</td>\n",
       "      <td>environment</td>\n",
       "      <td>False</td>\n",
       "      <td>1262314480</td>\n",
       "      <td>https://old.reddit.com/r/environment/comments/...</td>\n",
       "      <td>A man who though a moderate Tory , has a mixed...</td>\n",
       "      <td>0.0242</td>\n",
       "      <td>1</td>\n",
       "    </tr>\n",
       "    <tr>\n",
       "      <th>4600696</th>\n",
       "      <td>comment</td>\n",
       "      <td>c0i195b</td>\n",
       "      <td>2qh13</td>\n",
       "      <td>worldnews</td>\n",
       "      <td>False</td>\n",
       "      <td>1262313018</td>\n",
       "      <td>https://old.reddit.com/r/worldnews/comments/ak...</td>\n",
       "      <td>Both Iggy and Harper would have marched us int...</td>\n",
       "      <td>0.4754</td>\n",
       "      <td>0</td>\n",
       "    </tr>\n",
       "    <tr>\n",
       "      <th>4600697</th>\n",
       "      <td>comment</td>\n",
       "      <td>c0i14fb</td>\n",
       "      <td>2qh1i</td>\n",
       "      <td>askreddit</td>\n",
       "      <td>False</td>\n",
       "      <td>1262306047</td>\n",
       "      <td>https://old.reddit.com/r/AskReddit/comments/ak...</td>\n",
       "      <td>should be \"San Diego Weatherman has an opinion...</td>\n",
       "      <td>0.7998</td>\n",
       "      <td>1</td>\n",
       "    </tr>\n",
       "  </tbody>\n",
       "</table>\n",
       "<p>4600698 rows × 10 columns</p>\n",
       "</div>"
      ],
      "text/plain": [
       "            type       id subreddit.id subreddit.name  subreddit.nsfw  \\\n",
       "0        comment  imlddn9        2qh3l           news           False   \n",
       "1        comment  imldbeh        2qn7b           ohio           False   \n",
       "2        comment  imldado        2qhma     newzealand           False   \n",
       "3        comment  imld6cb        2qi09     sacramento           False   \n",
       "4        comment  imld0kj        2qh1i      askreddit           False   \n",
       "...          ...      ...          ...            ...             ...   \n",
       "4600693  comment  c0i1pd9        2cneq       politics           False   \n",
       "4600694  comment  c0i1hsb        2qh1i      askreddit           False   \n",
       "4600695  comment  c0i1a0w        2qh1n    environment           False   \n",
       "4600696  comment  c0i195b        2qh13      worldnews           False   \n",
       "4600697  comment  c0i14fb        2qh1i      askreddit           False   \n",
       "\n",
       "         created_utc                                          permalink  \\\n",
       "0         1661990368  https://old.reddit.com/r/news/comments/x2cszk/...   \n",
       "1         1661990340  https://old.reddit.com/r/Ohio/comments/x2awnp/...   \n",
       "2         1661990327  https://old.reddit.com/r/newzealand/comments/x...   \n",
       "3         1661990278  https://old.reddit.com/r/Sacramento/comments/x...   \n",
       "4         1661990206  https://old.reddit.com/r/AskReddit/comments/x2...   \n",
       "...              ...                                                ...   \n",
       "4600693   1262349456  https://old.reddit.com/r/politics/comments/akc...   \n",
       "4600694   1262329541  https://old.reddit.com/r/AskReddit/comments/ak...   \n",
       "4600695   1262314480  https://old.reddit.com/r/environment/comments/...   \n",
       "4600696   1262313018  https://old.reddit.com/r/worldnews/comments/ak...   \n",
       "4600697   1262306047  https://old.reddit.com/r/AskReddit/comments/ak...   \n",
       "\n",
       "                                                      body  sentiment  score  \n",
       "0        Yeah but what the above commenter is saying is...     0.5719      2  \n",
       "1        Any comparison of efficiency between solar and...    -0.9877      2  \n",
       "2        I'm honestly waiting for climate change and th...    -0.1143      1  \n",
       "3        Not just Sacramento. It's actually happening a...     0.0000      4  \n",
       "4        I think climate change tends to get some peopl...     0.6634      1  \n",
       "...                                                    ...        ...    ...  \n",
       "4600693  &gt; We have no history - ours goes back only ...    -0.9849     32  \n",
       "4600694  Changing the oil *filter* every single time yo...     0.7579      3  \n",
       "4600695  A man who though a moderate Tory , has a mixed...     0.0242      1  \n",
       "4600696  Both Iggy and Harper would have marched us int...     0.4754      0  \n",
       "4600697  should be \"San Diego Weatherman has an opinion...     0.7998      1  \n",
       "\n",
       "[4600698 rows x 10 columns]"
      ]
     },
     "execution_count": 3,
     "metadata": {},
     "output_type": "execute_result"
    }
   ],
   "source": [
    "raw_comments"
   ]
  },
  {
   "cell_type": "code",
   "execution_count": 7,
   "metadata": {},
   "outputs": [
    {
     "data": {
      "text/plain": [
       "111482"
      ]
     },
     "execution_count": 7,
     "metadata": {},
     "output_type": "execute_result"
    }
   ],
   "source": [
    "raw_comments[\"post_id\"] = [i.split(\"/\")[6] for i in raw_comments.permalink]\n",
    "\n",
    "comments_post_id_set = set(raw_comments.post_id)\n",
    "post_post_id_set = set(raw_posts.id)\n",
    "\n",
    "len(comments_post_id_set & post_post_id_set)\n",
    "# For 111.482 (of 620.908) out of all posts there is at least one comment -> approx. 18%"
   ]
  },
  {
   "attachments": {},
   "cell_type": "markdown",
   "metadata": {},
   "source": [
    "## Create bottown2 sample"
   ]
  },
  {
   "cell_type": "code",
   "execution_count": 11,
   "metadata": {},
   "outputs": [
    {
     "name": "stdout",
     "output_type": "stream",
     "text": [
      "Warning file already exists\n",
      "Warning file already exists\n"
     ]
    }
   ],
   "source": [
    "# Save samples\n",
    "sample_comments = raw_comments[raw_comments[\"subreddit.name\"] == \"bottown2\"]\n",
    "sample_posts = raw_posts[raw_posts[\"subreddit.name\"] == \"bottown2\"]\n",
    "\n",
    "if not os.path.isfile(\"data/bottown_sample_comments.csv\"):\n",
    "    sample_comments.to_csv(\"data/bottown_sample_comments.csv\")\n",
    "else: \n",
    "    print(\"Warning file already exists\")\n",
    "\n",
    "if not os.path.isfile(\"data/bottown_sample_posts.csv\"):\n",
    "    sample_posts.to_csv(\"data/bottown_sample_posts.csv\")\n",
    "else: \n",
    "    print(\"Warning file already exists\")"
   ]
  },
  {
   "cell_type": "code",
   "execution_count": 35,
   "metadata": {},
   "outputs": [],
   "source": [
    "# Loading sample\n",
    "sample_comments = pd.read_csv(\"data/bottown_sample_comments.csv\", index_col=0)\n",
    "sample_comments = sample_comments.drop([\"subreddit.id\", \"subreddit.name\"], axis=1)\n",
    "\n",
    "sample_posts = pd.read_csv(\"data/bottown_sample_posts.csv\", index_col=0)\n",
    "sample_posts = sample_posts.drop([\"subreddit.id\", \"subreddit.name\"], axis=1)"
   ]
  },
  {
   "cell_type": "code",
   "execution_count": 50,
   "metadata": {},
   "outputs": [],
   "source": [
    "unique_comments = sample_comments.body.unique()"
   ]
  },
  {
   "cell_type": "code",
   "execution_count": 51,
   "metadata": {},
   "outputs": [
    {
     "data": {
      "text/plain": [
       "1350"
      ]
     },
     "execution_count": 51,
     "metadata": {},
     "output_type": "execute_result"
    }
   ],
   "source": [
    "sum([1 if \"Berni\" in i else 0 for i in unique_comments])"
   ]
  },
  {
   "cell_type": "code",
   "execution_count": 38,
   "metadata": {},
   "outputs": [],
   "source": [
    "sample_comments[\"post_id\"] = [i.split(\"/\")[6] for i in sample_comments.permalink]"
   ]
  },
  {
   "cell_type": "code",
   "execution_count": 52,
   "metadata": {},
   "outputs": [
    {
     "data": {
      "text/plain": [
       "6"
      ]
     },
     "execution_count": 52,
     "metadata": {},
     "output_type": "execute_result"
    }
   ],
   "source": [
    "comments_post_id_set = set(sample_comments.post_id)\n",
    "post_post_id_set = set(sample_posts.id)\n",
    "\n",
    "len(comments_post_id_set & post_post_id_set)"
   ]
  },
  {
   "cell_type": "code",
   "execution_count": null,
   "metadata": {},
   "outputs": [],
   "source": []
  },
  {
   "attachments": {},
   "cell_type": "markdown",
   "metadata": {},
   "source": [
    "## Merging of both dataframes"
   ]
  },
  {
   "cell_type": "code",
   "execution_count": null,
   "metadata": {},
   "outputs": [],
   "source": []
  },
  {
   "cell_type": "code",
   "execution_count": null,
   "metadata": {},
   "outputs": [],
   "source": []
  }
 ],
 "metadata": {
  "kernelspec": {
   "display_name": "Python 3",
   "language": "python",
   "name": "python3"
  },
  "language_info": {
   "codemirror_mode": {
    "name": "ipython",
    "version": 3
   },
   "file_extension": ".py",
   "mimetype": "text/x-python",
   "name": "python",
   "nbconvert_exporter": "python",
   "pygments_lexer": "ipython3",
   "version": "3.9.7"
  },
  "orig_nbformat": 4
 },
 "nbformat": 4,
 "nbformat_minor": 2
}
